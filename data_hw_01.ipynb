{
  "nbformat": 4,
  "nbformat_minor": 0,
  "metadata": {
    "colab": {
      "provenance": [],
      "authorship_tag": "ABX9TyNAUz8I71YNpdL6n6UQVP02",
      "include_colab_link": true
    },
    "kernelspec": {
      "name": "python3",
      "display_name": "Python 3"
    },
    "language_info": {
      "name": "python"
    }
  },
  "cells": [
    {
      "cell_type": "markdown",
      "metadata": {
        "id": "view-in-github",
        "colab_type": "text"
      },
      "source": [
        "<a href=\"https://colab.research.google.com/github/Matajur/data/blob/main/data_hw_01.ipynb\" target=\"_parent\"><img src=\"https://colab.research.google.com/assets/colab-badge.svg\" alt=\"Open In Colab\"/></a>"
      ]
    },
    {
      "cell_type": "code",
      "execution_count": 89,
      "metadata": {
        "id": "U4RCz5SpZA4-"
      },
      "outputs": [],
      "source": [
        "import numpy as np\n",
        "\n",
        "A = 1\n",
        "B = A + 10\n",
        "C = A + 100\n",
        "D = A + 50"
      ]
    },
    {
      "cell_type": "code",
      "source": [
        "# task 01\n",
        "a = np.arange(A, B)\n",
        "print(a)"
      ],
      "metadata": {
        "colab": {
          "base_uri": "https://localhost:8080/"
        },
        "id": "e5xQU2Gu2PeM",
        "outputId": "bfd98fd8-eb97-46d9-aee9-dd9545820a73"
      },
      "execution_count": 100,
      "outputs": [
        {
          "output_type": "stream",
          "name": "stdout",
          "text": [
            "[ 1  2  3  4  5  6  7  8  9 10]\n"
          ]
        }
      ]
    },
    {
      "cell_type": "code",
      "source": [
        "# task 02\n",
        "b = np.zeros((3,3), dtype=int)\n",
        "print(b)"
      ],
      "metadata": {
        "colab": {
          "base_uri": "https://localhost:8080/"
        },
        "id": "oc3oOrHbt2oL",
        "outputId": "e2040a9e-0f34-4fd5-bc37-cfc0c3ac025d"
      },
      "execution_count": 8,
      "outputs": [
        {
          "output_type": "stream",
          "name": "stdout",
          "text": [
            "[[0 0 0]\n",
            " [0 0 0]\n",
            " [0 0 0]]\n"
          ]
        }
      ]
    },
    {
      "cell_type": "code",
      "source": [
        "# task 03\n",
        "c = np.random.randint(A, B, size=(5, 5))\n",
        "print(c)"
      ],
      "metadata": {
        "colab": {
          "base_uri": "https://localhost:8080/"
        },
        "id": "Dqrgu-Sl0RoM",
        "outputId": "d483299e-4710-40e0-953a-2c928e6b7a1a"
      },
      "execution_count": 99,
      "outputs": [
        {
          "output_type": "stream",
          "name": "stdout",
          "text": [
            "[[ 9 10  6  3  8]\n",
            " [ 1  2  7  7  9]\n",
            " [ 9  5  3  8 10]\n",
            " [10  3 10  6  1]\n",
            " [ 7  5  3  8  8]]\n"
          ]
        }
      ]
    },
    {
      "cell_type": "code",
      "source": [
        "# task 04\n",
        "d = np.random.random((4, 4))\n",
        "print(d)"
      ],
      "metadata": {
        "colab": {
          "base_uri": "https://localhost:8080/"
        },
        "id": "9h1nf47j9o6J",
        "outputId": "edce66f3-7999-4c14-d31a-93a16fabde7f"
      },
      "execution_count": 17,
      "outputs": [
        {
          "output_type": "stream",
          "name": "stdout",
          "text": [
            "[[0.77184038 0.34989376 0.42992279 0.26349764]\n",
            " [0.72807326 0.16666397 0.70781741 0.26986698]\n",
            " [0.8998674  0.66122584 0.21002984 0.78171485]\n",
            " [0.63254402 0.62674144 0.88541952 0.25010956]]\n"
          ]
        }
      ]
    },
    {
      "cell_type": "code",
      "source": [
        "# task 05\n",
        "e = np.random.randint(A, B, size=5)\n",
        "f = np.random.randint(A, B, size=5)\n",
        "print(e, f)\n",
        "print(e + f)\n",
        "print(e - f)\n",
        "print(e * f)"
      ],
      "metadata": {
        "colab": {
          "base_uri": "https://localhost:8080/"
        },
        "id": "MsyBelM1-VVi",
        "outputId": "129b8fed-8eb5-4f84-ac3a-fd4248a69ce5"
      },
      "execution_count": 98,
      "outputs": [
        {
          "output_type": "stream",
          "name": "stdout",
          "text": [
            "[1 6 1 7 6] [8 3 1 9 8]\n",
            "[ 9  9  2 16 14]\n",
            "[-7  3  0 -2 -2]\n",
            "[ 8 18  1 63 48]\n"
          ]
        }
      ]
    },
    {
      "cell_type": "code",
      "source": [
        "# task 06\n",
        "g = np.random.randint(A, B, size=7)\n",
        "h = np.random.randint(A, B, size=7)\n",
        "print(g, h)\n",
        "print(np.dot(g, h))"
      ],
      "metadata": {
        "colab": {
          "base_uri": "https://localhost:8080/"
        },
        "id": "D5D_fiu3AvhF",
        "outputId": "bfe6631a-8900-424d-cefc-a5de62ce4890"
      },
      "execution_count": 97,
      "outputs": [
        {
          "output_type": "stream",
          "name": "stdout",
          "text": [
            "[9 7 2 6 9 2 9] [ 6  2  8 10  6  8  7]\n",
            "277\n"
          ]
        }
      ]
    },
    {
      "cell_type": "code",
      "source": [
        "# task 07\n",
        "i = np.random.randint(A, B, size=(2, 2))\n",
        "j = np.random.randint(A, B, size=(2, 3))\n",
        "print(i, j)\n",
        "print(i.shape, j.shape) # (2, 2) (2, 3)\n",
        "print(i.size, j.size) # 4 6\n",
        "print(np.dot(i, j))"
      ],
      "metadata": {
        "colab": {
          "base_uri": "https://localhost:8080/"
        },
        "id": "sdqdNa3JBZRm",
        "outputId": "a9225d22-5444-421f-e900-7de3005ef3f2"
      },
      "execution_count": 96,
      "outputs": [
        {
          "output_type": "stream",
          "name": "stdout",
          "text": [
            "[[ 2 10]\n",
            " [ 4  6]] [[8 5 6]\n",
            " [9 6 3]]\n",
            "(2, 2) (2, 3)\n",
            "4 6\n",
            "[[106  70  42]\n",
            " [ 86  56  42]]\n"
          ]
        }
      ]
    },
    {
      "cell_type": "code",
      "source": [
        "# task 08\n",
        "k = np.random.randint(A, B, size=(3, 3))\n",
        "print(k)\n",
        "print(np.linalg.inv(k))"
      ],
      "metadata": {
        "colab": {
          "base_uri": "https://localhost:8080/"
        },
        "id": "VrbP_zEsIFfB",
        "outputId": "2f0b599b-3eb5-422c-d3a7-a826fc54b48f"
      },
      "execution_count": 95,
      "outputs": [
        {
          "output_type": "stream",
          "name": "stdout",
          "text": [
            "[[10  5  2]\n",
            " [ 9  4  2]\n",
            " [ 8  4  8]]\n",
            "[[-0.75     1.      -0.0625 ]\n",
            " [ 1.75    -2.       0.0625 ]\n",
            " [-0.125    0.       0.15625]]\n"
          ]
        }
      ]
    },
    {
      "cell_type": "code",
      "source": [
        "# task 09\n",
        "l = np.random.random((4, 4))\n",
        "print(l)\n",
        "print(l.T)"
      ],
      "metadata": {
        "colab": {
          "base_uri": "https://localhost:8080/"
        },
        "id": "p11-0_GdIdaH",
        "outputId": "9fec1b06-b94c-4bdb-f97b-d1d3ef7b486e"
      },
      "execution_count": 46,
      "outputs": [
        {
          "output_type": "stream",
          "name": "stdout",
          "text": [
            "[[0.54572621 0.50542249 0.66434084 0.05047001]\n",
            " [0.6477022  0.60814061 0.00418285 0.04503934]\n",
            " [0.69105839 0.18921988 0.03844949 0.90052799]\n",
            " [0.92382955 0.30233355 0.27141856 0.50877745]]\n",
            "[[0.54572621 0.6477022  0.69105839 0.92382955]\n",
            " [0.50542249 0.60814061 0.18921988 0.30233355]\n",
            " [0.66434084 0.00418285 0.03844949 0.27141856]\n",
            " [0.05047001 0.04503934 0.90052799 0.50877745]]\n"
          ]
        }
      ]
    },
    {
      "cell_type": "code",
      "source": [
        "# task 10\n",
        "m = np.random.randint(A, B, size=(3, 4))\n",
        "n = np.random.randint(A, B, size=4)\n",
        "print(m, n)\n",
        "print(m.shape, n.shape) # (2, 4) (4,)\n",
        "print(m.size, n.size) # 12 4\n",
        "print(np.dot(m, n))"
      ],
      "metadata": {
        "colab": {
          "base_uri": "https://localhost:8080/"
        },
        "id": "6akt-C5qJgTO",
        "outputId": "5cba7b35-f3c7-4da7-c109-318f9d78c9a9"
      },
      "execution_count": 94,
      "outputs": [
        {
          "output_type": "stream",
          "name": "stdout",
          "text": [
            "[[ 9  8  7 10]\n",
            " [ 2  4  9  8]\n",
            " [ 2  5  4  8]] [2 5 5 2]\n",
            "(3, 4) (4,)\n",
            "12 4\n",
            "[113  85  65]\n"
          ]
        }
      ]
    },
    {
      "cell_type": "code",
      "source": [
        "# task 11\n",
        "o = np.random.random((2, 3))\n",
        "p = np.random.random(3)\n",
        "print(o, p)\n",
        "print(o.shape, p.shape) # (2, 3) (3,)\n",
        "print(o.size, p.size) # 6 3\n",
        "print(np.dot(o, p))"
      ],
      "metadata": {
        "colab": {
          "base_uri": "https://localhost:8080/"
        },
        "id": "NkQrHeA2FWx7",
        "outputId": "50cba792-f808-4ae9-ef40-4f67fa6fb9dd"
      },
      "execution_count": 93,
      "outputs": [
        {
          "output_type": "stream",
          "name": "stdout",
          "text": [
            "[[0.96613127 0.34623442 0.32146322]\n",
            " [0.68195021 0.33505788 0.68849042]] [0.16678609 0.96946709 0.12998621]\n",
            "(2, 3) (3,)\n",
            "6 3\n",
            "[0.53858593 0.52806166]\n"
          ]
        }
      ]
    },
    {
      "cell_type": "code",
      "source": [
        "# task 12\n",
        "q = np.random.randint(A, B, size=(2, 2))\n",
        "r = np.random.randint(A, B, size=(2, 2))\n",
        "print(q, r)\n",
        "print(q * r)"
      ],
      "metadata": {
        "colab": {
          "base_uri": "https://localhost:8080/"
        },
        "id": "ERCH7vVSFa_o",
        "outputId": "a17cee66-e94f-456c-c11c-4af54709e915"
      },
      "execution_count": 92,
      "outputs": [
        {
          "output_type": "stream",
          "name": "stdout",
          "text": [
            "[[3 4]\n",
            " [6 7]] [[5 8]\n",
            " [6 9]]\n",
            "[[15 32]\n",
            " [36 63]]\n"
          ]
        }
      ]
    },
    {
      "cell_type": "code",
      "source": [
        "# task 13\n",
        "s = np.random.randint(A, B, size=(2, 2))\n",
        "t = np.random.randint(A, B, size=(2, 2))\n",
        "print(s, t)\n",
        "print(np.dot(s, t))"
      ],
      "metadata": {
        "colab": {
          "base_uri": "https://localhost:8080/"
        },
        "id": "lrnc-dlwFcF2",
        "outputId": "469b0462-ec74-4ff7-ae1f-496c10b9c77a"
      },
      "execution_count": 91,
      "outputs": [
        {
          "output_type": "stream",
          "name": "stdout",
          "text": [
            "[[ 2 10]\n",
            " [ 6  7]] [[ 6 10]\n",
            " [ 4  9]]\n",
            "[[ 52 110]\n",
            " [ 64 123]]\n"
          ]
        }
      ]
    },
    {
      "cell_type": "code",
      "source": [
        "# task 14\n",
        "u = np.random.randint(A, C, size=(5, 5))\n",
        "print(u)\n",
        "print(u.sum())"
      ],
      "metadata": {
        "colab": {
          "base_uri": "https://localhost:8080/"
        },
        "id": "eFtcbNQXFdWC",
        "outputId": "8158f223-23c3-492d-ce28-601010bb36a4"
      },
      "execution_count": 90,
      "outputs": [
        {
          "output_type": "stream",
          "name": "stdout",
          "text": [
            "[[ 5 58 87 93 80]\n",
            " [91 11 34 11 31]\n",
            " [25 61 45 11 95]\n",
            " [14 86 56 13 79]\n",
            " [75 21 55 26 28]]\n",
            "1191\n"
          ]
        }
      ]
    },
    {
      "cell_type": "code",
      "source": [
        "# task 15\n",
        "v = np.random.randint(A, B, size=(4, 4))\n",
        "w = np.random.randint(A, B, size=(4, 4))\n",
        "print(v, w)\n",
        "print(v - w)"
      ],
      "metadata": {
        "colab": {
          "base_uri": "https://localhost:8080/"
        },
        "id": "APmilXnSFefd",
        "outputId": "080c116c-7802-440a-ec8a-7e1873500779"
      },
      "execution_count": 62,
      "outputs": [
        {
          "output_type": "stream",
          "name": "stdout",
          "text": [
            "[[10 10  2  3]\n",
            " [ 8  1  3  6]\n",
            " [ 8  1  4  4]\n",
            " [ 9  7  2  6]] [[4 9 3 2]\n",
            " [3 7 6 2]\n",
            " [2 4 4 9]\n",
            " [8 7 4 2]]\n",
            "[[ 6  1 -1  1]\n",
            " [ 5 -6 -3  4]\n",
            " [ 6 -3  0 -5]\n",
            " [ 1  0 -2  4]]\n"
          ]
        }
      ]
    },
    {
      "cell_type": "code",
      "source": [
        "# task 16\n",
        "x = np.random.random((3, 3))\n",
        "y = np.ones((3, 1), dtype=int)\n",
        "print(x, y)\n",
        "print(np.dot(x, y))"
      ],
      "metadata": {
        "colab": {
          "base_uri": "https://localhost:8080/"
        },
        "id": "A73XJxvgFffU",
        "outputId": "5d2240b8-6344-4e3d-f20d-7f044b1bc131"
      },
      "execution_count": 70,
      "outputs": [
        {
          "output_type": "stream",
          "name": "stdout",
          "text": [
            "[[0.90145859 0.92406561 0.49161879]\n",
            " [0.23583996 0.06872232 0.39819645]\n",
            " [0.01121652 0.0452122  0.19087865]] [[1]\n",
            " [1]\n",
            " [1]]\n",
            "[[2.31714299]\n",
            " [0.70275872]\n",
            " [0.24730736]]\n"
          ]
        }
      ]
    },
    {
      "cell_type": "code",
      "source": [
        "# task 17\n",
        "z = np.random.randint(A, B, size=(3, 4))\n",
        "print(z)\n",
        "print(z**2)"
      ],
      "metadata": {
        "colab": {
          "base_uri": "https://localhost:8080/"
        },
        "id": "LJK6t0aMFg-F",
        "outputId": "ea76a021-d2d8-4b69-b27a-dad1cd419a7f"
      },
      "execution_count": 71,
      "outputs": [
        {
          "output_type": "stream",
          "name": "stdout",
          "text": [
            "[[9 2 9 4]\n",
            " [3 3 3 4]\n",
            " [7 5 9 9]]\n",
            "[[81  4 81 16]\n",
            " [ 9  9  9 16]\n",
            " [49 25 81 81]]\n"
          ]
        }
      ]
    },
    {
      "cell_type": "code",
      "source": [
        "# task 18\n",
        "zz = np.random.randint(A, D, size=(4, 1))\n",
        "print(zz)\n",
        "print(zz**0.5)"
      ],
      "metadata": {
        "colab": {
          "base_uri": "https://localhost:8080/"
        },
        "id": "F0YMTSX4Fh9V",
        "outputId": "049b9f95-f26f-4a82-ee1b-015aba64dc6e"
      },
      "execution_count": 88,
      "outputs": [
        {
          "output_type": "stream",
          "name": "stdout",
          "text": [
            "[[37]\n",
            " [15]\n",
            " [31]\n",
            " [ 8]]\n",
            "[[6.08276253]\n",
            " [3.87298335]\n",
            " [5.56776436]\n",
            " [2.82842712]]\n"
          ]
        }
      ]
    }
  ]
}