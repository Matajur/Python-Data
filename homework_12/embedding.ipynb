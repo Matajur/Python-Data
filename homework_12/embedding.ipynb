{
 "cells": [
  {
   "cell_type": "markdown",
   "metadata": {},
   "source": [
    "# Words Embedding Example"
   ]
  },
  {
   "cell_type": "markdown",
   "metadata": {},
   "source": [
    "## Setup"
   ]
  },
  {
   "cell_type": "markdown",
   "metadata": {},
   "source": [
    "### Import Libraries"
   ]
  },
  {
   "cell_type": "code",
   "execution_count": 1,
   "metadata": {},
   "outputs": [],
   "source": [
    "import matplotlib.pyplot as plt\n",
    "import numpy as np\n",
    "import re"
   ]
  },
  {
   "cell_type": "markdown",
   "metadata": {},
   "source": [
    "### Input Text"
   ]
  },
  {
   "cell_type": "code",
   "execution_count": 2,
   "metadata": {},
   "outputs": [],
   "source": [
    "with open(\"text.txt\", \"r\", encoding=\"utf-8\") as fd:\n",
    "    text = fd.read()"
   ]
  },
  {
   "cell_type": "code",
   "execution_count": 3,
   "metadata": {},
   "outputs": [
    {
     "name": "stdout",
     "output_type": "stream",
     "text": [
      "Length in characters:  2907\n",
      "The Orbiter Discovery, OV-103, is considered eligible for listing in the National Register of Historic Places (NRHP) in the context of the U.S. Space Shuttle Program (1969-2011) under Criterion A in the areas of Space Exploration and Transportation and under Criterion C in the area of Engineering. Because it has achieved significance within the past fifty years, Criteria Consideration G applies. Under Criterion A, Discovery is significant as the oldest of the three extant orbiter vehicles constructed for the Space Shuttle Program (SSP), the longest running American space program to date; she was the third of five orbiters built by NASA. Unlike the Mercury, Gemini, and Apollo programs, the SSP’s emphasis was on cost effectiveness and reusability, and eventually the construction of a space station. Including her maiden voyage (launched August 30, 1984), Discovery flew to space thirty-nine times, more than any of the other four orbiters; she was also the first orbiter to fly twenty missions. She had the honor of being chosen as the Return to Flight vehicle after both the Challenger and Columbia accidents. Discovery was the first shuttle to fly with the redesigned SRBs, a result of the Challenger accident, and the first shuttle to fly with the Phase II and Block I SSME. Discovery also carried the Hubble Space Telescope to orbit and performed two of the five servicing missions to the observatory. She flew the first and last dedicated Department of Defense (DoD) missions, as well as the first unclassified defense-related mission. In addition, Discovery was vital to the construction of the International Space Station (ISS); she flew thirteen of the thirty-seven total missions flown to the station by a U.S. Space Shuttle. She was the first orbiter to dock to the ISS, and the first to perform an exchange of a resident crew. Under Criterion C, Discovery is significant as a feat of engineering. According to Wayne Hale, a flight director from Johnson Space Center, the Space Shuttle orbiter represents a “huge technological leap from expendable rockets and capsules to a reusable, winged, hypersonic, cargo-carrying spacecraft.” Although her base structure followed a conventional aircraft design, she used advanced materials that both minimized her weight for cargo-carrying purposes and featured low thermal expansion ratios, which provided a stable base for her Thermal Protection System (TPS) materials. The Space Shuttle orbiter also featured the first reusable TPS; all previous spaceflight vehicles had a single-use, ablative heat shield. Other notable engineering achievements of the orbiter included the first reusable orbital propulsion system, and the first two-fault-tolerant Integrated Avionics System. As Hale stated, the Space Shuttle remains “the largest, fastest, winged hypersonic aircraft in history,” having regularly flown at twenty-five times the speed of sound.\n",
      "\n",
      "63 unique characters:\n",
      "\n",
      " (),-.01234689;ABCDEFGHIJMNOPRSTUVWabcdefghiklmnoprstuvwxyz’“”\n"
     ]
    }
   ],
   "source": [
    "print(\"Length in characters: \", len(text))\n",
    "print(text)\n",
    "chars = sorted(list(set(text)))\n",
    "print(f\"{len(chars)} unique characters:\")\n",
    "print(\"\".join(chars))"
   ]
  },
  {
   "cell_type": "markdown",
   "metadata": {},
   "source": [
    "## Text Pre-Processing"
   ]
  },
  {
   "cell_type": "markdown",
   "metadata": {},
   "source": [
    "### Text Tokenization"
   ]
  },
  {
   "cell_type": "code",
   "execution_count": 4,
   "metadata": {},
   "outputs": [],
   "source": [
    "def tokenize(text):\n",
    "    pattern = re.compile(r'[A-Za-z]+[\\w^\\']*|[\\w^\\']*[A-Za-z]+[\\w^\\']*')\n",
    "    return pattern.findall(text.lower())"
   ]
  },
  {
   "cell_type": "code",
   "execution_count": 5,
   "metadata": {},
   "outputs": [
    {
     "name": "stdout",
     "output_type": "stream",
     "text": [
      "['the', 'orbiter', 'discovery', 'ov', 'is', 'considered', 'eligible', 'for', 'listing', 'in', 'the', 'national', 'register', 'of', 'historic', 'places', 'nrhp', 'in', 'the', 'context', 'of', 'the', 'u', 's', 'space', 'shuttle', 'program', 'under', 'criterion', 'a', 'in', 'the', 'areas', 'of', 'space', 'exploration', 'and', 'transportation', 'and', 'under', 'criterion', 'c', 'in', 'the', 'area', 'of', 'engineering', 'because', 'it', 'has', 'achieved', 'significance', 'within', 'the', 'past', 'fifty', 'years', 'criteria', 'consideration', 'g', 'applies', 'under', 'criterion', 'a', 'discovery', 'is', 'significant', 'as', 'the', 'oldest', 'of', 'the', 'three', 'extant', 'orbiter', 'vehicles', 'constructed', 'for', 'the', 'space', 'shuttle', 'program', 'ssp', 'the', 'longest', 'running', 'american', 'space', 'program', 'to', 'date', 'she', 'was', 'the', 'third', 'of', 'five', 'orbiters', 'built', 'by', 'nasa', 'unlike', 'the', 'mercury', 'gemini', 'and', 'apollo', 'programs', 'the', 'ssp', 's', 'emphasis', 'was', 'on', 'cost', 'effectiveness', 'and', 'reusability', 'and', 'eventually', 'the', 'construction', 'of', 'a', 'space', 'station', 'including', 'her', 'maiden', 'voyage', 'launched', 'august', 'discovery', 'flew', 'to', 'space', 'thirty', 'nine', 'times', 'more', 'than', 'any', 'of', 'the', 'other', 'four', 'orbiters', 'she', 'was', 'also', 'the', 'first', 'orbiter', 'to', 'fly', 'twenty', 'missions', 'she', 'had', 'the', 'honor', 'of', 'being', 'chosen', 'as', 'the', 'return', 'to', 'flight', 'vehicle', 'after', 'both', 'the', 'challenger', 'and', 'columbia', 'accidents', 'discovery', 'was', 'the', 'first', 'shuttle', 'to', 'fly', 'with', 'the', 'redesigned', 'srbs', 'a', 'result', 'of', 'the', 'challenger', 'accident', 'and', 'the', 'first', 'shuttle', 'to', 'fly', 'with', 'the', 'phase', 'ii', 'and', 'block', 'i', 'ssme', 'discovery', 'also', 'carried', 'the', 'hubble', 'space', 'telescope', 'to', 'orbit', 'and', 'performed', 'two', 'of', 'the', 'five', 'servicing', 'missions', 'to', 'the', 'observatory', 'she', 'flew', 'the', 'first', 'and', 'last', 'dedicated', 'department', 'of', 'defense', 'dod', 'missions', 'as', 'well', 'as', 'the', 'first', 'unclassified', 'defense', 'related', 'mission', 'in', 'addition', 'discovery', 'was', 'vital', 'to', 'the', 'construction', 'of', 'the', 'international', 'space', 'station', 'iss', 'she', 'flew', 'thirteen', 'of', 'the', 'thirty', 'seven', 'total', 'missions', 'flown', 'to', 'the', 'station', 'by', 'a', 'u', 's', 'space', 'shuttle', 'she', 'was', 'the', 'first', 'orbiter', 'to', 'dock', 'to', 'the', 'iss', 'and', 'the', 'first', 'to', 'perform', 'an', 'exchange', 'of', 'a', 'resident', 'crew', 'under', 'criterion', 'c', 'discovery', 'is', 'significant', 'as', 'a', 'feat', 'of', 'engineering', 'according', 'to', 'wayne', 'hale', 'a', 'flight', 'director', 'from', 'johnson', 'space', 'center', 'the', 'space', 'shuttle', 'orbiter', 'represents', 'a', 'huge', 'technological', 'leap', 'from', 'expendable', 'rockets', 'and', 'capsules', 'to', 'a', 'reusable', 'winged', 'hypersonic', 'cargo', 'carrying', 'spacecraft', 'although', 'her', 'base', 'structure', 'followed', 'a', 'conventional', 'aircraft', 'design', 'she', 'used', 'advanced', 'materials', 'that', 'both', 'minimized', 'her', 'weight', 'for', 'cargo', 'carrying', 'purposes', 'and', 'featured', 'low', 'thermal', 'expansion', 'ratios', 'which', 'provided', 'a', 'stable', 'base', 'for', 'her', 'thermal', 'protection', 'system', 'tps', 'materials', 'the', 'space', 'shuttle', 'orbiter', 'also', 'featured', 'the', 'first', 'reusable', 'tps', 'all', 'previous', 'spaceflight', 'vehicles', 'had', 'a', 'single', 'use', 'ablative', 'heat', 'shield', 'other', 'notable', 'engineering', 'achievements', 'of', 'the', 'orbiter', 'included', 'the', 'first', 'reusable', 'orbital', 'propulsion', 'system', 'and', 'the', 'first', 'two', 'fault', 'tolerant', 'integrated', 'avionics', 'system', 'as', 'hale', 'stated', 'the', 'space', 'shuttle', 'remains', 'the', 'largest', 'fastest', 'winged', 'hypersonic', 'aircraft', 'in', 'history', 'having', 'regularly', 'flown', 'at', 'twenty', 'five', 'times', 'the', 'speed', 'of', 'sound']\n",
      "457\n",
      "225\n"
     ]
    }
   ],
   "source": [
    "tokens = tokenize(text)\n",
    "print(tokens)\n",
    "print(len(tokens))  # 457 tokens in total\n",
    "print(len(set(tokens)))  # 225 unique tokens"
   ]
  },
  {
   "cell_type": "markdown",
   "metadata": {},
   "source": [
    "### Mapping of Tokens"
   ]
  },
  {
   "cell_type": "code",
   "execution_count": 6,
   "metadata": {},
   "outputs": [],
   "source": [
    "def mapping(tokens):\n",
    "    word_to_id = {}\n",
    "    id_to_word = {}\n",
    "    \n",
    "    for i, token in enumerate(set(tokens)):\n",
    "        word_to_id[token] = i\n",
    "        id_to_word[i] = token\n",
    "    \n",
    "    return word_to_id, id_to_word"
   ]
  },
  {
   "cell_type": "code",
   "execution_count": 7,
   "metadata": {},
   "outputs": [
    {
     "name": "stdout",
     "output_type": "stream",
     "text": [
      "{'significance': 0, 'listing': 1, 'fly': 2, 'srbs': 3, 'criteria': 4, 'servicing': 5, 'places': 6, 'and': 7, 'three': 8, 'american': 9, 'times': 10, 'missions': 11, 'space': 12, 'in': 13, 'represents': 14, 'international': 15, 'dock': 16, 'spacecraft': 17, 'orbit': 18, 'cargo': 19, 'sound': 20, 'accidents': 21, 'leap': 22, 'context': 23, 'to': 24, 'structure': 25, 'previous': 26, 'orbital': 27, 'transportation': 28, 'extant': 29, 'seven': 30, 'use': 31, 'remains': 32, 'flown': 33, 'voyage': 34, 'had': 35, 'fastest': 36, 'return': 37, 'integrated': 38, 'crew': 39, 'defense': 40, 'tps': 41, 'provided': 42, 'the': 43, 'followed': 44, 'base': 45, 'ii': 46, 'station': 47, 'which': 48, 'national': 49, 's': 50, 'launched': 51, 'was': 52, 'performed': 53, 'iss': 54, 'technological': 55, 'considered': 56, 'carrying': 57, 'than': 58, 'both': 59, 'carried': 60, 'criterion': 61, 'gemini': 62, 'fault': 63, 'with': 64, 'chosen': 65, 'oldest': 66, 'used': 67, 'nrhp': 68, 'apollo': 69, 'years': 70, 'although': 71, 'register': 72, 'thirteen': 73, 'resident': 74, 'phase': 75, 'ratios': 76, 'system': 77, 'according': 78, 'including': 79, 'i': 80, 'u': 81, 'any': 82, 'low': 83, 'ablative': 84, 'that': 85, 'vital': 86, 'being': 87, 'ov': 88, 'result': 89, 'spaceflight': 90, 'effectiveness': 91, 'having': 92, 'within': 93, 'dedicated': 94, 'more': 95, 'largest': 96, 'feat': 97, 'unlike': 98, 'exchange': 99, 'built': 100, 'stable': 101, 'all': 102, 'at': 103, 'has': 104, 'consideration': 105, 'engineering': 106, 'observatory': 107, 'aircraft': 108, 'shield': 109, 'maiden': 110, 'reusable': 111, 'conventional': 112, 'by': 113, 'single': 114, 'expendable': 115, 'thermal': 116, 'historic': 117, 'construction': 118, 'addition': 119, 'fifty': 120, 'other': 121, 'significant': 122, 'under': 123, 'huge': 124, 'shuttle': 125, 'stated': 126, 'discovery': 127, 'well': 128, 'director': 129, 'emphasis': 130, 'featured': 131, 'mission': 132, 'her': 133, 'achieved': 134, 'constructed': 135, 'hale': 136, 'flight': 137, 'block': 138, 'thirty': 139, 'perform': 140, 'orbiter': 141, 'programs': 142, 'speed': 143, 'orbiters': 144, 'reusability': 145, 'eligible': 146, 'applies': 147, 'also': 148, 'capsules': 149, 'center': 150, 'cost': 151, 'eventually': 152, 'materials': 153, 'tolerant': 154, 'vehicles': 155, 'for': 156, 'regularly': 157, 'included': 158, 'exploration': 159, 'area': 160, 'dod': 161, 'vehicle': 162, 'last': 163, 'total': 164, 'mercury': 165, 'an': 166, 'design': 167, 'third': 168, 'honor': 169, 'flew': 170, 'four': 171, 'longest': 172, 'history': 173, 'winged': 174, 'first': 175, 'program': 176, 'because': 177, 'of': 178, 'is': 179, 'past': 180, 'telescope': 181, 'avionics': 182, 'date': 183, 'johnson': 184, 'columbia': 185, 'redesigned': 186, 'achievements': 187, 'advanced': 188, 'twenty': 189, 'notable': 190, 'it': 191, 'g': 192, 'nine': 193, 'wayne': 194, 'ssme': 195, 'propulsion': 196, 'department': 197, 'hubble': 198, 'weight': 199, 'protection': 200, 'accident': 201, 'unclassified': 202, 'related': 203, 'rockets': 204, 'running': 205, 'c': 206, 'ssp': 207, 'minimized': 208, 'a': 209, 'expansion': 210, 'nasa': 211, 'challenger': 212, 'hypersonic': 213, 'as': 214, 'five': 215, 'she': 216, 'from': 217, 'august': 218, 'purposes': 219, 'heat': 220, 'two': 221, 'after': 222, 'on': 223, 'areas': 224}\n",
      "{0: 'significance', 1: 'listing', 2: 'fly', 3: 'srbs', 4: 'criteria', 5: 'servicing', 6: 'places', 7: 'and', 8: 'three', 9: 'american', 10: 'times', 11: 'missions', 12: 'space', 13: 'in', 14: 'represents', 15: 'international', 16: 'dock', 17: 'spacecraft', 18: 'orbit', 19: 'cargo', 20: 'sound', 21: 'accidents', 22: 'leap', 23: 'context', 24: 'to', 25: 'structure', 26: 'previous', 27: 'orbital', 28: 'transportation', 29: 'extant', 30: 'seven', 31: 'use', 32: 'remains', 33: 'flown', 34: 'voyage', 35: 'had', 36: 'fastest', 37: 'return', 38: 'integrated', 39: 'crew', 40: 'defense', 41: 'tps', 42: 'provided', 43: 'the', 44: 'followed', 45: 'base', 46: 'ii', 47: 'station', 48: 'which', 49: 'national', 50: 's', 51: 'launched', 52: 'was', 53: 'performed', 54: 'iss', 55: 'technological', 56: 'considered', 57: 'carrying', 58: 'than', 59: 'both', 60: 'carried', 61: 'criterion', 62: 'gemini', 63: 'fault', 64: 'with', 65: 'chosen', 66: 'oldest', 67: 'used', 68: 'nrhp', 69: 'apollo', 70: 'years', 71: 'although', 72: 'register', 73: 'thirteen', 74: 'resident', 75: 'phase', 76: 'ratios', 77: 'system', 78: 'according', 79: 'including', 80: 'i', 81: 'u', 82: 'any', 83: 'low', 84: 'ablative', 85: 'that', 86: 'vital', 87: 'being', 88: 'ov', 89: 'result', 90: 'spaceflight', 91: 'effectiveness', 92: 'having', 93: 'within', 94: 'dedicated', 95: 'more', 96: 'largest', 97: 'feat', 98: 'unlike', 99: 'exchange', 100: 'built', 101: 'stable', 102: 'all', 103: 'at', 104: 'has', 105: 'consideration', 106: 'engineering', 107: 'observatory', 108: 'aircraft', 109: 'shield', 110: 'maiden', 111: 'reusable', 112: 'conventional', 113: 'by', 114: 'single', 115: 'expendable', 116: 'thermal', 117: 'historic', 118: 'construction', 119: 'addition', 120: 'fifty', 121: 'other', 122: 'significant', 123: 'under', 124: 'huge', 125: 'shuttle', 126: 'stated', 127: 'discovery', 128: 'well', 129: 'director', 130: 'emphasis', 131: 'featured', 132: 'mission', 133: 'her', 134: 'achieved', 135: 'constructed', 136: 'hale', 137: 'flight', 138: 'block', 139: 'thirty', 140: 'perform', 141: 'orbiter', 142: 'programs', 143: 'speed', 144: 'orbiters', 145: 'reusability', 146: 'eligible', 147: 'applies', 148: 'also', 149: 'capsules', 150: 'center', 151: 'cost', 152: 'eventually', 153: 'materials', 154: 'tolerant', 155: 'vehicles', 156: 'for', 157: 'regularly', 158: 'included', 159: 'exploration', 160: 'area', 161: 'dod', 162: 'vehicle', 163: 'last', 164: 'total', 165: 'mercury', 166: 'an', 167: 'design', 168: 'third', 169: 'honor', 170: 'flew', 171: 'four', 172: 'longest', 173: 'history', 174: 'winged', 175: 'first', 176: 'program', 177: 'because', 178: 'of', 179: 'is', 180: 'past', 181: 'telescope', 182: 'avionics', 183: 'date', 184: 'johnson', 185: 'columbia', 186: 'redesigned', 187: 'achievements', 188: 'advanced', 189: 'twenty', 190: 'notable', 191: 'it', 192: 'g', 193: 'nine', 194: 'wayne', 195: 'ssme', 196: 'propulsion', 197: 'department', 198: 'hubble', 199: 'weight', 200: 'protection', 201: 'accident', 202: 'unclassified', 203: 'related', 204: 'rockets', 205: 'running', 206: 'c', 207: 'ssp', 208: 'minimized', 209: 'a', 210: 'expansion', 211: 'nasa', 212: 'challenger', 213: 'hypersonic', 214: 'as', 215: 'five', 216: 'she', 217: 'from', 218: 'august', 219: 'purposes', 220: 'heat', 221: 'two', 222: 'after', 223: 'on', 224: 'areas'}\n"
     ]
    },
    {
     "data": {
      "text/plain": [
       "225"
      ]
     },
     "execution_count": 7,
     "metadata": {},
     "output_type": "execute_result"
    }
   ],
   "source": [
    "word_to_id, id_to_word = mapping(tokens)\n",
    "print(word_to_id)\n",
    "print(id_to_word)\n",
    "len(word_to_id)"
   ]
  },
  {
   "cell_type": "markdown",
   "metadata": {},
   "source": [
    "### Training Data Generation"
   ]
  },
  {
   "cell_type": "code",
   "execution_count": 8,
   "metadata": {},
   "outputs": [],
   "source": [
    "def concat(*iterables):  # make a generator from 1 or more iterable objects, like a list\n",
    "    for iterable in iterables:\n",
    "        yield from iterable"
   ]
  },
  {
   "cell_type": "code",
   "execution_count": 9,
   "metadata": {},
   "outputs": [],
   "source": [
    "def one_hot_encode(id, vocab_size):\n",
    "    res = [0] * vocab_size\n",
    "    res[id] = 1\n",
    "    return res"
   ]
  },
  {
   "cell_type": "code",
   "execution_count": 10,
   "metadata": {},
   "outputs": [],
   "source": [
    "def generate_training_data(tokens, word_to_id, context_window=2):\n",
    "    X = []\n",
    "    y = []\n",
    "    n_tokens = len(tokens)  # length of dictionary for one hot encoding\n",
    "\n",
    "    for i in range(n_tokens):\n",
    "        idx = concat(\n",
    "            range(max(0, i - context_window), i),\n",
    "            range(i, min(n_tokens, i + context_window + 1)),\n",
    "        )  # idx #0: [0, 1, 2]; idx #1: [0, 1, 2, 3]; idx #2: [0, 1, 2, 3, 4]; idx #3: [1, 2, 3, 4, 5]\n",
    "\n",
    "        for j in idx:\n",
    "            if i == j:\n",
    "                continue\n",
    "            X.append(one_hot_encode(word_to_id[tokens[i]], len(word_to_id)))\n",
    "            y.append(one_hot_encode(word_to_id[tokens[j]], len(word_to_id)))\n",
    "\n",
    "    return np.asarray(X), np.asarray(y)"
   ]
  },
  {
   "cell_type": "code",
   "execution_count": 11,
   "metadata": {},
   "outputs": [],
   "source": [
    "X, y = generate_training_data(tokens, word_to_id)"
   ]
  },
  {
   "cell_type": "code",
   "execution_count": 12,
   "metadata": {},
   "outputs": [
    {
     "name": "stdout",
     "output_type": "stream",
     "text": [
      "[0 0 0 0 0 0 0 0 0 0 0 0 0 0 0 0 0 0 0 0 0 0 0 0 0 0 0 0 0 0 0 0 0 0 0 0 0\n",
      " 0 0 0 0 0 0 1 0 0 0 0 0 0 0 0 0 0 0 0 0 0 0 0 0 0 0 0 0 0 0 0 0 0 0 0 0 0\n",
      " 0 0 0 0 0 0 0 0 0 0 0 0 0 0 0 0 0 0 0 0 0 0 0 0 0 0 0 0 0 0 0 0 0 0 0 0 0\n",
      " 0 0 0 0 0 0 0 0 0 0 0 0 0 0 0 0 0 0 0 0 0 0 0 0 0 0 0 0 0 0 0 0 0 0 0 0 0\n",
      " 0 0 0 0 0 0 0 0 0 0 0 0 0 0 0 0 0 0 0 0 0 0 0 0 0 0 0 0 0 0 0 0 0 0 0 0 0\n",
      " 0 0 0 0 0 0 0 0 0 0 0 0 0 0 0 0 0 0 0 0 0 0 0 0 0 0 0 0 0 0 0 0 0 0 0 0 0\n",
      " 0 0 0] <> id: 43 <> word: the\n",
      "[0 0 0 0 0 0 0 0 0 0 0 0 0 0 0 0 0 0 0 0 0 0 0 0 0 0 0 0 0 0 0 0 0 0 0 0 0\n",
      " 0 0 0 0 0 0 0 0 0 0 0 0 0 0 0 0 0 0 0 0 0 0 0 0 0 0 0 0 0 0 0 0 0 0 0 0 0\n",
      " 0 0 0 0 0 0 0 0 0 0 0 0 0 0 0 0 0 0 0 0 0 0 0 0 0 0 0 0 0 0 0 0 0 0 0 0 0\n",
      " 0 0 0 0 0 0 0 0 0 0 0 0 0 0 0 0 0 0 0 0 0 0 0 0 0 0 0 0 0 0 1 0 0 0 0 0 0\n",
      " 0 0 0 0 0 0 0 0 0 0 0 0 0 0 0 0 0 0 0 0 0 0 0 0 0 0 0 0 0 0 0 0 0 0 0 0 0\n",
      " 0 0 0 0 0 0 0 0 0 0 0 0 0 0 0 0 0 0 0 0 0 0 0 0 0 0 0 0 0 0 0 0 0 0 0 0 0\n",
      " 0 0 0] <> id: 141 <> word: orbiter\n",
      "(1822, 225) (1822, 225)\n"
     ]
    }
   ],
   "source": [
    "# one hot encoded token \"the\", it's #49 in the word_to_id list and #0 in the tokens list\n",
    "print(X[0], \"<> id:\", list(X[0]).index(1), \"<> word:\", id_to_word[list(X[0]).index(1)])\n",
    "# one hot encoded token \"orbiter\" that pairs with \"the\" in the same context window \"The Orbiter Discovery...\"\n",
    "print(y[0], \"<> id:\", list(y[0]).index(1), \"<> word:\", id_to_word[list(y[0]).index(1)])\n",
    "# 1822 - number of pairs of words that can be in the same context window, 225 - the length of word_to_id list\n",
    "print(X.shape, y.shape)"
   ]
  },
  {
   "cell_type": "markdown",
   "metadata": {},
   "source": [
    "## Model Construction"
   ]
  },
  {
   "cell_type": "markdown",
   "metadata": {},
   "source": [
    "### Softmax Activation Function"
   ]
  },
  {
   "cell_type": "code",
   "execution_count": 13,
   "metadata": {},
   "outputs": [],
   "source": [
    "def softmax(X):\n",
    "    res = []\n",
    "    for x in X:\n",
    "        exp = np.exp(x)\n",
    "        res.append(exp / exp.sum())\n",
    "    return res"
   ]
  },
  {
   "cell_type": "markdown",
   "metadata": {},
   "source": [
    "### Random Initialization of the Model"
   ]
  },
  {
   "cell_type": "code",
   "execution_count": 14,
   "metadata": {},
   "outputs": [],
   "source": [
    "def init_network(vocab_size, n_embedding=10):\n",
    "    model = {\n",
    "        \"w1\": np.random.randn(vocab_size, n_embedding),\n",
    "        \"w2\": np.random.randn(n_embedding, vocab_size),\n",
    "    }\n",
    "    return model"
   ]
  },
  {
   "cell_type": "code",
   "execution_count": 15,
   "metadata": {},
   "outputs": [],
   "source": [
    "model = init_network(len(word_to_id))"
   ]
  },
  {
   "cell_type": "markdown",
   "metadata": {},
   "source": [
    "### Forward Single Propagation"
   ]
  },
  {
   "cell_type": "code",
   "execution_count": 16,
   "metadata": {},
   "outputs": [],
   "source": [
    "def forward(model, X, return_cache=True):\n",
    "    cache = {}\n",
    "\n",
    "    cache[\"a1\"] = X @ model[\"w1\"]\n",
    "    cache[\"a2\"] = cache[\"a1\"] @ model[\"w2\"]\n",
    "    cache[\"z\"] = softmax(cache[\"a2\"])\n",
    "\n",
    "    if not return_cache:\n",
    "        return cache[\"z\"]\n",
    "    return cache"
   ]
  },
  {
   "cell_type": "markdown",
   "metadata": {},
   "source": [
    "### Backward Propagation"
   ]
  },
  {
   "cell_type": "code",
   "execution_count": 17,
   "metadata": {},
   "outputs": [],
   "source": [
    "def cross_entropy(z, y):\n",
    "    return - np.sum(np.log(z) * y)"
   ]
  },
  {
   "cell_type": "code",
   "execution_count": 18,
   "metadata": {},
   "outputs": [],
   "source": [
    "def backward(model, X, y, alpha):\n",
    "    cache  = forward(model, X)\n",
    "    da2 = cache[\"z\"] - y\n",
    "    dw2 = cache[\"a1\"].T @ da2\n",
    "    da1 = da2 @ model[\"w2\"].T\n",
    "    dw1 = X.T @ da1\n",
    "    assert(dw2.shape == model[\"w2\"].shape)\n",
    "    assert(dw1.shape == model[\"w1\"].shape)\n",
    "    model[\"w1\"] -= alpha * dw1\n",
    "    model[\"w2\"] -= alpha * dw2\n",
    "    return cross_entropy(cache[\"z\"], y)"
   ]
  },
  {
   "cell_type": "markdown",
   "metadata": {},
   "source": [
    "### Get Word Embeddings"
   ]
  },
  {
   "cell_type": "code",
   "execution_count": 19,
   "metadata": {},
   "outputs": [],
   "source": [
    "def get_embedding(model, word):\n",
    "    try:\n",
    "        idx = word_to_id[word]\n",
    "    except KeyError:\n",
    "        print(\"`word` not in corpus\")\n",
    "    one_hot = one_hot_encode(idx, len(word_to_id))\n",
    "    return forward(model, one_hot)[\"a1\"]"
   ]
  },
  {
   "cell_type": "markdown",
   "metadata": {},
   "source": [
    "## Model Training"
   ]
  },
  {
   "cell_type": "code",
   "execution_count": 20,
   "metadata": {},
   "outputs": [],
   "source": [
    "n_iter = 200\n",
    "learning_rate = 0.01\n",
    "\n",
    "history = [backward(model, X, y, learning_rate) for _ in range(n_iter)]"
   ]
  },
  {
   "cell_type": "code",
   "execution_count": 21,
   "metadata": {},
   "outputs": [
    {
     "data": {
      "image/png": "[encoded data removed]",
      "text/plain": [
       "<Figure size 800x550 with 1 Axes>"
      ]
     },
     "metadata": {},
     "output_type": "display_data"
    }
   ],
   "source": [
    "plt.style.use(\"seaborn-v0_8\")\n",
    "\n",
    "plt.plot(range(len(history)), history, color=\"skyblue\")\n",
    "plt.title(\"Loss History\")\n",
    "plt.xlabel(\"Cycles\")\n",
    "plt.ylabel(\"Loss\")\n",
    "plt.show()"
   ]
  },
  {
   "cell_type": "markdown",
   "metadata": {},
   "source": [
    "### Embedding Example"
   ]
  },
  {
   "cell_type": "code",
   "execution_count": 22,
   "metadata": {},
   "outputs": [
    {
     "name": "stdout",
     "output_type": "stream",
     "text": [
      "[-0.75520607  0.83618476  0.32479676  0.00859846 -0.75395432 -0.44542783\n",
      " -0.45758234  0.53828957 -0.8263322  -1.03309227]\n"
     ]
    }
   ],
   "source": [
    "print(get_embedding(model, \"orbiter\"))"
   ]
  }
 ],
 "metadata": {
  "kernelspec": {
   "display_name": "Python 3",
   "language": "python",
   "name": "python3"
  },
  "language_info": {
   "codemirror_mode": {
    "name": "ipython",
    "version": 3
   },
   "file_extension": ".py",
   "mimetype": "text/x-python",
   "name": "python",
   "nbconvert_exporter": "python",
   "pygments_lexer": "ipython3",
   "version": "3.11.6"
  }
 },
 "nbformat": 4,
 "nbformat_minor": 2
}
