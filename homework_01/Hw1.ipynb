{
  "cells": [
    {
      "cell_type": "markdown",
      "metadata": {
        "colab_type": "text",
        "id": "view-in-github"
      },
      "source": [
        "<a href=\"https://colab.research.google.com/github/Matajur/data/blob/main/data_hw_01.ipynb\" target=\"_parent\"><img src=\"https://colab.research.google.com/assets/colab-badge.svg\" alt=\"Open In Colab\"/></a>"
      ]
    },
    {
      "cell_type": "code",
      "execution_count": 17,
      "metadata": {
        "id": "U4RCz5SpZA4-"
      },
      "outputs": [],
      "source": [
        "import numpy as np\n",
        "\n",
        "A = 1\n",
        "B = A + 10\n",
        "C = A + 100\n",
        "D = A + 50"
      ]
    },
    {
      "cell_type": "markdown",
      "metadata": {},
      "source": [
        "task 01"
      ]
    },
    {
      "cell_type": "code",
      "execution_count": 18,
      "metadata": {
        "colab": {
          "base_uri": "https://localhost:8080/"
        },
        "id": "e5xQU2Gu2PeM",
        "outputId": "bfd98fd8-eb97-46d9-aee9-dd9545820a73"
      },
      "outputs": [
        {
          "name": "stdout",
          "output_type": "stream",
          "text": [
            "[ 1  2  3  4  5  6  7  8  9 10]\n"
          ]
        }
      ],
      "source": [
        "a = np.arange(A, B)\n",
        "print(a)"
      ]
    },
    {
      "cell_type": "markdown",
      "metadata": {},
      "source": [
        "task 02"
      ]
    },
    {
      "cell_type": "code",
      "execution_count": 19,
      "metadata": {
        "colab": {
          "base_uri": "https://localhost:8080/"
        },
        "id": "oc3oOrHbt2oL",
        "outputId": "e2040a9e-0f34-4fd5-bc37-cfc0c3ac025d"
      },
      "outputs": [
        {
          "name": "stdout",
          "output_type": "stream",
          "text": [
            "[[0 0 0]\n",
            " [0 0 0]\n",
            " [0 0 0]]\n"
          ]
        }
      ],
      "source": [
        "b = np.zeros((3,3), dtype=int)\n",
        "print(b)"
      ]
    },
    {
      "cell_type": "markdown",
      "metadata": {},
      "source": [
        "task 03"
      ]
    },
    {
      "cell_type": "code",
      "execution_count": 20,
      "metadata": {
        "colab": {
          "base_uri": "https://localhost:8080/"
        },
        "id": "Dqrgu-Sl0RoM",
        "outputId": "d483299e-4710-40e0-953a-2c928e6b7a1a"
      },
      "outputs": [
        {
          "name": "stdout",
          "output_type": "stream",
          "text": [
            "[[6 2 6 2 6]\n",
            " [7 5 6 9 5]\n",
            " [1 2 9 8 7]\n",
            " [8 7 6 7 9]\n",
            " [9 2 4 9 1]]\n"
          ]
        }
      ],
      "source": [
        "c = np.random.randint(A, B, size=(5, 5))\n",
        "print(c)"
      ]
    },
    {
      "cell_type": "markdown",
      "metadata": {},
      "source": [
        "task 04"
      ]
    },
    {
      "cell_type": "code",
      "execution_count": 21,
      "metadata": {
        "colab": {
          "base_uri": "https://localhost:8080/"
        },
        "id": "9h1nf47j9o6J",
        "outputId": "edce66f3-7999-4c14-d31a-93a16fabde7f"
      },
      "outputs": [
        {
          "name": "stdout",
          "output_type": "stream",
          "text": [
            "[[0.11161147 0.28135187 0.53740465 0.56135322]\n",
            " [0.94740621 0.35027871 0.26494967 0.01224442]\n",
            " [0.87075192 0.27093288 0.74094758 0.31877786]\n",
            " [0.02094567 0.31811131 0.25566814 0.4443395 ]]\n"
          ]
        }
      ],
      "source": [
        "d = np.random.random((4, 4))\n",
        "print(d)"
      ]
    },
    {
      "cell_type": "markdown",
      "metadata": {},
      "source": [
        "task 05"
      ]
    },
    {
      "cell_type": "code",
      "execution_count": 22,
      "metadata": {
        "colab": {
          "base_uri": "https://localhost:8080/"
        },
        "id": "MsyBelM1-VVi",
        "outputId": "129b8fed-8eb5-4f84-ac3a-fd4248a69ce5"
      },
      "outputs": [
        {
          "name": "stdout",
          "output_type": "stream",
          "text": [
            "[4 8 3 5 8] [7 2 5 7 3]\n",
            "[11 10  8 12 11]\n",
            "[-3  6 -2 -2  5]\n",
            "[28 16 15 35 24]\n"
          ]
        }
      ],
      "source": [
        "e = np.random.randint(A, B, size=5)\n",
        "f = np.random.randint(A, B, size=5)\n",
        "print(e, f)\n",
        "print(e + f)\n",
        "print(e - f)\n",
        "print(e * f)"
      ]
    },
    {
      "cell_type": "markdown",
      "metadata": {},
      "source": [
        "task 06"
      ]
    },
    {
      "cell_type": "code",
      "execution_count": 23,
      "metadata": {
        "colab": {
          "base_uri": "https://localhost:8080/"
        },
        "id": "D5D_fiu3AvhF",
        "outputId": "bfe6631a-8900-424d-cefc-a5de62ce4890"
      },
      "outputs": [
        {
          "name": "stdout",
          "output_type": "stream",
          "text": [
            "[6 8 6 1 2 9 7] [ 3  7 10  6  9  7 10]\n",
            "291\n"
          ]
        }
      ],
      "source": [
        "g = np.random.randint(A, B, size=7)\n",
        "h = np.random.randint(A, B, size=7)\n",
        "print(g, h)\n",
        "print(np.dot(g, h))"
      ]
    },
    {
      "cell_type": "markdown",
      "metadata": {},
      "source": [
        "task 07"
      ]
    },
    {
      "cell_type": "code",
      "execution_count": 24,
      "metadata": {
        "colab": {
          "base_uri": "https://localhost:8080/"
        },
        "id": "sdqdNa3JBZRm",
        "outputId": "a9225d22-5444-421f-e900-7de3005ef3f2"
      },
      "outputs": [
        {
          "name": "stdout",
          "output_type": "stream",
          "text": [
            "[[1 2]\n",
            " [6 8]] [[7 7 9]\n",
            " [8 6 4]]\n",
            "(2, 2) (2, 3)\n",
            "4 6\n",
            "[[ 23  19  17]\n",
            " [106  90  86]]\n"
          ]
        }
      ],
      "source": [
        "i = np.random.randint(A, B, size=(2, 2))\n",
        "j = np.random.randint(A, B, size=(2, 3))\n",
        "print(i, j)\n",
        "print(i.shape, j.shape) # (2, 2) (2, 3)\n",
        "print(i.size, j.size) # 4 6\n",
        "print(np.dot(i, j))"
      ]
    },
    {
      "cell_type": "markdown",
      "metadata": {},
      "source": [
        "task 08"
      ]
    },
    {
      "cell_type": "code",
      "execution_count": 25,
      "metadata": {
        "colab": {
          "base_uri": "https://localhost:8080/"
        },
        "id": "VrbP_zEsIFfB",
        "outputId": "2f0b599b-3eb5-422c-d3a7-a826fc54b48f"
      },
      "outputs": [
        {
          "name": "stdout",
          "output_type": "stream",
          "text": [
            "[[ 7  1  5]\n",
            " [ 5  2 10]\n",
            " [ 7  4  1]]\n",
            "[[ 2.22222222e-01 -1.11111111e-01  7.93016446e-18]\n",
            " [-3.80116959e-01  1.63742690e-01  2.63157895e-01]\n",
            " [-3.50877193e-02  1.22807018e-01 -5.26315789e-02]]\n"
          ]
        }
      ],
      "source": [
        "k = np.random.randint(A, B, size=(3, 3))\n",
        "print(k)\n",
        "print(np.linalg.inv(k))"
      ]
    },
    {
      "cell_type": "markdown",
      "metadata": {},
      "source": [
        "task 09"
      ]
    },
    {
      "cell_type": "code",
      "execution_count": 26,
      "metadata": {
        "colab": {
          "base_uri": "https://localhost:8080/"
        },
        "id": "p11-0_GdIdaH",
        "outputId": "9fec1b06-b94c-4bdb-f97b-d1d3ef7b486e"
      },
      "outputs": [
        {
          "name": "stdout",
          "output_type": "stream",
          "text": [
            "[[0.29027475 0.89594458 0.41664094 0.77222053]\n",
            " [0.13292569 0.48609751 0.06308044 0.66618923]\n",
            " [0.62068019 0.59308101 0.81288847 0.57548024]\n",
            " [0.97802642 0.39675247 0.66967219 0.40633293]]\n",
            "[[0.29027475 0.13292569 0.62068019 0.97802642]\n",
            " [0.89594458 0.48609751 0.59308101 0.39675247]\n",
            " [0.41664094 0.06308044 0.81288847 0.66967219]\n",
            " [0.77222053 0.66618923 0.57548024 0.40633293]]\n"
          ]
        }
      ],
      "source": [
        "l = np.random.random((4, 4))\n",
        "print(l)\n",
        "print(l.T)"
      ]
    },
    {
      "cell_type": "markdown",
      "metadata": {},
      "source": [
        "task 10"
      ]
    },
    {
      "cell_type": "code",
      "execution_count": 27,
      "metadata": {
        "colab": {
          "base_uri": "https://localhost:8080/"
        },
        "id": "6akt-C5qJgTO",
        "outputId": "5cba7b35-f3c7-4da7-c109-318f9d78c9a9"
      },
      "outputs": [
        {
          "name": "stdout",
          "output_type": "stream",
          "text": [
            "[[10  1  8  9]\n",
            " [ 8  4  3 10]\n",
            " [ 3  9 10  6]] [5 9 1 4]\n",
            "(3, 4) (4,)\n",
            "12 4\n",
            "[103 119 130]\n"
          ]
        }
      ],
      "source": [
        "m = np.random.randint(A, B, size=(3, 4))\n",
        "n = np.random.randint(A, B, size=4)\n",
        "print(m, n)\n",
        "print(m.shape, n.shape) # (2, 4) (4,)\n",
        "print(m.size, n.size) # 12 4\n",
        "print(np.dot(m, n))"
      ]
    },
    {
      "cell_type": "markdown",
      "metadata": {},
      "source": [
        "task 11"
      ]
    },
    {
      "cell_type": "code",
      "execution_count": 28,
      "metadata": {
        "colab": {
          "base_uri": "https://localhost:8080/"
        },
        "id": "NkQrHeA2FWx7",
        "outputId": "50cba792-f808-4ae9-ef40-4f67fa6fb9dd"
      },
      "outputs": [
        {
          "name": "stdout",
          "output_type": "stream",
          "text": [
            "[[0.9760252  0.14184384 0.65728396]\n",
            " [0.66638134 0.54483415 0.87904792]] [[0.74524039]\n",
            " [0.56205619]\n",
            " [0.94087499]]\n",
            "(2, 3) (3, 1)\n",
            "6 3\n",
            "[[1.42551966]\n",
            " [1.6299159 ]]\n"
          ]
        }
      ],
      "source": [
        "o = np.random.random((2, 3))\n",
        "p = np.random.random((3, 1))\n",
        "print(o, p)\n",
        "print(o.shape, p.shape) # (2, 3) (3, 1)\n",
        "print(o.size, p.size) # 6 3\n",
        "print(np.dot(o, p))"
      ]
    },
    {
      "cell_type": "markdown",
      "metadata": {},
      "source": [
        "task 12"
      ]
    },
    {
      "cell_type": "code",
      "execution_count": 29,
      "metadata": {
        "colab": {
          "base_uri": "https://localhost:8080/"
        },
        "id": "ERCH7vVSFa_o",
        "outputId": "a17cee66-e94f-456c-c11c-4af54709e915"
      },
      "outputs": [
        {
          "name": "stdout",
          "output_type": "stream",
          "text": [
            "[[1 4]\n",
            " [5 4]] [[9 5]\n",
            " [1 7]]\n",
            "[[ 9 20]\n",
            " [ 5 28]]\n"
          ]
        }
      ],
      "source": [
        "q = np.random.randint(A, B, size=(2, 2))\n",
        "r = np.random.randint(A, B, size=(2, 2))\n",
        "print(q, r)\n",
        "print(q * r)"
      ]
    },
    {
      "cell_type": "markdown",
      "metadata": {},
      "source": [
        "task 13"
      ]
    },
    {
      "cell_type": "code",
      "execution_count": 30,
      "metadata": {
        "colab": {
          "base_uri": "https://localhost:8080/"
        },
        "id": "lrnc-dlwFcF2",
        "outputId": "469b0462-ec74-4ff7-ae1f-496c10b9c77a"
      },
      "outputs": [
        {
          "name": "stdout",
          "output_type": "stream",
          "text": [
            "[[3 5]\n",
            " [1 2]] [[ 3  7]\n",
            " [ 3 10]]\n",
            "[[24 71]\n",
            " [ 9 27]]\n"
          ]
        }
      ],
      "source": [
        "s = np.random.randint(A, B, size=(2, 2))\n",
        "t = np.random.randint(A, B, size=(2, 2))\n",
        "print(s, t)\n",
        "print(np.dot(s, t))"
      ]
    },
    {
      "cell_type": "markdown",
      "metadata": {},
      "source": [
        "task 14"
      ]
    },
    {
      "cell_type": "code",
      "execution_count": 31,
      "metadata": {
        "colab": {
          "base_uri": "https://localhost:8080/"
        },
        "id": "eFtcbNQXFdWC",
        "outputId": "8158f223-23c3-492d-ce28-601010bb36a4"
      },
      "outputs": [
        {
          "name": "stdout",
          "output_type": "stream",
          "text": [
            "[[53 23 99 15 56]\n",
            " [ 9 22 54 50 77]\n",
            " [92 91 77 42 14]\n",
            " [64 93 51 20 34]\n",
            " [68 56 49 89 91]]\n",
            "1389\n"
          ]
        }
      ],
      "source": [
        "u = np.random.randint(A, C, size=(5, 5))\n",
        "print(u)\n",
        "print(u.sum())"
      ]
    },
    {
      "cell_type": "markdown",
      "metadata": {},
      "source": [
        "task 15"
      ]
    },
    {
      "cell_type": "code",
      "execution_count": 32,
      "metadata": {
        "colab": {
          "base_uri": "https://localhost:8080/"
        },
        "id": "APmilXnSFefd",
        "outputId": "080c116c-7802-440a-ec8a-7e1873500779"
      },
      "outputs": [
        {
          "name": "stdout",
          "output_type": "stream",
          "text": [
            "[[10  2  5 10]\n",
            " [ 8  4  6  9]\n",
            " [ 2 10  1  8]\n",
            " [ 4  8  5  2]] [[10  8  5  7]\n",
            " [ 3  6 10  6]\n",
            " [ 6 10  7  7]\n",
            " [ 9  2  7 10]]\n",
            "[[ 0 -6  0  3]\n",
            " [ 5 -2 -4  3]\n",
            " [-4  0 -6  1]\n",
            " [-5  6 -2 -8]]\n"
          ]
        }
      ],
      "source": [
        "v = np.random.randint(A, B, size=(4, 4))\n",
        "w = np.random.randint(A, B, size=(4, 4))\n",
        "print(v, w)\n",
        "print(v - w)"
      ]
    },
    {
      "cell_type": "markdown",
      "metadata": {},
      "source": [
        "task 16"
      ]
    },
    {
      "cell_type": "code",
      "execution_count": 33,
      "metadata": {
        "colab": {
          "base_uri": "https://localhost:8080/"
        },
        "id": "A73XJxvgFffU",
        "outputId": "5d2240b8-6344-4e3d-f20d-7f044b1bc131"
      },
      "outputs": [
        {
          "name": "stdout",
          "output_type": "stream",
          "text": [
            "[[0.36527417 0.88631701 0.29432809]\n",
            " [0.4932445  0.03302464 0.40588457]\n",
            " [0.6000137  0.36251808 0.61691985]] [[1]\n",
            " [1]\n",
            " [1]]\n",
            "[[1.54591927]\n",
            " [0.93215371]\n",
            " [1.57945162]]\n"
          ]
        }
      ],
      "source": [
        "x = np.random.random((3, 3))\n",
        "y = np.ones((3, 1), dtype=int)\n",
        "print(x, y)\n",
        "print(np.dot(x, y))"
      ]
    },
    {
      "cell_type": "markdown",
      "metadata": {},
      "source": [
        "task 17"
      ]
    },
    {
      "cell_type": "code",
      "execution_count": 5,
      "metadata": {
        "colab": {
          "base_uri": "https://localhost:8080/"
        },
        "id": "LJK6t0aMFg-F",
        "outputId": "ea76a021-d2d8-4b69-b27a-dad1cd419a7f"
      },
      "outputs": [
        {
          "name": "stdout",
          "output_type": "stream",
          "text": [
            "[[10  2  5]\n",
            " [ 9  6  9]\n",
            " [ 3  1  2]\n",
            " [ 5  6  2]]\n",
            "[[100   4  25]\n",
            " [ 81  36  81]\n",
            " [  9   1   4]\n",
            " [ 25  36   4]]\n"
          ]
        }
      ],
      "source": [
        "z = np.random.randint(A, B, size=(4, 3))\n",
        "print(z)\n",
        "print(z**2)"
      ]
    },
    {
      "cell_type": "markdown",
      "metadata": {},
      "source": [
        "task 18"
      ]
    },
    {
      "cell_type": "code",
      "execution_count": 4,
      "metadata": {
        "colab": {
          "base_uri": "https://localhost:8080/"
        },
        "id": "F0YMTSX4Fh9V",
        "outputId": "049b9f95-f26f-4a82-ee1b-015aba64dc6e"
      },
      "outputs": [
        {
          "name": "stdout",
          "output_type": "stream",
          "text": [
            "[42 13 47 15]\n",
            "[6.4807407  3.60555128 6.8556546  3.87298335]\n"
          ]
        }
      ],
      "source": [
        "zz = np.random.randint(A, D, size=4)\n",
        "print(zz)\n",
        "print(np.sqrt(zz))"
      ]
    }
  ],
  "metadata": {
    "colab": {
      "authorship_tag": "ABX9TyNAUz8I71YNpdL6n6UQVP02",
      "include_colab_link": true,
      "provenance": []
    },
    "kernelspec": {
      "display_name": "Python 3",
      "name": "python3"
    },
    "language_info": {
      "codemirror_mode": {
        "name": "ipython",
        "version": 3
      },
      "file_extension": ".py",
      "mimetype": "text/x-python",
      "name": "python",
      "nbconvert_exporter": "python",
      "pygments_lexer": "ipython3",
      "version": "3.11.4"
    }
  },
  "nbformat": 4,
  "nbformat_minor": 0
}
