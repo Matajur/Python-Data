{
 "cells": [
  {
   "cell_type": "code",
   "execution_count": 1,
   "metadata": {},
   "outputs": [],
   "source": [
    "import matplotlib.pyplot as plt\n",
    "import numpy as np\n",
    "import pandas as pd\n",
    "import seaborn as sns\n",
    "from sklearn import linear_model\n",
    "\n",
    "sns.set_style(\"darkgrid\")\n",
    "\n",
    "URL = \"https://drive.google.com/file/d/1-rAa4XT4_fI0dOBlMNuE6a7jB0wln_Qo/view\"\n",
    "URL = \"https://drive.google.com/uc?id=\" + URL.split(\"/\")[-2]\n",
    "\n",
    "pd.set_option(\"display.precision\", 2)\n",
    "tmp = pd.read_csv(URL)\n",
    "df = tmp\n",
    "df.index += 1"
   ]
  },
  {
   "cell_type": "code",
   "execution_count": 2,
   "metadata": {},
   "outputs": [
    {
     "name": "stdout",
     "output_type": "stream",
     "text": [
      "(545, 4) (545, 1)\n"
     ]
    }
   ],
   "source": [
    "X = np.array(\n",
    "    [(np.ones((df.shape[0], 1))), df.area, df.bedrooms, df.bathrooms]\n",
    ").T  # input variables\n",
    "y = np.array([df.price]).T  # resulting price\n",
    "print(X.shape, y.shape)"
   ]
  },
  {
   "cell_type": "code",
   "execution_count": null,
   "metadata": {},
   "outputs": [],
   "source": [
    "X = np.array([[0, 1, 2, 3, 4, 5, 6, 7, 8, 9, 10]])"
   ]
  },
  {
   "cell_type": "code",
   "execution_count": 4,
   "metadata": {},
   "outputs": [],
   "source": [
    "def cost(y: np.array, h: np.array) -> float:\n",
    "    np.mean((h - y)**2) / 2"
   ]
  },
  {
   "cell_type": "code",
   "execution_count": 5,
   "metadata": {},
   "outputs": [],
   "source": [
    "class LinearRegression:\n",
    "    def __init__(\n",
    "        self, learn_rate: float = 0.001, thr: float = 0.00001, num_iter: int = 100\n",
    "    ):\n",
    "        self.learn_rate = learn_rate\n",
    "        self.thr = thr\n",
    "        self.num_iter = num_iter\n",
    "        self.w = np.ones((4,), dtype=int)\n",
    "        \n",
    "    def predict(self, X: list):\n",
    "        return self.w@X.T\n",
    "    \n",
    "    def update_weights(self, X: np.array, y: np.array):\n",
    "        m = len(y)\n",
    "        h = self.predict(X)\n",
    "        self.w = self.w - self.learn_rate * 1/m * X.T @ (h - y)\n",
    "        \n",
    "    def fit(self):\n",
    "        last_cost_f = 10000000\n",
    "        for i in range(self.num_iter):\n",
    "            self.update_weights(X, y)\n",
    "            new_cost_f = cost(y, self.predict(X))\n",
    "            if i * 10 % self.num_iter == 0:\n",
    "                print(f\"last_cost = {last_cost_f}\")\n",
    "                print(f\"mew_cost = {new_cost_f}\")\n",
    "                \n",
    "            if abs(last_cost_f - new_cost_f) < self.thr:\n",
    "                break\n",
    "            \n",
    "        last_cost_f = new_cost_f"
   ]
  }
 ],
 "metadata": {
  "kernelspec": {
   "display_name": "Python 3",
   "language": "python",
   "name": "python3"
  },
  "language_info": {
   "codemirror_mode": {
    "name": "ipython",
    "version": 3
   },
   "file_extension": ".py",
   "mimetype": "text/x-python",
   "name": "python",
   "nbconvert_exporter": "python",
   "pygments_lexer": "ipython3",
   "version": "3.11.4"
  }
 },
 "nbformat": 4,
 "nbformat_minor": 2
}
