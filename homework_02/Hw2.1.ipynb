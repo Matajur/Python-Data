{
 "cells": [
  {
   "cell_type": "markdown",
   "metadata": {},
   "source": [
    "### Imports and data extraction"
   ]
  },
  {
   "cell_type": "code",
   "execution_count": 1,
   "metadata": {},
   "outputs": [
    {
     "name": "stdout",
     "output_type": "stream",
     "text": [
      "               Регіон  1950  1960  1970  1990  2000  2012  2014  2019\n",
      "1                Крим  23.0  20.6  16.0  13.0   7.3  12.6     —     —\n",
      "2           Вінницька  22.4  19.2  14.2  12.4   8.4  11.2  10.9   7.6\n",
      "3           Волинська  24.7  25.0  17.9  15.3  11.2  14.8  14.1  10.1\n",
      "4    Дніпропетровська  20.4  20.4  15.1  12.3   7.1  11.2  11.1   7.1\n",
      "5            Донецька  27.1  21.4  14.0  10.9   6.1   9.8   8.2     —\n",
      "6         Житомирська  26.1  22.3  15.9  12.9   8.9  12.2  12.0   7.9\n",
      "7        Закарпатська  31.4  27.3  20.7  16.8  11.5  15.1  14.6  10.4\n",
      "8          Запорізька  21.9  19.7  15.0  12.4   7.1  10.6  10.6   6.8\n",
      "9   Івано-Франківська  24.3  24.8  18.2  15.5  10.3  12.4  12.2   8.8\n",
      "10           Київська  20.4  18.9  15.6  12.3   7.3  12.2  12.1   8.0\n",
      "11     Кіровоградська  21.6  17.1  14.5  12.6   7.9  11.0  10.8   6.8\n",
      "12          Луганська  26.2  23.5  14.4  11.6   6.2   9.6   5.1     —\n",
      "13          Львівська  23.4  24.0  17.1  14.0   9.1  11.9  11.9   8.7\n",
      "14       Миколаївська  21.1  19.4  15.5  13.7   8.0  11.5  11.2   7.1\n",
      "15            Одеська  24.1  19.2  14.8  12.6   8.0  12.7  12.3   8.8\n",
      "16         Полтавська  18.6  16.3  13.1  11.8   7.0   9.9  10.0   6.5\n",
      "17         Рівненська  26.9  26.7  19.3  15.8  11.8  15.9  14.8  10.7\n",
      "18            Сумська  21.6  18.4  13.2  11.5   7.0   9.7   9.2   6.0\n",
      "19      Тернопільська  21.3  21.6  15.7  14.2   9.2  11.3  10.9   7.6\n",
      "20         Харківська  19.7  17.3  14.0  11.4   6.8   9.9  10.1   6.8\n",
      "21         Херсонська  20.8  21.4  16.6  14.3   8.5  11.7  11.5   8.1\n",
      "22        Хмельницька  23.4  19.8  14.8  12.9   8.5  11.3  11.2   7.9\n",
      "23          Черкаська  20.5  17.9  14.4  12.3   7.5  10.0   9.8   6.4\n",
      "24        Чернівецька  24.7  21.8  17.0  14.8  10.1  12.8  12.9   9.2\n",
      "25       Чернігівська  22.0  18.3  12.7  10.8   6.9   9.4   9.0   6.1\n",
      "26               Київ   NaN  17.4  15.9  12.0   7.3  12.0  12.1  11.0\n",
      "27        Севастополь   NaN   NaN   NaN  12.5   7.0  12.0     —     —\n",
      "28            Україна  22.8  20.5  15.2  12.6   7.8  11.4  11.1   8.1\n"
     ]
    }
   ],
   "source": [
    "import matplotlib.animation as animation\n",
    "import matplotlib.pyplot as plt\n",
    "import numpy as np\n",
    "import pandas as pd\n",
    "\n",
    "\n",
    "from IPython.display import HTML\n",
    "\n",
    "\n",
    "URL = \"https://uk.wikipedia.org/wiki/%D0%9D%D0%B0%D1%81%D0%B5%D0%BB%D0%B5%D0%BD%D0%BD%D1%8F_%D0%A3%D0%BA%D1%80%D0%B0%D1%97%D0%BD%D0%B8\"\n",
    "\n",
    "\n",
    "STYLE = \"text-align: right\"\n",
    "\n",
    "\n",
    "pd.set_option(\"display.precision\", 1)\n",
    "\n",
    "\n",
    "tmp = pd.read_html(URL, attrs={\"style\": STYLE}, thousands=\".\", decimal=\",\")\n",
    "\n",
    "\n",
    "df = tmp[3:4][0]\n",
    "\n",
    "\n",
    "df.index += 1\n",
    "\n",
    "\n",
    "print(df)"
   ]
  },
  {
   "cell_type": "markdown",
   "metadata": {},
   "source": [
    "### Show head of the table"
   ]
  },
  {
   "cell_type": "code",
   "execution_count": 2,
   "metadata": {},
   "outputs": [
    {
     "data": {
      "text/html": [
       "<div>\n",
       "<style scoped>\n",
       "    .dataframe tbody tr th:only-of-type {\n",
       "        vertical-align: middle;\n",
       "    }\n",
       "\n",
       "    .dataframe tbody tr th {\n",
       "        vertical-align: top;\n",
       "    }\n",
       "\n",
       "    .dataframe thead th {\n",
       "        text-align: right;\n",
       "    }\n",
       "</style>\n",
       "<table border=\"1\" class=\"dataframe\">\n",
       "  <thead>\n",
       "    <tr style=\"text-align: right;\">\n",
       "      <th></th>\n",
       "      <th>Регіон</th>\n",
       "      <th>1950</th>\n",
       "      <th>1960</th>\n",
       "      <th>1970</th>\n",
       "      <th>1990</th>\n",
       "      <th>2000</th>\n",
       "      <th>2012</th>\n",
       "      <th>2014</th>\n",
       "      <th>2019</th>\n",
       "    </tr>\n",
       "  </thead>\n",
       "  <tbody>\n",
       "    <tr>\n",
       "      <th>1</th>\n",
       "      <td>Крим</td>\n",
       "      <td>23.0</td>\n",
       "      <td>20.6</td>\n",
       "      <td>16.0</td>\n",
       "      <td>13.0</td>\n",
       "      <td>7.3</td>\n",
       "      <td>12.6</td>\n",
       "      <td>—</td>\n",
       "      <td>—</td>\n",
       "    </tr>\n",
       "    <tr>\n",
       "      <th>2</th>\n",
       "      <td>Вінницька</td>\n",
       "      <td>22.4</td>\n",
       "      <td>19.2</td>\n",
       "      <td>14.2</td>\n",
       "      <td>12.4</td>\n",
       "      <td>8.4</td>\n",
       "      <td>11.2</td>\n",
       "      <td>10.9</td>\n",
       "      <td>7.6</td>\n",
       "    </tr>\n",
       "    <tr>\n",
       "      <th>3</th>\n",
       "      <td>Волинська</td>\n",
       "      <td>24.7</td>\n",
       "      <td>25.0</td>\n",
       "      <td>17.9</td>\n",
       "      <td>15.3</td>\n",
       "      <td>11.2</td>\n",
       "      <td>14.8</td>\n",
       "      <td>14.1</td>\n",
       "      <td>10.1</td>\n",
       "    </tr>\n",
       "    <tr>\n",
       "      <th>4</th>\n",
       "      <td>Дніпропетровська</td>\n",
       "      <td>20.4</td>\n",
       "      <td>20.4</td>\n",
       "      <td>15.1</td>\n",
       "      <td>12.3</td>\n",
       "      <td>7.1</td>\n",
       "      <td>11.2</td>\n",
       "      <td>11.1</td>\n",
       "      <td>7.1</td>\n",
       "    </tr>\n",
       "    <tr>\n",
       "      <th>5</th>\n",
       "      <td>Донецька</td>\n",
       "      <td>27.1</td>\n",
       "      <td>21.4</td>\n",
       "      <td>14.0</td>\n",
       "      <td>10.9</td>\n",
       "      <td>6.1</td>\n",
       "      <td>9.8</td>\n",
       "      <td>8.2</td>\n",
       "      <td>—</td>\n",
       "    </tr>\n",
       "  </tbody>\n",
       "</table>\n",
       "</div>"
      ],
      "text/plain": [
       "             Регіон  1950  1960  1970  1990  2000  2012  2014  2019\n",
       "1              Крим  23.0  20.6  16.0  13.0   7.3  12.6     —     —\n",
       "2         Вінницька  22.4  19.2  14.2  12.4   8.4  11.2  10.9   7.6\n",
       "3         Волинська  24.7  25.0  17.9  15.3  11.2  14.8  14.1  10.1\n",
       "4  Дніпропетровська  20.4  20.4  15.1  12.3   7.1  11.2  11.1   7.1\n",
       "5          Донецька  27.1  21.4  14.0  10.9   6.1   9.8   8.2     —"
      ]
     },
     "execution_count": 2,
     "metadata": {},
     "output_type": "execute_result"
    }
   ],
   "source": [
    "df.head()"
   ]
  },
  {
   "attachments": {},
   "cell_type": "markdown",
   "metadata": {},
   "source": [
    "### Define the number of rows and columns in the dataframe"
   ]
  },
  {
   "cell_type": "code",
   "execution_count": 3,
   "metadata": {},
   "outputs": [
    {
     "data": {
      "text/plain": [
       "(28, 9)"
      ]
     },
     "execution_count": 3,
     "metadata": {},
     "output_type": "execute_result"
    }
   ],
   "source": [
    "df.shape"
   ]
  },
  {
   "cell_type": "markdown",
   "metadata": {},
   "source": [
    "### In the table, replace the value \"—\" with the value NaN"
   ]
  },
  {
   "cell_type": "code",
   "execution_count": 4,
   "metadata": {},
   "outputs": [
    {
     "data": {
      "text/html": [
       "<div>\n",
       "<style scoped>\n",
       "    .dataframe tbody tr th:only-of-type {\n",
       "        vertical-align: middle;\n",
       "    }\n",
       "\n",
       "    .dataframe tbody tr th {\n",
       "        vertical-align: top;\n",
       "    }\n",
       "\n",
       "    .dataframe thead th {\n",
       "        text-align: right;\n",
       "    }\n",
       "</style>\n",
       "<table border=\"1\" class=\"dataframe\">\n",
       "  <thead>\n",
       "    <tr style=\"text-align: right;\">\n",
       "      <th></th>\n",
       "      <th>Регіон</th>\n",
       "      <th>1950</th>\n",
       "      <th>1960</th>\n",
       "      <th>1970</th>\n",
       "      <th>1990</th>\n",
       "      <th>2000</th>\n",
       "      <th>2012</th>\n",
       "      <th>2014</th>\n",
       "      <th>2019</th>\n",
       "    </tr>\n",
       "  </thead>\n",
       "  <tbody>\n",
       "    <tr>\n",
       "      <th>25</th>\n",
       "      <td>Чернігівська</td>\n",
       "      <td>22.0</td>\n",
       "      <td>18.3</td>\n",
       "      <td>12.7</td>\n",
       "      <td>10.8</td>\n",
       "      <td>6.9</td>\n",
       "      <td>9.4</td>\n",
       "      <td>9.0</td>\n",
       "      <td>6.1</td>\n",
       "    </tr>\n",
       "    <tr>\n",
       "      <th>26</th>\n",
       "      <td>Київ</td>\n",
       "      <td>NaN</td>\n",
       "      <td>17.4</td>\n",
       "      <td>15.9</td>\n",
       "      <td>12.0</td>\n",
       "      <td>7.3</td>\n",
       "      <td>12.0</td>\n",
       "      <td>12.1</td>\n",
       "      <td>11.0</td>\n",
       "    </tr>\n",
       "    <tr>\n",
       "      <th>27</th>\n",
       "      <td>Севастополь</td>\n",
       "      <td>NaN</td>\n",
       "      <td>NaN</td>\n",
       "      <td>NaN</td>\n",
       "      <td>12.5</td>\n",
       "      <td>7.0</td>\n",
       "      <td>12.0</td>\n",
       "      <td>NaN</td>\n",
       "      <td>NaN</td>\n",
       "    </tr>\n",
       "    <tr>\n",
       "      <th>28</th>\n",
       "      <td>Україна</td>\n",
       "      <td>22.8</td>\n",
       "      <td>20.5</td>\n",
       "      <td>15.2</td>\n",
       "      <td>12.6</td>\n",
       "      <td>7.8</td>\n",
       "      <td>11.4</td>\n",
       "      <td>11.1</td>\n",
       "      <td>8.1</td>\n",
       "    </tr>\n",
       "  </tbody>\n",
       "</table>\n",
       "</div>"
      ],
      "text/plain": [
       "          Регіон  1950  1960  1970  1990  2000  2012  2014  2019\n",
       "25  Чернігівська  22.0  18.3  12.7  10.8   6.9   9.4   9.0   6.1\n",
       "26          Київ   NaN  17.4  15.9  12.0   7.3  12.0  12.1  11.0\n",
       "27   Севастополь   NaN   NaN   NaN  12.5   7.0  12.0   NaN   NaN\n",
       "28       Україна  22.8  20.5  15.2  12.6   7.8  11.4  11.1   8.1"
      ]
     },
     "execution_count": 4,
     "metadata": {},
     "output_type": "execute_result"
    }
   ],
   "source": [
    "df = df.replace(\"—\", np.nan)\n",
    "df.tail(4)"
   ]
  },
  {
   "attachments": {},
   "cell_type": "markdown",
   "metadata": {},
   "source": [
    "### Define the types of all columns"
   ]
  },
  {
   "cell_type": "code",
   "execution_count": 5,
   "metadata": {},
   "outputs": [
    {
     "data": {
      "text/plain": [
       "Регіон     object\n",
       "1950      float64\n",
       "1960      float64\n",
       "1970      float64\n",
       "1990      float64\n",
       "2000      float64\n",
       "2012      float64\n",
       "2014       object\n",
       "2019       object\n",
       "dtype: object"
      ]
     },
     "execution_count": 5,
     "metadata": {},
     "output_type": "execute_result"
    }
   ],
   "source": [
    "df.dtypes"
   ]
  },
  {
   "attachments": {},
   "cell_type": "markdown",
   "metadata": {},
   "source": [
    "### Replace non-numeric column types with numeric ones"
   ]
  },
  {
   "cell_type": "code",
   "execution_count": 6,
   "metadata": {},
   "outputs": [
    {
     "data": {
      "text/plain": [
       "Регіон     object\n",
       "1950      float64\n",
       "1960      float64\n",
       "1970      float64\n",
       "1990      float64\n",
       "2000      float64\n",
       "2012      float64\n",
       "2014      float64\n",
       "2019      float64\n",
       "dtype: object"
      ]
     },
     "execution_count": 6,
     "metadata": {},
     "output_type": "execute_result"
    }
   ],
   "source": [
    "df[[\"2014\", \"2019\"]] = df[[\"2014\", \"2019\"]].apply(pd.to_numeric)\n",
    "df.dtypes"
   ]
  },
  {
   "attachments": {},
   "cell_type": "markdown",
   "metadata": {},
   "source": [
    "### Calculate the percentage of blanks in each column"
   ]
  },
  {
   "cell_type": "code",
   "execution_count": 7,
   "metadata": {},
   "outputs": [
    {
     "name": "stdout",
     "output_type": "stream",
     "text": [
      "Регіон    0.00\n",
      "1950      0.07\n",
      "1960      0.04\n",
      "1970      0.04\n",
      "1990      0.00\n",
      "2000      0.00\n",
      "2012      0.00\n",
      "2014      0.07\n",
      "2019      0.14\n",
      "dtype: float64\n"
     ]
    }
   ],
   "source": [
    "nan_count = df.isna().sum().div(df.shape[0])\n",
    "pd.set_option(\"display.precision\", 2)\n",
    "print(nan_count)"
   ]
  },
  {
   "attachments": {},
   "cell_type": "markdown",
   "metadata": {},
   "source": [
    "### Delete the countrywide data from the table, the last row of the table"
   ]
  },
  {
   "cell_type": "code",
   "execution_count": 8,
   "metadata": {},
   "outputs": [
    {
     "data": {
      "text/html": [
       "<div>\n",
       "<style scoped>\n",
       "    .dataframe tbody tr th:only-of-type {\n",
       "        vertical-align: middle;\n",
       "    }\n",
       "\n",
       "    .dataframe tbody tr th {\n",
       "        vertical-align: top;\n",
       "    }\n",
       "\n",
       "    .dataframe thead th {\n",
       "        text-align: right;\n",
       "    }\n",
       "</style>\n",
       "<table border=\"1\" class=\"dataframe\">\n",
       "  <thead>\n",
       "    <tr style=\"text-align: right;\">\n",
       "      <th></th>\n",
       "      <th>Регіон</th>\n",
       "      <th>1950</th>\n",
       "      <th>1960</th>\n",
       "      <th>1970</th>\n",
       "      <th>1990</th>\n",
       "      <th>2000</th>\n",
       "      <th>2012</th>\n",
       "      <th>2014</th>\n",
       "      <th>2019</th>\n",
       "    </tr>\n",
       "  </thead>\n",
       "  <tbody>\n",
       "    <tr>\n",
       "      <th>23</th>\n",
       "      <td>Черкаська</td>\n",
       "      <td>20.5</td>\n",
       "      <td>17.9</td>\n",
       "      <td>14.4</td>\n",
       "      <td>12.3</td>\n",
       "      <td>7.5</td>\n",
       "      <td>10.0</td>\n",
       "      <td>9.8</td>\n",
       "      <td>6.4</td>\n",
       "    </tr>\n",
       "    <tr>\n",
       "      <th>24</th>\n",
       "      <td>Чернівецька</td>\n",
       "      <td>24.7</td>\n",
       "      <td>21.8</td>\n",
       "      <td>17.0</td>\n",
       "      <td>14.8</td>\n",
       "      <td>10.1</td>\n",
       "      <td>12.8</td>\n",
       "      <td>12.9</td>\n",
       "      <td>9.2</td>\n",
       "    </tr>\n",
       "    <tr>\n",
       "      <th>25</th>\n",
       "      <td>Чернігівська</td>\n",
       "      <td>22.0</td>\n",
       "      <td>18.3</td>\n",
       "      <td>12.7</td>\n",
       "      <td>10.8</td>\n",
       "      <td>6.9</td>\n",
       "      <td>9.4</td>\n",
       "      <td>9.0</td>\n",
       "      <td>6.1</td>\n",
       "    </tr>\n",
       "    <tr>\n",
       "      <th>26</th>\n",
       "      <td>Київ</td>\n",
       "      <td>NaN</td>\n",
       "      <td>17.4</td>\n",
       "      <td>15.9</td>\n",
       "      <td>12.0</td>\n",
       "      <td>7.3</td>\n",
       "      <td>12.0</td>\n",
       "      <td>12.1</td>\n",
       "      <td>11.0</td>\n",
       "    </tr>\n",
       "    <tr>\n",
       "      <th>27</th>\n",
       "      <td>Севастополь</td>\n",
       "      <td>NaN</td>\n",
       "      <td>NaN</td>\n",
       "      <td>NaN</td>\n",
       "      <td>12.5</td>\n",
       "      <td>7.0</td>\n",
       "      <td>12.0</td>\n",
       "      <td>NaN</td>\n",
       "      <td>NaN</td>\n",
       "    </tr>\n",
       "  </tbody>\n",
       "</table>\n",
       "</div>"
      ],
      "text/plain": [
       "          Регіон  1950  1960  1970  1990  2000  2012  2014  2019\n",
       "23     Черкаська  20.5  17.9  14.4  12.3   7.5  10.0   9.8   6.4\n",
       "24   Чернівецька  24.7  21.8  17.0  14.8  10.1  12.8  12.9   9.2\n",
       "25  Чернігівська  22.0  18.3  12.7  10.8   6.9   9.4   9.0   6.1\n",
       "26          Київ   NaN  17.4  15.9  12.0   7.3  12.0  12.1  11.0\n",
       "27   Севастополь   NaN   NaN   NaN  12.5   7.0  12.0   NaN   NaN"
      ]
     },
     "execution_count": 8,
     "metadata": {},
     "output_type": "execute_result"
    }
   ],
   "source": [
    "df.drop(df.tail(1).index, inplace=True)\n",
    "pd.set_option(\"display.precision\", 1)\n",
    "df.tail()"
   ]
  },
  {
   "attachments": {},
   "cell_type": "markdown",
   "metadata": {},
   "source": [
    "### Replace missing data in columns with the average values of those columns"
   ]
  },
  {
   "cell_type": "code",
   "execution_count": 9,
   "metadata": {},
   "outputs": [
    {
     "name": "stdout",
     "output_type": "stream",
     "text": [
      "               Регіон  1950  1960  1970  1990  2000  2012  2014  2019\n",
      "1                Крим  23.0  20.6  16.0  13.0   7.3  12.6  11.1   8.0\n",
      "2           Вінницька  22.4  19.2  14.2  12.4   8.4  11.2  10.9   7.6\n",
      "3           Волинська  24.7  25.0  17.9  15.3  11.2  14.8  14.1  10.1\n",
      "4    Дніпропетровська  20.4  20.4  15.1  12.3   7.1  11.2  11.1   7.1\n",
      "5            Донецька  27.1  21.4  14.0  10.9   6.1   9.8   8.2   8.0\n",
      "6         Житомирська  26.1  22.3  15.9  12.9   8.9  12.2  12.0   7.9\n",
      "7        Закарпатська  31.4  27.3  20.7  16.8  11.5  15.1  14.6  10.4\n",
      "8          Запорізька  21.9  19.7  15.0  12.4   7.1  10.6  10.6   6.8\n",
      "9   Івано-Франківська  24.3  24.8  18.2  15.5  10.3  12.4  12.2   8.8\n",
      "10           Київська  20.4  18.9  15.6  12.3   7.3  12.2  12.1   8.0\n",
      "11     Кіровоградська  21.6  17.1  14.5  12.6   7.9  11.0  10.8   6.8\n",
      "12          Луганська  26.2  23.5  14.4  11.6   6.2   9.6   5.1   8.0\n",
      "13          Львівська  23.4  24.0  17.1  14.0   9.1  11.9  11.9   8.7\n",
      "14       Миколаївська  21.1  19.4  15.5  13.7   8.0  11.5  11.2   7.1\n",
      "15            Одеська  24.1  19.2  14.8  12.6   8.0  12.7  12.3   8.8\n",
      "16         Полтавська  18.6  16.3  13.1  11.8   7.0   9.9  10.0   6.5\n",
      "17         Рівненська  26.9  26.7  19.3  15.8  11.8  15.9  14.8  10.7\n",
      "18            Сумська  21.6  18.4  13.2  11.5   7.0   9.7   9.2   6.0\n",
      "19      Тернопільська  21.3  21.6  15.7  14.2   9.2  11.3  10.9   7.6\n",
      "20         Харківська  19.7  17.3  14.0  11.4   6.8   9.9  10.1   6.8\n",
      "21         Херсонська  20.8  21.4  16.6  14.3   8.5  11.7  11.5   8.1\n",
      "22        Хмельницька  23.4  19.8  14.8  12.9   8.5  11.3  11.2   7.9\n",
      "23          Черкаська  20.5  17.9  14.4  12.3   7.5  10.0   9.8   6.4\n",
      "24        Чернівецька  24.7  21.8  17.0  14.8  10.1  12.8  12.9   9.2\n",
      "25       Чернігівська  22.0  18.3  12.7  10.8   6.9   9.4   9.0   6.1\n",
      "26               Київ  23.1  17.4  15.9  12.0   7.3  12.0  12.1  11.0\n",
      "27        Севастополь  23.1  20.8  15.6  12.5   7.0  12.0  11.1   8.0\n"
     ]
    }
   ],
   "source": [
    "df.fillna(df.mean(numeric_only=True), inplace=True)\n",
    "print(df)"
   ]
  },
  {
   "attachments": {},
   "cell_type": "markdown",
   "metadata": {},
   "source": [
    "### Get a list of regions where the birth rate in 2019 was higher than the average for Ukraine"
   ]
  },
  {
   "cell_type": "code",
   "execution_count": 10,
   "metadata": {},
   "outputs": [
    {
     "data": {
      "text/html": [
       "<div>\n",
       "<style scoped>\n",
       "    .dataframe tbody tr th:only-of-type {\n",
       "        vertical-align: middle;\n",
       "    }\n",
       "\n",
       "    .dataframe tbody tr th {\n",
       "        vertical-align: top;\n",
       "    }\n",
       "\n",
       "    .dataframe thead th {\n",
       "        text-align: right;\n",
       "    }\n",
       "</style>\n",
       "<table border=\"1\" class=\"dataframe\">\n",
       "  <thead>\n",
       "    <tr style=\"text-align: right;\">\n",
       "      <th></th>\n",
       "      <th>Регіон</th>\n",
       "      <th>2019</th>\n",
       "    </tr>\n",
       "  </thead>\n",
       "  <tbody>\n",
       "    <tr>\n",
       "      <th>3</th>\n",
       "      <td>Волинська</td>\n",
       "      <td>10.1</td>\n",
       "    </tr>\n",
       "    <tr>\n",
       "      <th>7</th>\n",
       "      <td>Закарпатська</td>\n",
       "      <td>10.4</td>\n",
       "    </tr>\n",
       "    <tr>\n",
       "      <th>9</th>\n",
       "      <td>Івано-Франківська</td>\n",
       "      <td>8.8</td>\n",
       "    </tr>\n",
       "    <tr>\n",
       "      <th>13</th>\n",
       "      <td>Львівська</td>\n",
       "      <td>8.7</td>\n",
       "    </tr>\n",
       "    <tr>\n",
       "      <th>15</th>\n",
       "      <td>Одеська</td>\n",
       "      <td>8.8</td>\n",
       "    </tr>\n",
       "    <tr>\n",
       "      <th>17</th>\n",
       "      <td>Рівненська</td>\n",
       "      <td>10.7</td>\n",
       "    </tr>\n",
       "    <tr>\n",
       "      <th>21</th>\n",
       "      <td>Херсонська</td>\n",
       "      <td>8.1</td>\n",
       "    </tr>\n",
       "    <tr>\n",
       "      <th>24</th>\n",
       "      <td>Чернівецька</td>\n",
       "      <td>9.2</td>\n",
       "    </tr>\n",
       "    <tr>\n",
       "      <th>26</th>\n",
       "      <td>Київ</td>\n",
       "      <td>11.0</td>\n",
       "    </tr>\n",
       "  </tbody>\n",
       "</table>\n",
       "</div>"
      ],
      "text/plain": [
       "               Регіон  2019\n",
       "3           Волинська  10.1\n",
       "7        Закарпатська  10.4\n",
       "9   Івано-Франківська   8.8\n",
       "13          Львівська   8.7\n",
       "15            Одеська   8.8\n",
       "17         Рівненська  10.7\n",
       "21         Херсонська   8.1\n",
       "24        Чернівецька   9.2\n",
       "26               Київ  11.0"
      ]
     },
     "execution_count": 10,
     "metadata": {},
     "output_type": "execute_result"
    }
   ],
   "source": [
    "df[df[\"2019\"] > df[\"2019\"].mean()][[\"Регіон\", \"2019\"]]"
   ]
  },
  {
   "attachments": {},
   "cell_type": "markdown",
   "metadata": {},
   "source": [
    "### Which region had the highest birth rate in 2014?"
   ]
  },
  {
   "cell_type": "code",
   "execution_count": 11,
   "metadata": {},
   "outputs": [
    {
     "data": {
      "text/plain": [
       "Регіон    Рівненська\n",
       "2014            14.8\n",
       "Name: 17, dtype: object"
      ]
     },
     "execution_count": 11,
     "metadata": {},
     "output_type": "execute_result"
    }
   ],
   "source": [
    "df.loc[df[\"2014\"].idxmax(), [\"Регіон\", \"2014\"]]"
   ]
  },
  {
   "attachments": {},
   "cell_type": "markdown",
   "metadata": {},
   "source": [
    "### Construct a bar chart of birth rates by region in 2019"
   ]
  },
  {
   "cell_type": "code",
   "execution_count": 12,
   "metadata": {},
   "outputs": [
    {
     "data": {
      "image/png": "[encoded data removed]",
      "text/plain": [
       "<Figure size 800x600 with 1 Axes>"
      ]
     },
     "metadata": {},
     "output_type": "display_data"
    }
   ],
   "source": [
    "data = df[[\"Регіон\", \"2019\"]]\n",
    "plt.figure(figsize=(8, 6))\n",
    "plt.bar(df[\"Регіон\"], df[\"2019\"], bottom=6)\n",
    "plt.xlabel(\"Region\", fontsize=\"medium\", color=\"midnightblue\")\n",
    "plt.ylabel(\"Births per 1,000 inhabitants\", fontsize=\"medium\", color=\"midnightblue\")\n",
    "plt.title(\"Birth rate in the regions of Ukraine in 2019, ‰\", fontsize=\"large\", color=\"midnightblue\")\n",
    "plt.xticks(rotation = 90)\n",
    "plt.grid(axis=\"y\")\n",
    "plt.show()"
   ]
  },
  {
   "cell_type": "markdown",
   "metadata": {},
   "source": [
    "## Visualization"
   ]
  },
  {
   "cell_type": "markdown",
   "metadata": {},
   "source": [
    "### Birth Rate Dinamics in Ucraine over Time"
   ]
  },
  {
   "cell_type": "code",
   "execution_count": 13,
   "metadata": {},
   "outputs": [
    {
     "data": {
      "image/png": "[encoded data removed]",
      "text/plain": [
       "<Figure size 640x480 with 1 Axes>"
      ]
     },
     "metadata": {},
     "output_type": "display_data"
    }
   ],
   "source": [
    "data = df.set_index(\"Регіон\", inplace=False)\n",
    "dd = data.agg([\"min\", \"mean\", \"max\"])\n",
    "\n",
    "min_birth = dd.loc[\"min\"]\n",
    "max_birth = dd.loc[\"max\"]\n",
    "\n",
    "plt.plot(\n",
    "    dd.loc[\"min\"],\n",
    "    label=\"min of all regions\",\n",
    "    linestyle=\"--\",\n",
    "    color=\"#061358\",\n",
    ")\n",
    "plt.plot(\n",
    "    dd.loc[\"max\"],\n",
    "    label=\"max of all regions\",\n",
    "    linestyle=\":\",\n",
    "    color=\"#061358\",\n",
    ")\n",
    "plt.plot(\n",
    "    dd.loc[\"mean\"],\n",
    "    label=\"mean of all regions\",\n",
    "    color=\"#FF5733\",\n",
    ")\n",
    "plt.xlabel(\"Year\", fontsize=\"large\", color=\"midnightblue\")\n",
    "plt.ylabel(\"Birth Rate\", fontsize=\"large\", color=\"midnightblue\")\n",
    "plt.title(\"Birth Rate Dinamics in Ucraine\", fontsize=15)\n",
    "plt.legend()\n",
    "plt.fill_between(dd.columns.values, max_birth, min_birth)\n",
    "plt.show()"
   ]
  },
  {
   "cell_type": "markdown",
   "metadata": {},
   "source": [
    "### Birth Rates: Kiyiv City vs Kiyiv Region"
   ]
  },
  {
   "cell_type": "code",
   "execution_count": 14,
   "metadata": {},
   "outputs": [
    {
     "data": {
      "image/png": "[encoded data removed]",
      "text/plain": [
       "<Figure size 640x480 with 1 Axes>"
      ]
     },
     "metadata": {},
     "output_type": "display_data"
    }
   ],
   "source": [
    "plt.plot(\n",
    "    data.loc[\"Київ\"],\n",
    "    label=\"Kiyiv City\",\n",
    "    color=\"c\",\n",
    ")\n",
    "plt.plot(\n",
    "    data.loc[\"Київська\"],\n",
    "    label=\"Kiyiv Region\",\n",
    "    color=\"m\",\n",
    ")\n",
    "plt.xlabel(\"Year\", fontsize=\"large\", color=\"y\")\n",
    "plt.ylabel(\"Birth Rate\", fontsize=\"large\", color=\"y\")\n",
    "plt.title(\"Kiyiv City vs Kiyiv Region\", fontsize=\"large\", color=\"y\", fontweight=\"bold\")\n",
    "legend = plt.legend()\n",
    "legend.get_frame().set_facecolor(\"grey\")\n",
    "plt.grid()\n",
    "plt.show()"
   ]
  },
  {
   "cell_type": "markdown",
   "metadata": {},
   "source": [
    "### Variation of Birth Rate in Ucraine over Time"
   ]
  },
  {
   "cell_type": "code",
   "execution_count": 15,
   "metadata": {},
   "outputs": [
    {
     "data": {
      "text/html": [
       "<video width=\"640\" height=\"480\" controls autoplay loop>\n",
       "  <source type=\"video/mp4\" src=\"data:video/mp4;base64,AAAAIGZ0eXBNNFYgAAACAE00ViBpc29taXNvMmF2YzEAAAAIZnJlZQAAMX5tZGF0AAACrgYF//+q\n",
       "3EXpvebZSLeWLNgg2SPu73gyNjQgLSBjb3JlIDE2NCByMzE2MSBhMzU0ZjExIC0gSC4yNjQvTVBF\n",
       "Ry00IEFWQyBjb2RlYyAtIENvcHlsZWZ0IDIwMDMtMjAyMyAtIGh0dHA6Ly93d3cudmlkZW9sYW4u\n",
       "b3JnL3gyNjQuaHRtbCAtIG9wdGlvbnM6IGNhYmFjPTEgcmVmPTMgZGVibG9jaz0xOjA6MCBhbmFs\n",
       "eXNlPTB4MzoweDExMyBtZT1oZXggc3VibWU9NyBwc3k9MSBwc3lfcmQ9MS4wMDowLjAwIG1peGVk\n",
       "X3JlZj0xIG1lX3JhbmdlPTE2IGNocm9tYV9tZT0xIHRyZWxsaXM9MSA4eDhkY3Q9MSBjcW09MCBk\n",
       "ZWFkem9uZT0yMSwxMSBmYXN0X3Bza2lwPTEgY2hyb21hX3FwX29mZnNldD0tMiB0aHJlYWRzPTEy\n",
       "IGxvb2thaGVhZF90aHJlYWRzPTIgc2xpY2VkX3RocmVhZHM9MCBucj0wIGRlY2ltYXRlPTEgaW50\n",
       "ZXJsYWNlZD0wIGJsdXJheV9jb21wYXQ9MCBjb25zdHJhaW5lZF9pbnRyYT0wIGJmcmFtZXM9MyBi\n",
       "X3B5cmFtaWQ9MiBiX2FkYXB0PTEgYl9iaWFzPTAgZGlyZWN0PTEgd2VpZ2h0Yj0xIG9wZW5fZ29w\n",
       "PTAgd2VpZ2h0cD0yIGtleWludD0yNTAga2V5aW50X21pbj01IHNjZW5lY3V0PTQwIGludHJhX3Jl\n",
       "ZnJlc2g9MCByY19sb29rYWhlYWQ9NDAgcmM9Y3JmIG1idHJlZT0xIGNyZj0yMy4wIHFjb21wPTAu\n",
       "NjAgcXBtaW49MCBxcG1heD02OSBxcHN0ZXA9NCBpcF9yYXRpbz0xLjQwIGFxPTE6MS4wMACAAAAa\n",
       "tmWIhAAS//73rd+BTcBA7Wu6Vzi0y6uUND1R9pSmeLZIAAADAAADAAAP8M2+n1EV15emAAADAH4i\n",
       "K1rZlENLCcAA4evQFYX8tFy4DHax7NtMuVGw54uqTEEFcn0HUTbXBtkQudOQu33fdWiMCqHpw76K\n",
       "eYOT8uWmBjHWrUGn+vcG4RTV2f9pPKr8+TcVMRtgSP3lcDmNzZz7DMfrGajUz1RvkjSFadtbA5sV\n",
       "sTQgIxo1vAEDp0UCb+VVxIZnlFsPmuZyMlNKNRIi4vR0N1yA0ZNQ4WmgRTnweX+AtFouUdXuorML\n",
       "byLRDes2J+lzqkyFP4lMriNWh8gp0YLvGvShE4xREd6hIIqiIzeRFk/4AZy9nNkoC1rfzvYg9lxp\n",
       "Zx1b61+Y3FPkpsoVItyVPd8te1vJwulCtTRKkl6J3sOthCc3ufZRIqUoceURUt+RNMHHe8FUe4Bj\n",
       "/jLEEwJ4oFyjifBMbKlWzsSseS6eAUBHyLwUch6pGp8VSANv1xERjI3vk85hm1WyZtXP9ZYTdmLD\n",
       "91AYXTJuETL5r31RFCcT31g1zbeFlfsDcMXkUoR6VqYVlhRlA8q9Zenwvr5YIV1liP0peTUtmRkQ\n",
       "OgovfeB8mF66PrC4CEgTVQmcUZDMkkdz3ZlBwpdQMeXTOBRW0JIMvFfpW+jFz6aJ4McmyrTjsltr\n",
       "vLE2dNXod7054UHPG5lLDSeNA/gmcz+3KX4XLq389+B6nYkxVsGMDipgAK5oaI8MYv4JALe086rb\n",
       "N/SvYTgkGb2zevm1vA+FAuXSMpkGS+DB0Ynq2djWhPE6kXW7MiqGQwHvybk/XMq70TBNZUHutvNE\n",
       "NUgToD5kVSmSt5syxBxu9pnxlEeZwwrwfui3a+LkghKLAJ746jpzx4BTcuBRjfpP3dJJpidbl6AJ\n",
       "mHhQB9OdXvJGuZA6gFKPWb+//n9ley+hOsuo44clr5rNYEZ4A4swt7PBGyqjmHfSWf9EN5qJw8a9\n",
       "hssTaUAVh/b2fN4OE/ZMRV/y2VozrJuHMvouTsmT6CHf7D2zn8XIPoAFOz4CAVDtTs0YT3iBRFnw\n",
       "4+Ro+IBZVZEnfMS1c9LrHadc+Yq8VjQkKPRYepCbNZHfkIHmDUEkUH6G2Z1xqDsD7hkifxVQMqqj\n",
       "wfJ4ciwgvrMw8tcDYakE2vx10fm1yzAndKXVhaCTKbkTP04fPo7cRghBbubrGYGRX9upAp76ku+N\n",
       "7xrRgcjxybzTdbJTab3fKG4vTA6yOpXyK44UPX2FfWLgeV//3JJt3zPJcT52tZhC4bjJHcNGnrJs\n",
       "HfNdZONsuiPPwkAPdKERBnWDb8PtPuFUzXqEY91F6BhCklpidX/DHdnWgQ1OysdRZI1SDGN55I9t\n",
       "a6gEN5EJ5/TAWQACZHsbhkBgrggWw73c+EJ9IGzdxLMThN+S5O7Mcaff3QKWwE5KX8mm1Vxi7i7P\n",
       "xMjPfM6uTnQ9leshL+hGamdoDzB9LbZ91LmBhPJod63pPDd3Dv58uOh/snYySyDfvZPd/9f0g5Ic\n",
       "rZfXsCMasX8vqvCQ4tux036oh4K+Q5xKtnGvyt385MHIvNjGw7E6t/W9hiBRH1+N/Du7f0RYEc+u\n",
       "ssudHfJa1fkElTDscEFbVhbvyeUb6eagD9DTxEMA+/Scqe7TnUMrfJE+SoIIt0bK2sh1UkRKcD61\n",
       "WYMa55Ywx4g/c3CA0GGcLfeIs76IyyP+XGc1jE9LVHwZWQq1VrdIQmbbq5HhRc8ibyK376HrnxYw\n",
       "F4dj9lBzGrZfSKxn67uMbFM+YkrZbn5BXTIyoQBBaRfoBYifS3/+20KPqiGGELMEkUenCMQqWUBM\n",
       "mRHnzEQsuGdQCj1OSIrBh6W52XM3w1DtuSgUVGOQDDjfvycFEqlhz5wGS3IsrwRdcMLnPAVQO4F3\n",
       "SAgrak0v6yKbVKcYus9bADqudIl7XUvx51nSnJEf28XKptpcKu+NXxGlD7cp2P8GUxS1KJsTB8S8\n",
       "FlD7WqP0EW/8MdS9fmoq/h5x1ypV/5dTJfulUzpsHIWFjaL5JkLHaBESeH8BdDzoVh8ZNtJ9WS3A\n",
       "fXU9Ql9VQNRT1oDZiGsXcp+hLMNId6Oe3icd1cRcrUVOkkuTF3WBam2GhfKXTvuZEH1VFv8NaBWw\n",
       "oOAcnKC5ArkK4SLQ8kpxjEZ35kkjwPC75cDAiW5CjuSnHJ2QoFmDIBub2LkO2Ifxix6zjLR3FW5b\n",
       "6G/UACtYn0vE/PnG4FuYoXcs3hNpDieiLFHdozzpc3kWZtv3TMhKATvEOvHWvn70Jm2paBnhAA74\n",
       "VaEcLGZYh+Y+Oss0ZMV9jH5NI+9H9aELmlOamjzb2ycIwLTndB19VWIDIzAUv/Zb0hYU89C7ChJP\n",
       "a+fdagVG4/JjOizsNer+ougmTYgZMgP/2YhQnBs+Vhx654e7QpJsp6nsFoboCY95I1btyPhEt99h\n",
       "yt0Z9NxmqYqyKjdyZfFitF8Ac157V6nM9E8eiClcqlrMcjFbBM0uvIjauvvPEOaX77bm92gsyCcE\n",
       "WNeP15qikYRdkgXV0onrw57rYqe2+eh5e4C/1KgYEaPRz4XtlXuzBtAm2HxPml60cO6F+OKLAl+o\n",
       "CgDM/7a54lHLGewHfvN2qEfR4FKJDYwsJAb+2NaGKZBGNq2xoxGRRibwsEOLo4LVc5Q1LVx4tn0q\n",
       "qlVVO9wNG2T4YZfFaKV0BpqN6Q20TOh00+h3WWzkJu0Wd2t4c3itYSz7Uw2jidfvD56osOlwg0ll\n",
       "VeAR8wlL4Z7mvkwbUvzYQ04zZUrNq3gBANQtJjyoYHt+Y7BrjcQlDVgGKvn39teyNap+pvSg/id9\n",
       "8pIA13+ERQu7biLQtfgR+ruNECHDip3/ya6chsieS38+LfHQz1jA9c7RAXs62d5MYaKdFeqX6WCV\n",
       "rQXRTbgsBIorEdwQdKOGPBl1JZyKtCwbwz/qilfaAlO45z9wKEgdhlVS4meo+82qHa3BM71dG2/L\n",
       "OjEApK7yzh3pLqrBSpxJFv+HCaraYWeZtMqrfCPJO/Pm6YtGCQFQRfbz/KqD0dW0T+Ibms5i4jCa\n",
       "Q09uY+yXEOnUqXSjhTJ7DbMlJdlUnYM6SMbaqDiJPhWEDmifnqrOj9PKk1QXPW07Nxd8HW0HQoyB\n",
       "dJBAHjx0ELP0nRlFUeD8URhaaygkhdUWsUOfSC5onuggaPveYKjMa6WHf603hcaVR+Z2P2WGY8bP\n",
       "6FozjhEa/ctWGvSC/GS7SLADgm3WUZL492vuhXAACP+ObHJJ0mdoAAAJnUO/gf3LV3Glh3nFUQO/\n",
       "JO+x/qcENPr9Fc+a62EMabjROdFk//fUZVg+JHDjQxTnkxUxp5In8ZqRN3DSd3Q5Sb1Rnok1gmWe\n",
       "b7RiaUa2Nnjr1ihzuWp2WBnpd75JZPpOdxzqWSn/x8XGvAVy4zAAACHXOzIgNcH58wAl68XQt5WX\n",
       "kshkdHtwCdzCTnqnpEJrj1QShrxX3XRjxXF0sZ2altr0AipIn3Llsj5H2KkJZWPY4/qqN2cAtJ/F\n",
       "2MfB+0QLkPnRUfF7CxHeMBdAwD6Qr6wXsDNVSNH8t4mWlIl3LzS+YG0tZLmJ+ntAAxyVaRGMgvQ7\n",
       "k6BBXpGlp6DfZOYPuAAKdCPEAEwCAMvOpdTdbwPBCHQEu1ECm2aVadVV7mqxWiNOxkdrkZYT5Jld\n",
       "n+ivWzIYBIdis8+hSTRXWQMfYeYhoXRt2DSP1HBGzHzSYSboi+bTse6+qNHH/OjP4AsQ0tySYUBy\n",
       "sX76jSMo688t322ofF49NUBqa0VqrVq5ewAZW56KS/9r9rAsDn/JtIDLYCWGylg7rvkiGUMvt3Qf\n",
       "LJWaJRufJEXQ/MTf26465NuA35dMY3BEpJRZXwYTaCduckqa27zlwoIM5uS2bZcam+/IzEC4+Gxp\n",
       "t43Ah8T0+B4wOYIlL7poHlIF5ptH8QTa1cPLCmMFgJrTT7UO/UitisZ2GMfz87qB+PX0ryrJWp27\n",
       "gubFP1KBIKtWBSZeC4R+VirDN8X+r6Ey/uXeweqSoE52RFxXgDVOZI5oDEYH9tL8loLaenAoJeoj\n",
       "rPUAtHuHgpR+ctC9JuBbrXssD5nKrdpg0M+kD4dfMJ3mtlr5BmeZTAF+8mRLt6WQ0vZ4azq3Ftwb\n",
       "XhvwRsEy/m+eEVtCGPGbxH0Z+FSvE9FXcWXjzMznyqc0ActSGHSn9APNXeyAjRESUQa3ZtUDa+ec\n",
       "+FtVMhG84N8dyzAw2spiVEHzHrUYhnShbdq6PhI/8WIWe9OPok7X/FH0Cnn0BuqQlR9cHrfC1vm8\n",
       "Q0uNeAne5/89X1Me18AtADd7Zb1gmkcEMC3HjETMATPy6EpBJp6zhbZVxa95FNWe4iwzbZJvOctv\n",
       "6u6wTncMaf/juv1P/v/E5uBL8PVZ9ZlHf/+UXhSBrvJt8FHb1W6bGdJjWVZipoES5WPfKSYcE1c2\n",
       "j/ywrBwll+6RkHfr4YVoSfmb9TjGWkE8x9av/9W7PZcmYMsAME3OXMHk2JQ2/uLDoVOPzIOyaq3E\n",
       "8Dbp1F4wabjp9YHUonFxUsqaT0DUrH8kAhWXcsSN9y164rnAAJAmxCxA14dHoSLjOA2TG0b/yPtN\n",
       "kR9KtZcGgjtOUbh3c8D6Gm++2gYwBjtj+8uQ3nH1nLi+icDhBcuUbMVYEfIYODkeuXvcrWfVyI4t\n",
       "7bA4HKfIa60WNq47MBVJwxNvNGJHc9NzRCkTd1WODZvqx+xKxJl3SW188jzvc0eMy4GJL74fLMJ3\n",
       "c91QIMwYZbw5FZfdjU2/wDa5R/HUePeSA1dKD7qTReuEYcnd7WXSNercKwSEmcbDlXfp/iKbdjvl\n",
       "ey5gCkIOlxSQSBYjZ2SbQG/DYIv9xgMM6lRGGGLLuG5gRG8+3avTi8WLgSogknpzYBVX2B412Qz4\n",
       "9qFKKV0u8BPhr5a+L8GjCghT+ICeRrFNFP5tg0e4f73x7fELMKUSAi9f1Jl4KShJ944Ks/5TKtBB\n",
       "BtzbZq4BW82gz3/Sxx+eCPZcOJSy2lIlKB/OjZosExbYlfKhYylkjUiLZAyoCzVuV5VhxXBVnZPc\n",
       "JmpkfkjBLG4M/eT/aq9tGFFBcEroFnpi+U4yWM3wJYuqR+SQMN8Uj2/Ri/u3iN5SUiqucO2XUGTK\n",
       "yR0gYc+Zbq+c2RzZa/uBiYUHo+SfQFCv8BzZUyKXw/AV3LABa1L1+fFpPSlEfyW3aZ0iGf4Koyec\n",
       "qYQte1cam90RASlBnshRd8VFjjDaLWWNgcTvC5MZ6fr8NYKvwsjFjQbzEghegZRSUJ0TsOFrw8Pv\n",
       "dSNC102faJa309zawyldtv9Kk96ADPU/+BWy8MeHYkbwCJV0Y0yPIyl/a4anbZv/+HGhYvHtaDvR\n",
       "u4+YisL7+AgOPBP1L662qvlWGd6OQt0XE641zyNu8QfpQykB4wDGj8kKzHKlIdZTt3jD/enMzCzG\n",
       "m62LBymtCvt3xWWun4SHd+oTkhnejk6Xma8iLI0lL1lN+DcyILXuwcafNbtIA4j43j6kdVDJQzjC\n",
       "End2Kf3xfh1YVnkAF9o7D1JLBs/y5qvKVZPBj+r4bgef3mZgyEXYHUmoGhUrBo1tTHmn53uLXLlO\n",
       "n31M3JqmYIHl2V1RdfQ0hqoj7VUsGoe4F61Y6oMCkVxQQCi+dZpAZXDtSfB6wRhNhFHA/qHjiCZh\n",
       "vsuD7t3bub4+goviUqnkwVe3ohIWabqNj0tU2TVCDwx8KIB0clRCJb3MInJaCwizFMG7HlxTnkI6\n",
       "4ioTc5nh8j4RSG+y0QCNSFQEXfbwIiQzZCGrAAApoABEP7VR8JHHTNY7wBAB79rl9R0QFWkRGgo6\n",
       "v+Cu3mUVdhT6qVBZbAKTwJBMymPT8pklTvBHMAhO3u6cmzkHwB+iGBczRBCbe4GYax94ril+2Wy6\n",
       "X2nLHEomXaf9nq0Q7a69lMGupOZl0iJYkmXsUzA28SCr69qXLKoz8uzJigXTAxN80sobui7g5Np5\n",
       "Im+AhO5AK4kwU0ObYDlv9A8oUNmJqnLX5XqmuZMsXehTn5s2RQnN0QUmDCHac7XN96vr5ntulvKg\n",
       "nH5FQRvfa890He9XxYd8BDpVYxf9gABuIhrfgefmQ89HWwy8GLQ2X6N87CtA3xRoBJ9/Fb2xmJCU\n",
       "/k/J15QTYEHgYzLeBTZmO+axALrNz1gaff6l0Fc3mYnZgP8TzbDsTFM1t91VAOHk81LyfeCkGcur\n",
       "aydugNr/QFIQcMHBoEUozaIkeQsizz5EEXYs548plS/sky0dDTPHp4nVMNnQV8WeP2jJtJucs3iw\n",
       "Q4TXD+JOQFX4wOQutyJ3+2v51hrxKtxRpH5SyRJxakWt1IYSd2QG5BPmGJa3gTZ+jB8y6GVrV1OD\n",
       "BUFhyScDw1crTZ5gR/Gfb86JdpFWQphEiqo0BrbyJ1G1gD33QB+rA+/ypoDxVkP4omnWFtNY6ZGV\n",
       "8cTjOe7l+lL8YWBnHdtop2ioBQaNExzh3trcXsisVCkPLchc9Ezf/vX/e3I3PdTc6n1aFjcAkYu9\n",
       "2/2v55UiApE6HHkGgJFvDhH97AYToNa+C7D9xuiaAVJGVAiSgJGkcIHn7XVgC8vs1cZJKfWuKzcs\n",
       "EAqxDVP9ABfzy82SZ2kuaY/VrnI/x+zfKA9Rb2Sl/GjdxNmtTkspN/NG/yYqd7Y13BltZCJ8/Bts\n",
       "XqcnXRL1ohmQ4/LDKvspsPjKoFOFY0YPJZZV2tDe9uLNJhTuI/fc6SzoSi+I5CosQeZTM2mTzWT4\n",
       "5aSKNqFsbUbuoTNbm//8LGhiMakPn/vibYJGer0S43O6H85ph8rJ5xppILoEJlQ5I6/oCSQw4ac/\n",
       "39IJuhenhI3GuokmYmyW/zVExCqywddJ0BlLZ29/l5XNZdmrmlhrfeTRm4ANQj+EkBMMldpISesb\n",
       "pqskWRXYbHILGdFroIBZtBBxHAnGadnsr5ADiKW3e67lfCHwcuPeh6vLZKSR8+jqqG7BlULIY7yu\n",
       "gCUlhbjqx0cePFtpEB/CPLV6astrUtaUSwT/wIo96SroLUSCY9AMbL3S0rUm09Xx2+Xa5yDlywYe\n",
       "0/wErJ7A7pwvMb4QKiHgzv5c2/KhcGDJJfCBo79oEE2JH2Nd7JE/CV0HoKKFR84YGGQCxaSAUWLX\n",
       "SzG9aGDzzX0blwA3+VxxqVeyv/WlR+9ydqktLstXdYBwQmwFWb3AGUYf0mDvjV7w/U7ZvSDhDJGq\n",
       "y4Sw8ztAEZVbVshd9nDfu0pux9E+IhooZaYv/Bf1z8vQEO/uUVQXwBTidjUzLLxI2w/izOvgXHBY\n",
       "BYVcOXZwBTdeuDwVbJbglB0khtuGmBz8VfRbfaJwI2M7zjBfxA7/ipppwqJNBOCsaBjvFpm+ec/F\n",
       "+aaBsPprUj/MGr9LakAgiq0oaYO7EisM231faNPxeVnHL8iQxDKInTny0/OJd4QFzqTE3+maqSAt\n",
       "cZVGnfTaeyMUk7/IB4jcCQ0GAWY6fECJaSEaQ2tHfCRsENzX/gtPW8Gg2FZL3dd4lOJKTJ5/Mpls\n",
       "NJmjPGUHck7tCMiPzwx7KXvHW7/76UTbC4/7LAbby8ubXCY4gRP4WeA6ni91GrCM4EASvCXl11Qx\n",
       "tYO75OujgtymWaWk5nB4MEJ6BN0D/5uh6qmmkm8eah6laaodDJw0NEoU+imuHy4iaWSjoMSlbwae\n",
       "VkHedC80GzLXZu8AX0nsA2uevKVmKaBx/uQWTOIw2gsfJCbgSpHSKU9pkAN32AeZJBpZ7PJjmJ3C\n",
       "wubdrn7aom1NoBgj9DbVeJ+aVyJxWv/DNmTaQ4D4Ds3Y5/X+8HjwPq8p/hgCsta3TU3Owj3ZA3JG\n",
       "cjKBuQfkKsbNpLwwdSDYM84Fh+o33f8M6G2uxLjvm1cQyWPUArRsVDstZguV7Io7NdNAIU5wFks0\n",
       "RG53WMLqLylvHJWzuD2t7tqYEYsT0K6YzRCw+ssqOKcZDW8DPT8j0U+5mblIpSeRYQXWmjQVLRm6\n",
       "szl/p8QOv2F7/uVLgO4NHCJC9d/1dl7q85su/GcWHrtC7pHncPILnH99M/OpfHjN34VgLg2VGxo4\n",
       "fNurA6/ia33C+KCVN46ouucRSP3sovG8W+LQe+fEXRfPMhL9DCCdtjExrxaKiJlSnGcmpQHEJMGe\n",
       "Gg3lJOaAj9whJXYVSjIAyp7eDae2m+dgAMYmBuqUh7igcdtvZ5XKPTby/GPjK9+Ok8wA25aJgiN7\n",
       "7Gb7jpNxUnKUPyFJQH0bIUmtNss4SVLCTPGd3KEow6DmLI3Krdozilcpn+UX+T9ZhCuCW+jqblJk\n",
       "5ih9kBswxD4wXSiYWQVLDQn17aeiw9Ri/Xzxq2xTvBzJqLJGuECZbl4Nae/dgeu37MWbwkc+hR3E\n",
       "oZ3oRiCFNC+7JjRQL1lSTvCJY8p9iEO+QCISkOXBxqXrl9ML1/Arwgnxd7jEu65v5p6DU69NJPSb\n",
       "f2Cg8SMrnHG6wEi6jeF2jsU+KyoLee0IsnXg8+CS6GVisbxpA5k+Ky37zjLmmTPaJLlj3psGIaR5\n",
       "OxlM5SJ10XbMb+nP0RIc86+OZI6Bd+JLWzHnKc07YunPOBd3RF9yYwIQBni38A7bzwBCWTKJt3k+\n",
       "aW50GY3tDbwetMRjM6Nso96ro5A/pycFZTxeQDx3iZNTzTUORx4YnDcSD/0kiQRRXq7C5XAzNuy1\n",
       "GNDrc/urvws5vP/EKTGhii6SkDSSRLRWbQ8fNhJqg0R6Ppx+thkInPAAlKuugn1P4U130kgBlIXW\n",
       "vBnljGelTKH0dYrVUU6Sq9iDi6mqlbbtFaKynNJOUaNpyrHAEmy9i2BT0jGKNqS4zhEMh+yhdfBt\n",
       "KbjcnbfgYzMNUBysy12Rp4OYcL7RSz259KSwPpKg47TCePVcZaj+oL4ss21uGjf60f993vbsTK53\n",
       "ghi6DHqts/cdFe8rI8TnvOD/DHkGSha9X7zLwnU17T52G1rpC/GHfHD1FU3bt5BoM0axZnnC0aRl\n",
       "JqtgP9O8+lTRxDQpO3CZrw1zGps42J6W9VtY9hYPpX/jUt1Qcnr3uTvT+3Wbf9NWVeYzRy3L/vZR\n",
       "h6pIFZzG3WcUl4NXo5IMwq5zrp44wNPWpvGR0ppA/EEc1Jf8HScYR9HAXWDuD9Nk3pFadyUln7kv\n",
       "baiBgLL6r1vNdQaPuHFTNgkmsn7O66RQ0HigfCtHq1cR4RtUEZCnDN/YgDHoUp1sbz5X4TooD5kA\n",
       "AASMQZoibEEf/rUqgAso9iwA422MOrr8feaIVhOwD7Of8R8afX9sOHfwLNjzry8EYapfbnZlI6Iq\n",
       "YlT/zF++TZ82Io0uSou9OAVsjU41xgIpE1VjT+RP9aTbdxWsL5cochMhhrZNHp5sUYZBuAxvUgZ3\n",
       "QizjiEyLfeej0wvvQPqeS0yUTL/xBM8OXSME+3kp1iV6JXaHFCuH1g1EeXVxmsX5vDyXGvErsPO8\n",
       "QQcEqTR13WWEk+8CnZwARsqKCZddeu5AXB5AJjiX4S+PjuzpDqtV5RY1c/dLnNbVsDH8xyw/cK+3\n",
       "1AC61SUI15NX0+WzSfieLekuqklhISDADkQTqmLM9fq7GMCTRUwaEreCg0oIi729KmPnrAHIQ1Pq\n",
       "dMH5OJl+Ewd5RtJ3PXygAJBLnQIvZqbbzMAw55YFcXzbCYOZOoqXMN+6bP3zDYCAMSh2AP2rAW5A\n",
       "/KQPzeCUwpRKreAQgfAUPfUEmWR8Hvsd9Ag/hP4yANsvf3Jhs5L9IidX5WvicefnePGFZ+dlUFhu\n",
       "zFKmZEyu1yodINRYBaV3JBrLldS3+pjkVkrgZO8yu/cAZd25pQNS27OjVoKJKTdNcQaeN1/rJxfi\n",
       "IwFqnqNhmqtwKBlXBvu3RlqufdAbZ8P7E1aVcoxty3b6Rm9D6dTSb5cBU2lXfS6ZzA9qion6UW+c\n",
       "a8tzcDAXvg/FnXps3Wfhriicc4t/MXKo/jnU9clkCKjiSdR0hR3CgAPSUCeKX7mdVNMMobBSyNyJ\n",
       "HCfIYb3qrWie777H4d+3zj+2hnjqP7/0UXFJ+SkEdVhmzyBMz0UFD3BxjmCVfM4QeojQl+kmRoJ7\n",
       "8dZvrUIdM6xlbATUwZY3zoaPdQO247CN7uNcRCDW5iGij1Br+9CiyaLwSFKqSwncYGZZZLTaeMvD\n",
       "CgJR/Ckf5/u4uz7l/huYItL8Vtk3OK5OXpEfbtQk0W3b76yKEEEEr6UrMVoilFOfN6reMTPcRFxt\n",
       "qSgxfn6bcS2m9SSGPliGdU5bUyCEHD9G7sHB613XE9Fwqd5ATW8a0bEWSAln0UvRgFDjYe+IO0JR\n",
       "2O61eOWMM8EQgnSYcmEZ6rXjTJosO8EU2Q+2iMnGexiLFdSp2q8wTwJ/nboVUwhYrKiFCXex6Gcg\n",
       "qT3BLjA3qJL9A0Uw1//h6Sg3Dm4mk8xjNotK+5L5zYAtzZCt0vrQGpSy3hHeGdGh0rYmabrxqwt3\n",
       "r/kMr8uV2CAzWaTR/Tsxp/sVpqDtrfYW3rsF/NCFItdVYXXJ3BpZVRCiWq6qWBvrJuftUMH+XCWu\n",
       "KpJFmrn+0MZxUk/5Gz3+iplPPODwUjRZ6lLpT36kCYOjZf9ry5h7nmIN3Flyia7FplHXBP9RIsq4\n",
       "2UVOsedb82brVa7nuAEcvjohqQ8b68NaLuGyWSUrKlS5/67L9WJKCEr3MlmmjJhgoDsVdaUqQZ68\n",
       "+wZiVJAJUWHQs3t1hU8fxlLF11bWGpeKGrrxsa9/t+hgVPZ6w00oqnogjE3AhuoFW1Vnuy8Yw5b6\n",
       "tlcpjjf4/rTGcibB1cj/VKVzzGktCU1za7ygAAAD6gGeQXkP/wAeXClpqE/Z/i14gGLzAvCMR2Tt\n",
       "l1KQWa7y8OGVswOv0SmSYlo1mwivHyNOnZyQ6dIKrbAaP+RjqvmBi4b1ymZ1zkmaoBPSwHARpMxb\n",
       "rUQWJkfJt4vi+S/bmEPVimghHF0Ymsl9HkFYQ4h9DW2AN/zTz4nBu+XRarvfR0+DURk/ldvLFpTv\n",
       "xmhDZOcu2GsE1tBLf+wHaUXcgyrQ3LCc3kfIeAZyCpd5gy8+C1KEUIrj13xTnj88s/JV1tN5NGlD\n",
       "DPeKCONdTK/4OdkI5EChVnv5itlO6VGc/RLDljet+Z81lgxDN2wW3/WF9bupVEBueqbdrL5xMzMb\n",
       "Fm2NMsTBdULSFzOj99quOy0TF51O7DuJU47trdrRDF6x8OpH/cxzk6iT/3rZEdkQaHi1Yz0BLY2i\n",
       "AX6cfgl3Z8cuyrCYQ7pYjZmAwxeRjrswmyVSrFc1M5fI41DIJ5P/bDcT/rFpKAWDALrnANe2mSY9\n",
       "8z4FNj6OgeGJlg4bTt12EnDj+71dGVcBrassUWIrey+b7nW3JfHwZHfORh9uzAgcyt90/1zPCFVm\n",
       "9wm7VOuRsJcyVWmcYIJyYV+XbHRKOWDFgcj+Cunx7obsFUDh0xPbAdGxvAF8psY2D4wmi1s/Mn5k\n",
       "RHCYauqD3pHBcR1PoJOvCXWfJ2PvqERePFRgL7P8PHTw6GDJflTiKZSx3d0l2PSXymJEUV2/4QVN\n",
       "sfvBNTbIDhIeNH2c+9ZXWCczQQGrl224kg3OM2pOzpZyg3FCpYHeAC1EyPunef3VlwQogqG9O0Iq\n",
       "fA40/658y8R1KMjx3gJpeK6+tPKs5dN9xPOujyXk5FgN4afdeKO2vENamtFjwLj/OoDoT6Mn2tKx\n",
       "IbkpJqSWYWglwYgHkY22HxnuzhrfdTtI7vOW2KJH5zItT4pU01HnI3VDrC+/1NY5laOPXQQPBsxt\n",
       "8KuE/0dajNQhWQwptc83omrUqjewYRK5u+r01hCMAoTWujobQT7yKjKqRzy1AvPnMY8blurW61zU\n",
       "NkzzHPaBZiTGUbEkVhnrXLOqLD7gfHTYQRCTNxXBM/gnyG0TICGWLtHUIGZVRkT0TGdteWhvvn+H\n",
       "PDq4eoFUBa5u2qEuhAem+LaPAIxoT+yBEP61XE1vC7ROiIEpFnglPRnnThtNQBr6tySuW+iyMcyn\n",
       "T6wMA9xfOjmFoaxw8pvYSiFCXfE6xaVXwkF3M1C6dH8dLE+8plznbVPZ6GPbQo80PrOIgyli2yY+\n",
       "b3UHqB+DmYuoo/f8x3l0q7KD8yX8Bu/yRkpP+3f+F7OUvPkuakyYT5kcAWCZh2OKXjYXzYzh5Ml6\n",
       "ZK7a4W5QwQAAAi1BmkM8IZMphBH//rUqgAQHNmGIAKXAxbVhq4Ueajqfu//NiNzAJjk9+ZU7Vb7f\n",
       "NkHyjnWCFgM4UiVgRP6H1+Db90ReA7ERfvUEUp1WrLb5AU7v5ipdtPF3B1Z+zbrnS5iKPnIOaruf\n",
       "9L6IekzMQMTejgPj25bH5WgEZJ6J7rcS2FXJpQJu2Ypt4h+LjMVp1aY7KxaBgPbpwZIgaTztfpf0\n",
       "h+S7SafvrbJ64ygzY001AMmbkEbMuxAVDUwScbvwt9JsvxMfbeJ5SRMaWTNXYz4qKu+hAKkxdOgf\n",
       "JRnHLHWhnbDPSpAeNlU5lOmwch+0BNe9GM0tDwOwKLo2JuCWRnBBBzTx3bIEHJ3Q1h2i2mkeXHmF\n",
       "pZQKsorjj6QKN+HpJbytm/emsCbZmWBal0qF2AxRcpkczpufOWEpqIYlS6xSCKtV2JgkcMgK2gUa\n",
       "YcGhYZSf/1Ft451adPJ1zQrWp1T4naxCCzkgXF9XjniV9fOxUJoIvufy3WhqXsvSmJMhDm1RSZ6w\n",
       "8rPlh+SEAzmGqEmVXoMTA/9c7vYBfuGgEr0EIYLENjbBBLWf3UKZx0Xa908uvwBOHfvDjVv1qVrx\n",
       "9SC6RO3zWo6ebiZc8G1w3riNaiVi7vDnvNIA2a1JA3g/tEFRHtQFHxOjzp+EIwjdbgpcgT1jpZwd\n",
       "g5sO/Nzzq5xVcDGNUuy8SdL3CyKg9TNgMS3QGxITGDKn6bMCla0MNtiOOTqZuPNMqEo+RCHOIQAA\n",
       "ArxBmmRJ4Q8mUwII//61KoAEx5m+2HgJWABlSoQeKSefgzk9tHD/3bh+DI6hDtbJlRQ/3qCKo4yV\n",
       "2aJJht9lhNqozDMWnwaJPN3Wh3txkAdHj8yvasIxIMhOus6hs9+cg8EqGigqB8p4tE1QDqfZWjJa\n",
       "MQJCrIbGqx5MuS7qS+jJswqikztCVhTPNHReEcLF8n7/gkIzvX31MV76GpBOM7KOLChdBlNjHIrr\n",
       "Y2tlwJlNduPVXog0j76fwPRTvDiqbm70ZvERQoCucW66fS48Guu360O11nbnvmYqNF5X3oa3NkOg\n",
       "V5TDlm3RPTfNGqxikX3bR8w9GDyIOj8XCvZZE7i9joor5fJssG0RyPCcafoh5Q/Buv4nmy46Ayji\n",
       "7Ad53IQgqsRkwtCqZsRxy6QAj6Rx1wzQ1EUoU8sBJbfgLAp8HmuavykzSjmaD/M1x4ALu8/7MNzY\n",
       "Yp8j1kaWFrTMGECK+KXxDojGirJjP3WCDH2regp/WidnfpPIffMNBtISyTMQZW7bocrr/TYH89jJ\n",
       "ifyBwQQnYITpa9fLJp6kgxC3xYYHG1hsF09phAc09MuBTydvXTBvk29WjZMY4m3WnK6NEXhWwBnH\n",
       "0h/hagE3kKqFM9xIW5OmchQQiwVygtTzpMVLpMAWTfHKnB8YAmB9w0HhoynmsFmPOF6bAm2+GAiF\n",
       "fDy5w3h87M8Z7NhWyh994x/VfR0m9PUm1dNNBLgeKPbJtwkpQJAfngYh3QNpBdoNKrBkQ9BfM8p+\n",
       "iE8+8/zVvGI3iAUxXTR2D1NVKlQdfkKTOJMhVLOxQc7nQp1M0Z/3P+sQ6GmokkNfgN+L7AMtLsHW\n",
       "q/qB4k03xLwVBSI/8wCFjj+Eyzm5CrofPzEyacXqEP5VVnqq5K9h9oTenN4u9zFis78PZI+DOLMY\n",
       "Vjx91vNEVgkHjYgdNMqZ+0QjAAAC4UGahUnhDyZTAgj//rUqgATA8518xhpB8saU905btibX3Vhl\n",
       "l/MsADRtgSWqZcHwjEIEWZ8mRiX2cGRwpMZ4FFUBLdgYZYF9ALYvoRYYe7FJZhLVmBxNXYqTWpxZ\n",
       "b/FkKn6y+0CVi8Hr3ZuJUMzIb5kxRSxF8hw2yMKiGEGvq4dYKZFfTyOtPK06AYEW/cgHha5dfvd+\n",
       "hTwOv4Flv1IttqEqqgUUdUOaQFaKX0tt85xQjqOnjzvdjSTFXlVzp7QUpzKCBFOP5gCPSG8MZ1pV\n",
       "s0Qn+Up61reGf9e4/2q6/6nSM9L+3ZYL08Ho+9zJodHszVpbvpdKofiYm+27FuyYGn3i/lmTaHcm\n",
       "675P21UkGOZvDyUI5GviBHEhlRAFzINvtECt36tsBKjYKuMMB+CAk/thYHx8CpZykkGcKpeOtRJT\n",
       "abFutmOYYSaSS/tb6geRngB+3BXsb/xOVVFbroi4Uk6IaeOISzIWsHagOq1WqBWLzwy21rmlp9Ac\n",
       "miwz+DCxQFjpwPU/bi2Hw0NluKegJFjS5Oa33tuZMsgJUHIxDqfV7/ojF3joX8IEKIi9IrCGyof3\n",
       "2sEqaTFGBaQUbxknd6AxSYJx6porlAAZVD9gwlQ35WcTOJPJQppUiHQSDL3OL3DaGX+NlRO2G5p2\n",
       "PCs4bybJzWttasYEC3abnDM5SP5mo/j1qeDVTGz6q1HEhe4KN/6nZ7k0cPuSI1i9UelZGJgjDMZ2\n",
       "E4elUJVF3PYpmCiQw7TBDhlcmiKMF5JmkYORikK80zppzml9TdkwC38ImyBkWCu/WRnbwBv4k7q2\n",
       "Giwl+NkkzbmivtPyMbUxQNjY7rjYxEQuMti0X/392k8vhBsgz72ueUgeg4QlmrjFe/jArjg/yED1\n",
       "wBder1L06DzvoUHq3IYAoMYN1rWY5MCCINm12DRW734Gl4qlGeSuQJM9cbz1WWNGq61BVyOLIxZi\n",
       "v0mphzodZriZXTE2IjxLjRsxAAAB5kGapknhDyZTAgh//qpVAAlPeFQQHfpTF7WT1IXX2oJULiXX\n",
       "G7+542H6zfyw31I/Y1VywCnnO7p3gmPLz/68O9wZmchikBh/heJVssME+7rUVAYbk/fAZztzeqMm\n",
       "SJT9Hw1Zi8a7gY0aF9HEcQZ3BgGB4yoHR+u+u94h6Y0m6hILWMcSuS2OT45oz5ftzs084HowlpKx\n",
       "8ZbWaUwy6pkrTVu1TuAIreIeJ+ISb7Yyftq5CyhIIa/3MtD+lUjAwr48BQ1poTDcBBvPDN6iVNNZ\n",
       "90GvmlpnfIoXtECOUiRCuW6zuxnb9EA3jc1zkJuxBnVUy92mFFF8OJoxgMtBUbgq28DMKijQbBip\n",
       "JEmdea6TgoyUunANUbpk8dfGMU4E2/wBXAO/xJdI5HpJkCGuyStFg3GMho34lW/0cZLWozC18uDD\n",
       "GWxWTLnKw3m7461yCq0WPYtZeV9IyLVlTwvItK20swiftVuf7mtJfNElnxn4qOGqzn1etWz/G8YP\n",
       "tZ+M4LOWXgel2+bWejMhvWLNxMmlrtB/BhrX7S1vVgpf1UVr9wXDGhWC4Kie7PW4hFIJNgL/S+5w\n",
       "8xfi2MnnW65JDUyVoOz5noi8TWj+XqARB0vmg0mq6abFPGyaXTREuIl+hhdQYa1DytqxZQAAAchB\n",
       "msdJ4Q8mUwIf//6plgAkDE+fqp9e4AM4Lrrf1a80ebiiZFn6u2xyJNN/wVnR4rLy6DCN04eUejWy\n",
       "BB5VFz5h1b7fxvFLp4uPTwl52Re5+K18SaCSUeIa87UKrpcJztg4LFwYWT39xY1DYbTzZdeKJhms\n",
       "AH1LErzMsT2jxf0JNkhdQXpDKSZBopEd+Ws5Ioq+SsJL5cjdJun03oYzkYX7+mo+QSEKuPagnCJd\n",
       "g3TQDuF90jKdAMPcloMP5NTxdK3E3sveJf3dxGUbLHN0RuLFy2jI6eQxNg+Moxd6xTYYTqzBNVCl\n",
       "a4mesacagoceigv/NvfdD3F7r+BomWwFCZKqrDocdhsDVCbf8Gw4JWOpQM2iaE2aIN+ORALbKg2a\n",
       "OOLssdecUPtuo/S+UJmDrRWn7Vvf0gLyZ6WsfrQKQjopstZMEdrsfADFs7pWYS/x++/CtpdjJiCA\n",
       "8eTxeMIO3wOl5oPqRu6BFSztUyxuyVn32q4GcyY08VslE0fcQn0AUYshAegSrd60jL+pIyqVdJ74\n",
       "skgR1B//Zh5oqjLq2IfoPRXhkWgFMgzkVaLmJ6BZgEuFgfxfn0SbbCw0HFeRGI3g2T++kpBDKccA\n",
       "AANybW9vdgAAAGxtdmhkAAAAAAAAAAAAAAAAAAAD6AAABkAAAQAAAQAAAAAAAAAAAAAAAAEAAAAA\n",
       "AAAAAAAAAAAAAAABAAAAAAAAAAAAAAAAAABAAAAAAAAAAAAAAAAAAAAAAAAAAAAAAAAAAAAAAAAA\n",
       "AgAAApx0cmFrAAAAXHRraGQAAAADAAAAAAAAAAAAAAABAAAAAAAABkAAAAAAAAAAAAAAAAAAAAAA\n",
       "AAEAAAAAAAAAAAAAAAAAAAABAAAAAAAAAAAAAAAAAABAAAAAAoAAAAHgAAAAAAAkZWR0cwAAABxl\n",
       "bHN0AAAAAAAAAAEAAAZAAAAQAAABAAAAAAIUbWRpYQAAACBtZGhkAAAAAAAAAAAAAAAAAAAoAAAA\n",
       "QABVxAAAAAAALWhkbHIAAAAAAAAAAHZpZGUAAAAAAAAAAAAAAABWaWRlb0hhbmRsZXIAAAABv21p\n",
       "bmYAAAAUdm1oZAAAAAEAAAAAAAAAAAAAACRkaW5mAAAAHGRyZWYAAAAAAAAAAQAAAAx1cmwgAAAA\n",
       "AQAAAX9zdGJsAAAAt3N0c2QAAAAAAAAAAQAAAKdhdmMxAAAAAAAAAAEAAAAAAAAAAAAAAAAAAAAA\n",
       "AoAB4ABIAAAASAAAAAAAAAABAAAAAAAAAAAAAAAAAAAAAAAAAAAAAAAAAAAAAAAAAAAAGP//AAAA\n",
       "NWF2Y0MBZAAW/+EAGGdkABas2UCgPaEAAAMAAQAAAwAKDxYtlgEABmjr48siwP34+AAAAAAcdXVp\n",
       "ZGtoQPJfJE/FujmlG88DI/MAAAAAAAAAGHN0dHMAAAAAAAAAAQAAAAgAAAgAAAAAFHN0c3MAAAAA\n",
       "AAAAAQAAAAEAAAAwY3R0cwAAAAAAAAAEAAAAAQAAEAAAAAABAAAYAAAAAAEAAAgAAAAABQAAEAAA\n",
       "AAAcc3RzYwAAAAAAAAABAAAAAQAAAAgAAAABAAAANHN0c3oAAAAAAAAAAAAAAAgAAB1sAAAEkAAA\n",
       "A+4AAAIxAAACwAAAAuUAAAHqAAABzAAAABRzdGNvAAAAAAAAAAEAAAAwAAAAYnVkdGEAAABabWV0\n",
       "YQAAAAAAAAAhaGRscgAAAAAAAAAAbWRpcmFwcGwAAAAAAAAAAAAAAAAtaWxzdAAAACWpdG9vAAAA\n",
       "HWRhdGEAAAABAAAAAExhdmY2MC4xNy4xMDA=\n",
       "\">\n",
       "  Your browser does not support the video tag.\n",
       "</video>"
      ],
      "text/plain": [
       "<IPython.core.display.HTML object>"
      ]
     },
     "execution_count": 15,
     "metadata": {},
     "output_type": "execute_result"
    },
    {
     "data": {
      "image/png": "[encoded data removed]",
      "text/plain": [
       "<Figure size 640x480 with 1 Axes>"
      ]
     },
     "metadata": {},
     "output_type": "display_data"
    }
   ],
   "source": [
    "HIST_BINS = np.linspace(6, 32, 30)\n",
    "dt = data.iloc[:, 0]\n",
    "n, _ = np.histogram(dt, HIST_BINS)\n",
    "\n",
    "\n",
    "def prepare_animation(bar_container):\n",
    "    def animate(frame_number):\n",
    "        year = data.columns.values\n",
    "        dt = data[year[frame_number]]\n",
    "        n, _ = np.histogram(dt, HIST_BINS)\n",
    "\n",
    "        for count, rect in zip(n, bar_container.patches):\n",
    "            rect.set_height(count)\n",
    "\n",
    "        return bar_container.patches\n",
    "    return animate\n",
    "\n",
    "\n",
    "fig, ax = plt.subplots()\n",
    "_, _, bar_container = ax.hist(dt, HIST_BINS, lw=1, ec=\"red\", fc=\"blue\", alpha=0.8)\n",
    "ax.set_ylim(top=8)\n",
    "\n",
    "ani = animation.FuncAnimation(\n",
    "    fig, prepare_animation(bar_container), 8, repeat=True, blit=True\n",
    ")\n",
    "\n",
    "plt.xlabel(\"Birth Rate\")\n",
    "plt.ylabel(\"Dencity\")\n",
    "plt.title(\"Variation of Birth Rate in Ucraine\")\n",
    "\n",
    "HTML(ani.to_html5_video())"
   ]
  }
 ],
 "metadata": {
  "kernelspec": {
   "display_name": "Python 3",
   "language": "python",
   "name": "python3"
  },
  "language_info": {
   "codemirror_mode": {
    "name": "ipython",
    "version": 3
   },
   "file_extension": ".py",
   "mimetype": "text/x-python",
   "name": "python",
   "nbconvert_exporter": "python",
   "pygments_lexer": "ipython3",
   "version": "3.11.4"
  }
 },
 "nbformat": 4,
 "nbformat_minor": 2
}
