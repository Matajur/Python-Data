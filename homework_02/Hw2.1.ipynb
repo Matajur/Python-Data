{
 "cells": [
  {
   "cell_type": "markdown",
   "metadata": {},
   "source": [
    "### Imports and data extraction"
   ]
  },
  {
   "cell_type": "code",
   "execution_count": 2,
   "metadata": {},
   "outputs": [
    {
     "name": "stdout",
     "output_type": "stream",
     "text": [
      "               Регіон  1950  1960  1970  1990  2000  2012  2014  2019\n",
      "1                Крим  23.0  20.6  16.0  13.0   7.3  12.6     —     —\n",
      "2           Вінницька  22.4  19.2  14.2  12.4   8.4  11.2  10.9   7.6\n",
      "3           Волинська  24.7  25.0  17.9  15.3  11.2  14.8  14.1  10.1\n",
      "4    Дніпропетровська  20.4  20.4  15.1  12.3   7.1  11.2  11.1   7.1\n",
      "5            Донецька  27.1  21.4  14.0  10.9   6.1   9.8   8.2     —\n",
      "6         Житомирська  26.1  22.3  15.9  12.9   8.9  12.2  12.0   7.9\n",
      "7        Закарпатська  31.4  27.3  20.7  16.8  11.5  15.1  14.6  10.4\n",
      "8          Запорізька  21.9  19.7  15.0  12.4   7.1  10.6  10.6   6.8\n",
      "9   Івано-Франківська  24.3  24.8  18.2  15.5  10.3  12.4  12.2   8.8\n",
      "10           Київська  20.4  18.9  15.6  12.3   7.3  12.2  12.1   8.0\n",
      "11     Кіровоградська  21.6  17.1  14.5  12.6   7.9  11.0  10.8   6.8\n",
      "12          Луганська  26.2  23.5  14.4  11.6   6.2   9.6   5.1     —\n",
      "13          Львівська  23.4  24.0  17.1  14.0   9.1  11.9  11.9   8.7\n",
      "14       Миколаївська  21.1  19.4  15.5  13.7   8.0  11.5  11.2   7.1\n",
      "15            Одеська  24.1  19.2  14.8  12.6   8.0  12.7  12.3   8.8\n",
      "16         Полтавська  18.6  16.3  13.1  11.8   7.0   9.9  10.0   6.5\n",
      "17         Рівненська  26.9  26.7  19.3  15.8  11.8  15.9  14.8  10.7\n",
      "18            Сумська  21.6  18.4  13.2  11.5   7.0   9.7   9.2   6.0\n",
      "19      Тернопільська  21.3  21.6  15.7  14.2   9.2  11.3  10.9   7.6\n",
      "20         Харківська  19.7  17.3  14.0  11.4   6.8   9.9  10.1   6.8\n",
      "21         Херсонська  20.8  21.4  16.6  14.3   8.5  11.7  11.5   8.1\n",
      "22        Хмельницька  23.4  19.8  14.8  12.9   8.5  11.3  11.2   7.9\n",
      "23          Черкаська  20.5  17.9  14.4  12.3   7.5  10.0   9.8   6.4\n",
      "24        Чернівецька  24.7  21.8  17.0  14.8  10.1  12.8  12.9   9.2\n",
      "25       Чернігівська  22.0  18.3  12.7  10.8   6.9   9.4   9.0   6.1\n",
      "26               Київ   NaN  17.4  15.9  12.0   7.3  12.0  12.1  11.0\n",
      "27        Севастополь   NaN   NaN   NaN  12.5   7.0  12.0     —     —\n",
      "28            Україна  22.8  20.5  15.2  12.6   7.8  11.4  11.1   8.1\n"
     ]
    }
   ],
   "source": [
    "import matplotlib.pyplot as plt\n",
    "import numpy as np\n",
    "import pandas as pd\n",
    "\n",
    "URL = \"https://uk.wikipedia.org/wiki/%D0%9D%D0%B0%D1%81%D0%B5%D0%BB%D0%B5%D0%BD%D0%BD%D1%8F_%D0%A3%D0%BA%D1%80%D0%B0%D1%97%D0%BD%D0%B8\"\n",
    "STYLE = \"text-align: right\"\n",
    "pd.set_option(\"display.precision\", 1)\n",
    "tmp = pd.read_html(URL, attrs={\"style\": STYLE}, thousands=\".\", decimal=\",\")\n",
    "df = tmp[3:4][0]\n",
    "df.index += 1\n",
    "print(df)"
   ]
  },
  {
   "cell_type": "markdown",
   "metadata": {},
   "source": [
    "### Show head of the table"
   ]
  },
  {
   "cell_type": "code",
   "execution_count": 3,
   "metadata": {},
   "outputs": [
    {
     "data": {
      "text/html": [
       "<div>\n",
       "<style scoped>\n",
       "    .dataframe tbody tr th:only-of-type {\n",
       "        vertical-align: middle;\n",
       "    }\n",
       "\n",
       "    .dataframe tbody tr th {\n",
       "        vertical-align: top;\n",
       "    }\n",
       "\n",
       "    .dataframe thead th {\n",
       "        text-align: right;\n",
       "    }\n",
       "</style>\n",
       "<table border=\"1\" class=\"dataframe\">\n",
       "  <thead>\n",
       "    <tr style=\"text-align: right;\">\n",
       "      <th></th>\n",
       "      <th>Регіон</th>\n",
       "      <th>1950</th>\n",
       "      <th>1960</th>\n",
       "      <th>1970</th>\n",
       "      <th>1990</th>\n",
       "      <th>2000</th>\n",
       "      <th>2012</th>\n",
       "      <th>2014</th>\n",
       "      <th>2019</th>\n",
       "    </tr>\n",
       "  </thead>\n",
       "  <tbody>\n",
       "    <tr>\n",
       "      <th>1</th>\n",
       "      <td>Крим</td>\n",
       "      <td>23.0</td>\n",
       "      <td>20.6</td>\n",
       "      <td>16.0</td>\n",
       "      <td>13.0</td>\n",
       "      <td>7.3</td>\n",
       "      <td>12.6</td>\n",
       "      <td>—</td>\n",
       "      <td>—</td>\n",
       "    </tr>\n",
       "    <tr>\n",
       "      <th>2</th>\n",
       "      <td>Вінницька</td>\n",
       "      <td>22.4</td>\n",
       "      <td>19.2</td>\n",
       "      <td>14.2</td>\n",
       "      <td>12.4</td>\n",
       "      <td>8.4</td>\n",
       "      <td>11.2</td>\n",
       "      <td>10.9</td>\n",
       "      <td>7.6</td>\n",
       "    </tr>\n",
       "    <tr>\n",
       "      <th>3</th>\n",
       "      <td>Волинська</td>\n",
       "      <td>24.7</td>\n",
       "      <td>25.0</td>\n",
       "      <td>17.9</td>\n",
       "      <td>15.3</td>\n",
       "      <td>11.2</td>\n",
       "      <td>14.8</td>\n",
       "      <td>14.1</td>\n",
       "      <td>10.1</td>\n",
       "    </tr>\n",
       "    <tr>\n",
       "      <th>4</th>\n",
       "      <td>Дніпропетровська</td>\n",
       "      <td>20.4</td>\n",
       "      <td>20.4</td>\n",
       "      <td>15.1</td>\n",
       "      <td>12.3</td>\n",
       "      <td>7.1</td>\n",
       "      <td>11.2</td>\n",
       "      <td>11.1</td>\n",
       "      <td>7.1</td>\n",
       "    </tr>\n",
       "    <tr>\n",
       "      <th>5</th>\n",
       "      <td>Донецька</td>\n",
       "      <td>27.1</td>\n",
       "      <td>21.4</td>\n",
       "      <td>14.0</td>\n",
       "      <td>10.9</td>\n",
       "      <td>6.1</td>\n",
       "      <td>9.8</td>\n",
       "      <td>8.2</td>\n",
       "      <td>—</td>\n",
       "    </tr>\n",
       "  </tbody>\n",
       "</table>\n",
       "</div>"
      ],
      "text/plain": [
       "             Регіон  1950  1960  1970  1990  2000  2012  2014  2019\n",
       "1              Крим  23.0  20.6  16.0  13.0   7.3  12.6     —     —\n",
       "2         Вінницька  22.4  19.2  14.2  12.4   8.4  11.2  10.9   7.6\n",
       "3         Волинська  24.7  25.0  17.9  15.3  11.2  14.8  14.1  10.1\n",
       "4  Дніпропетровська  20.4  20.4  15.1  12.3   7.1  11.2  11.1   7.1\n",
       "5          Донецька  27.1  21.4  14.0  10.9   6.1   9.8   8.2     —"
      ]
     },
     "execution_count": 3,
     "metadata": {},
     "output_type": "execute_result"
    }
   ],
   "source": [
    "df.head()"
   ]
  },
  {
   "attachments": {},
   "cell_type": "markdown",
   "metadata": {},
   "source": [
    "### Define the number of rows and columns in the dataframe"
   ]
  },
  {
   "cell_type": "code",
   "execution_count": 4,
   "metadata": {},
   "outputs": [
    {
     "data": {
      "text/plain": [
       "(28, 9)"
      ]
     },
     "execution_count": 4,
     "metadata": {},
     "output_type": "execute_result"
    }
   ],
   "source": [
    "df.shape"
   ]
  },
  {
   "cell_type": "markdown",
   "metadata": {},
   "source": [
    "### In the table, replace the value \"—\" with the value NaN"
   ]
  },
  {
   "cell_type": "code",
   "execution_count": 5,
   "metadata": {},
   "outputs": [
    {
     "data": {
      "text/html": [
       "<div>\n",
       "<style scoped>\n",
       "    .dataframe tbody tr th:only-of-type {\n",
       "        vertical-align: middle;\n",
       "    }\n",
       "\n",
       "    .dataframe tbody tr th {\n",
       "        vertical-align: top;\n",
       "    }\n",
       "\n",
       "    .dataframe thead th {\n",
       "        text-align: right;\n",
       "    }\n",
       "</style>\n",
       "<table border=\"1\" class=\"dataframe\">\n",
       "  <thead>\n",
       "    <tr style=\"text-align: right;\">\n",
       "      <th></th>\n",
       "      <th>Регіон</th>\n",
       "      <th>1950</th>\n",
       "      <th>1960</th>\n",
       "      <th>1970</th>\n",
       "      <th>1990</th>\n",
       "      <th>2000</th>\n",
       "      <th>2012</th>\n",
       "      <th>2014</th>\n",
       "      <th>2019</th>\n",
       "    </tr>\n",
       "  </thead>\n",
       "  <tbody>\n",
       "    <tr>\n",
       "      <th>25</th>\n",
       "      <td>Чернігівська</td>\n",
       "      <td>22.0</td>\n",
       "      <td>18.3</td>\n",
       "      <td>12.7</td>\n",
       "      <td>10.8</td>\n",
       "      <td>6.9</td>\n",
       "      <td>9.4</td>\n",
       "      <td>9.0</td>\n",
       "      <td>6.1</td>\n",
       "    </tr>\n",
       "    <tr>\n",
       "      <th>26</th>\n",
       "      <td>Київ</td>\n",
       "      <td>NaN</td>\n",
       "      <td>17.4</td>\n",
       "      <td>15.9</td>\n",
       "      <td>12.0</td>\n",
       "      <td>7.3</td>\n",
       "      <td>12.0</td>\n",
       "      <td>12.1</td>\n",
       "      <td>11.0</td>\n",
       "    </tr>\n",
       "    <tr>\n",
       "      <th>27</th>\n",
       "      <td>Севастополь</td>\n",
       "      <td>NaN</td>\n",
       "      <td>NaN</td>\n",
       "      <td>NaN</td>\n",
       "      <td>12.5</td>\n",
       "      <td>7.0</td>\n",
       "      <td>12.0</td>\n",
       "      <td>NaN</td>\n",
       "      <td>NaN</td>\n",
       "    </tr>\n",
       "    <tr>\n",
       "      <th>28</th>\n",
       "      <td>Україна</td>\n",
       "      <td>22.8</td>\n",
       "      <td>20.5</td>\n",
       "      <td>15.2</td>\n",
       "      <td>12.6</td>\n",
       "      <td>7.8</td>\n",
       "      <td>11.4</td>\n",
       "      <td>11.1</td>\n",
       "      <td>8.1</td>\n",
       "    </tr>\n",
       "  </tbody>\n",
       "</table>\n",
       "</div>"
      ],
      "text/plain": [
       "          Регіон  1950  1960  1970  1990  2000  2012  2014  2019\n",
       "25  Чернігівська  22.0  18.3  12.7  10.8   6.9   9.4   9.0   6.1\n",
       "26          Київ   NaN  17.4  15.9  12.0   7.3  12.0  12.1  11.0\n",
       "27   Севастополь   NaN   NaN   NaN  12.5   7.0  12.0   NaN   NaN\n",
       "28       Україна  22.8  20.5  15.2  12.6   7.8  11.4  11.1   8.1"
      ]
     },
     "execution_count": 5,
     "metadata": {},
     "output_type": "execute_result"
    }
   ],
   "source": [
    "df = df.replace(\"—\", np.nan)\n",
    "df.tail(4)"
   ]
  },
  {
   "attachments": {},
   "cell_type": "markdown",
   "metadata": {},
   "source": [
    "### Define the types of all columns"
   ]
  },
  {
   "cell_type": "code",
   "execution_count": 6,
   "metadata": {},
   "outputs": [
    {
     "data": {
      "text/plain": [
       "Регіон     object\n",
       "1950      float64\n",
       "1960      float64\n",
       "1970      float64\n",
       "1990      float64\n",
       "2000      float64\n",
       "2012      float64\n",
       "2014       object\n",
       "2019       object\n",
       "dtype: object"
      ]
     },
     "execution_count": 6,
     "metadata": {},
     "output_type": "execute_result"
    }
   ],
   "source": [
    "df.dtypes"
   ]
  },
  {
   "attachments": {},
   "cell_type": "markdown",
   "metadata": {},
   "source": [
    "### Replace non-numeric column types with numeric ones"
   ]
  },
  {
   "cell_type": "code",
   "execution_count": 7,
   "metadata": {},
   "outputs": [
    {
     "data": {
      "text/plain": [
       "Регіон     object\n",
       "1950      float64\n",
       "1960      float64\n",
       "1970      float64\n",
       "1990      float64\n",
       "2000      float64\n",
       "2012      float64\n",
       "2014      float64\n",
       "2019      float64\n",
       "dtype: object"
      ]
     },
     "execution_count": 7,
     "metadata": {},
     "output_type": "execute_result"
    }
   ],
   "source": [
    "df[[\"2014\", \"2019\"]] = df[[\"2014\", \"2019\"]].apply(pd.to_numeric)\n",
    "df.dtypes"
   ]
  },
  {
   "attachments": {},
   "cell_type": "markdown",
   "metadata": {},
   "source": [
    "### Calculate the percentage of blanks in each column"
   ]
  },
  {
   "cell_type": "code",
   "execution_count": 8,
   "metadata": {},
   "outputs": [
    {
     "name": "stdout",
     "output_type": "stream",
     "text": [
      "Регіон    0.00\n",
      "1950      0.07\n",
      "1960      0.04\n",
      "1970      0.04\n",
      "1990      0.00\n",
      "2000      0.00\n",
      "2012      0.00\n",
      "2014      0.07\n",
      "2019      0.14\n",
      "dtype: float64\n"
     ]
    }
   ],
   "source": [
    "nan_count = df.isna().sum().div(df.shape[0])\n",
    "pd.set_option(\"display.precision\", 2)\n",
    "print(nan_count)"
   ]
  },
  {
   "attachments": {},
   "cell_type": "markdown",
   "metadata": {},
   "source": [
    "### Delete the countrywide data from the table, the last row of the table"
   ]
  },
  {
   "cell_type": "code",
   "execution_count": 9,
   "metadata": {},
   "outputs": [
    {
     "data": {
      "text/html": [
       "<div>\n",
       "<style scoped>\n",
       "    .dataframe tbody tr th:only-of-type {\n",
       "        vertical-align: middle;\n",
       "    }\n",
       "\n",
       "    .dataframe tbody tr th {\n",
       "        vertical-align: top;\n",
       "    }\n",
       "\n",
       "    .dataframe thead th {\n",
       "        text-align: right;\n",
       "    }\n",
       "</style>\n",
       "<table border=\"1\" class=\"dataframe\">\n",
       "  <thead>\n",
       "    <tr style=\"text-align: right;\">\n",
       "      <th></th>\n",
       "      <th>Регіон</th>\n",
       "      <th>1950</th>\n",
       "      <th>1960</th>\n",
       "      <th>1970</th>\n",
       "      <th>1990</th>\n",
       "      <th>2000</th>\n",
       "      <th>2012</th>\n",
       "      <th>2014</th>\n",
       "      <th>2019</th>\n",
       "    </tr>\n",
       "  </thead>\n",
       "  <tbody>\n",
       "    <tr>\n",
       "      <th>23</th>\n",
       "      <td>Черкаська</td>\n",
       "      <td>20.5</td>\n",
       "      <td>17.9</td>\n",
       "      <td>14.4</td>\n",
       "      <td>12.3</td>\n",
       "      <td>7.5</td>\n",
       "      <td>10.0</td>\n",
       "      <td>9.8</td>\n",
       "      <td>6.4</td>\n",
       "    </tr>\n",
       "    <tr>\n",
       "      <th>24</th>\n",
       "      <td>Чернівецька</td>\n",
       "      <td>24.7</td>\n",
       "      <td>21.8</td>\n",
       "      <td>17.0</td>\n",
       "      <td>14.8</td>\n",
       "      <td>10.1</td>\n",
       "      <td>12.8</td>\n",
       "      <td>12.9</td>\n",
       "      <td>9.2</td>\n",
       "    </tr>\n",
       "    <tr>\n",
       "      <th>25</th>\n",
       "      <td>Чернігівська</td>\n",
       "      <td>22.0</td>\n",
       "      <td>18.3</td>\n",
       "      <td>12.7</td>\n",
       "      <td>10.8</td>\n",
       "      <td>6.9</td>\n",
       "      <td>9.4</td>\n",
       "      <td>9.0</td>\n",
       "      <td>6.1</td>\n",
       "    </tr>\n",
       "    <tr>\n",
       "      <th>26</th>\n",
       "      <td>Київ</td>\n",
       "      <td>NaN</td>\n",
       "      <td>17.4</td>\n",
       "      <td>15.9</td>\n",
       "      <td>12.0</td>\n",
       "      <td>7.3</td>\n",
       "      <td>12.0</td>\n",
       "      <td>12.1</td>\n",
       "      <td>11.0</td>\n",
       "    </tr>\n",
       "    <tr>\n",
       "      <th>27</th>\n",
       "      <td>Севастополь</td>\n",
       "      <td>NaN</td>\n",
       "      <td>NaN</td>\n",
       "      <td>NaN</td>\n",
       "      <td>12.5</td>\n",
       "      <td>7.0</td>\n",
       "      <td>12.0</td>\n",
       "      <td>NaN</td>\n",
       "      <td>NaN</td>\n",
       "    </tr>\n",
       "  </tbody>\n",
       "</table>\n",
       "</div>"
      ],
      "text/plain": [
       "          Регіон  1950  1960  1970  1990  2000  2012  2014  2019\n",
       "23     Черкаська  20.5  17.9  14.4  12.3   7.5  10.0   9.8   6.4\n",
       "24   Чернівецька  24.7  21.8  17.0  14.8  10.1  12.8  12.9   9.2\n",
       "25  Чернігівська  22.0  18.3  12.7  10.8   6.9   9.4   9.0   6.1\n",
       "26          Київ   NaN  17.4  15.9  12.0   7.3  12.0  12.1  11.0\n",
       "27   Севастополь   NaN   NaN   NaN  12.5   7.0  12.0   NaN   NaN"
      ]
     },
     "execution_count": 9,
     "metadata": {},
     "output_type": "execute_result"
    }
   ],
   "source": [
    "df.drop(df.tail(1).index, inplace=True)\n",
    "pd.set_option(\"display.precision\", 1)\n",
    "df.tail()"
   ]
  },
  {
   "attachments": {},
   "cell_type": "markdown",
   "metadata": {},
   "source": [
    "### Replace missing data in columns with the average values of those columns"
   ]
  },
  {
   "cell_type": "code",
   "execution_count": 10,
   "metadata": {},
   "outputs": [
    {
     "name": "stdout",
     "output_type": "stream",
     "text": [
      "               Регіон  1950  1960  1970  1990  2000  2012  2014  2019\n",
      "1                Крим  23.0  20.6  16.0  13.0   7.3  12.6  11.1   8.0\n",
      "2           Вінницька  22.4  19.2  14.2  12.4   8.4  11.2  10.9   7.6\n",
      "3           Волинська  24.7  25.0  17.9  15.3  11.2  14.8  14.1  10.1\n",
      "4    Дніпропетровська  20.4  20.4  15.1  12.3   7.1  11.2  11.1   7.1\n",
      "5            Донецька  27.1  21.4  14.0  10.9   6.1   9.8   8.2   8.0\n",
      "6         Житомирська  26.1  22.3  15.9  12.9   8.9  12.2  12.0   7.9\n",
      "7        Закарпатська  31.4  27.3  20.7  16.8  11.5  15.1  14.6  10.4\n",
      "8          Запорізька  21.9  19.7  15.0  12.4   7.1  10.6  10.6   6.8\n",
      "9   Івано-Франківська  24.3  24.8  18.2  15.5  10.3  12.4  12.2   8.8\n",
      "10           Київська  20.4  18.9  15.6  12.3   7.3  12.2  12.1   8.0\n",
      "11     Кіровоградська  21.6  17.1  14.5  12.6   7.9  11.0  10.8   6.8\n",
      "12          Луганська  26.2  23.5  14.4  11.6   6.2   9.6   5.1   8.0\n",
      "13          Львівська  23.4  24.0  17.1  14.0   9.1  11.9  11.9   8.7\n",
      "14       Миколаївська  21.1  19.4  15.5  13.7   8.0  11.5  11.2   7.1\n",
      "15            Одеська  24.1  19.2  14.8  12.6   8.0  12.7  12.3   8.8\n",
      "16         Полтавська  18.6  16.3  13.1  11.8   7.0   9.9  10.0   6.5\n",
      "17         Рівненська  26.9  26.7  19.3  15.8  11.8  15.9  14.8  10.7\n",
      "18            Сумська  21.6  18.4  13.2  11.5   7.0   9.7   9.2   6.0\n",
      "19      Тернопільська  21.3  21.6  15.7  14.2   9.2  11.3  10.9   7.6\n",
      "20         Харківська  19.7  17.3  14.0  11.4   6.8   9.9  10.1   6.8\n",
      "21         Херсонська  20.8  21.4  16.6  14.3   8.5  11.7  11.5   8.1\n",
      "22        Хмельницька  23.4  19.8  14.8  12.9   8.5  11.3  11.2   7.9\n",
      "23          Черкаська  20.5  17.9  14.4  12.3   7.5  10.0   9.8   6.4\n",
      "24        Чернівецька  24.7  21.8  17.0  14.8  10.1  12.8  12.9   9.2\n",
      "25       Чернігівська  22.0  18.3  12.7  10.8   6.9   9.4   9.0   6.1\n",
      "26               Київ  23.1  17.4  15.9  12.0   7.3  12.0  12.1  11.0\n",
      "27        Севастополь  23.1  20.8  15.6  12.5   7.0  12.0  11.1   8.0\n"
     ]
    }
   ],
   "source": [
    "df.fillna(df.mean(numeric_only=True), inplace=True)\n",
    "print(df)"
   ]
  },
  {
   "attachments": {},
   "cell_type": "markdown",
   "metadata": {},
   "source": [
    "### Get a list of regions where the birth rate in 2019 was higher than the average for Ukraine"
   ]
  },
  {
   "cell_type": "code",
   "execution_count": 11,
   "metadata": {},
   "outputs": [
    {
     "data": {
      "text/html": [
       "<div>\n",
       "<style scoped>\n",
       "    .dataframe tbody tr th:only-of-type {\n",
       "        vertical-align: middle;\n",
       "    }\n",
       "\n",
       "    .dataframe tbody tr th {\n",
       "        vertical-align: top;\n",
       "    }\n",
       "\n",
       "    .dataframe thead th {\n",
       "        text-align: right;\n",
       "    }\n",
       "</style>\n",
       "<table border=\"1\" class=\"dataframe\">\n",
       "  <thead>\n",
       "    <tr style=\"text-align: right;\">\n",
       "      <th></th>\n",
       "      <th>Регіон</th>\n",
       "      <th>2019</th>\n",
       "    </tr>\n",
       "  </thead>\n",
       "  <tbody>\n",
       "    <tr>\n",
       "      <th>3</th>\n",
       "      <td>Волинська</td>\n",
       "      <td>10.1</td>\n",
       "    </tr>\n",
       "    <tr>\n",
       "      <th>7</th>\n",
       "      <td>Закарпатська</td>\n",
       "      <td>10.4</td>\n",
       "    </tr>\n",
       "    <tr>\n",
       "      <th>9</th>\n",
       "      <td>Івано-Франківська</td>\n",
       "      <td>8.8</td>\n",
       "    </tr>\n",
       "    <tr>\n",
       "      <th>13</th>\n",
       "      <td>Львівська</td>\n",
       "      <td>8.7</td>\n",
       "    </tr>\n",
       "    <tr>\n",
       "      <th>15</th>\n",
       "      <td>Одеська</td>\n",
       "      <td>8.8</td>\n",
       "    </tr>\n",
       "    <tr>\n",
       "      <th>17</th>\n",
       "      <td>Рівненська</td>\n",
       "      <td>10.7</td>\n",
       "    </tr>\n",
       "    <tr>\n",
       "      <th>21</th>\n",
       "      <td>Херсонська</td>\n",
       "      <td>8.1</td>\n",
       "    </tr>\n",
       "    <tr>\n",
       "      <th>24</th>\n",
       "      <td>Чернівецька</td>\n",
       "      <td>9.2</td>\n",
       "    </tr>\n",
       "    <tr>\n",
       "      <th>26</th>\n",
       "      <td>Київ</td>\n",
       "      <td>11.0</td>\n",
       "    </tr>\n",
       "  </tbody>\n",
       "</table>\n",
       "</div>"
      ],
      "text/plain": [
       "               Регіон  2019\n",
       "3           Волинська  10.1\n",
       "7        Закарпатська  10.4\n",
       "9   Івано-Франківська   8.8\n",
       "13          Львівська   8.7\n",
       "15            Одеська   8.8\n",
       "17         Рівненська  10.7\n",
       "21         Херсонська   8.1\n",
       "24        Чернівецька   9.2\n",
       "26               Київ  11.0"
      ]
     },
     "execution_count": 11,
     "metadata": {},
     "output_type": "execute_result"
    }
   ],
   "source": [
    "df[df[\"2019\"] > df[\"2019\"].mean()][[\"Регіон\", \"2019\"]]"
   ]
  },
  {
   "attachments": {},
   "cell_type": "markdown",
   "metadata": {},
   "source": [
    "### Which region had the highest birth rate in 2014?"
   ]
  },
  {
   "cell_type": "code",
   "execution_count": 12,
   "metadata": {},
   "outputs": [
    {
     "data": {
      "text/plain": [
       "Регіон    Рівненська\n",
       "2014            14.8\n",
       "Name: 17, dtype: object"
      ]
     },
     "execution_count": 12,
     "metadata": {},
     "output_type": "execute_result"
    }
   ],
   "source": [
    "df.loc[df[\"2014\"].idxmax(), [\"Регіон\", \"2014\"]]"
   ]
  },
  {
   "attachments": {},
   "cell_type": "markdown",
   "metadata": {},
   "source": [
    "### Construct a bar chart of birth rates by region in 2019"
   ]
  },
  {
   "cell_type": "code",
   "execution_count": 13,
   "metadata": {},
   "outputs": [
    {
     "data": {
      "image/png": "[encoded data removed]",
      "text/plain": [
       "<Figure size 800x600 with 1 Axes>"
      ]
     },
     "metadata": {},
     "output_type": "display_data"
    }
   ],
   "source": [
    "data = df[[\"Регіон\", \"2019\"]]\n",
    "plt.figure(figsize=(8, 6))\n",
    "plt.bar(df[\"Регіон\"], df[\"2019\"], bottom=6)\n",
    "plt.xlabel(\"Region\", fontsize=\"medium\", color=\"midnightblue\")\n",
    "plt.ylabel(\"Births per 1,000 inhabitants\", fontsize=\"medium\", color=\"midnightblue\")\n",
    "plt.title(\"Birth rate in the regions of Ukraine in 2019, ‰\", fontsize=\"large\", color=\"midnightblue\")\n",
    "plt.xticks(rotation = 90)\n",
    "plt.grid(axis=\"y\")\n",
    "plt.show()"
   ]
  },
  {
   "cell_type": "markdown",
   "metadata": {},
   "source": [
    "## Visualization"
   ]
  },
  {
   "cell_type": "markdown",
   "metadata": {},
   "source": [
    "### Birth Rate Dinamics over Time"
   ]
  },
  {
   "cell_type": "code",
   "execution_count": null,
   "metadata": {},
   "outputs": [],
   "source": [
    "fgfg"
   ]
  },
  {
   "cell_type": "markdown",
   "metadata": {},
   "source": [
    "### Birth Rates: Kiyiv City vs Kiyiv Region"
   ]
  },
  {
   "cell_type": "code",
   "execution_count": null,
   "metadata": {},
   "outputs": [],
   "source": [
    "ccvvv"
   ]
  },
  {
   "cell_type": "markdown",
   "metadata": {},
   "source": [
    "### Birth Rate in 2014"
   ]
  },
  {
   "cell_type": "code",
   "execution_count": null,
   "metadata": {},
   "outputs": [],
   "source": [
    "ffgf"
   ]
  }
 ],
 "metadata": {
  "kernelspec": {
   "display_name": "Python 3",
   "language": "python",
   "name": "python3"
  },
  "language_info": {
   "codemirror_mode": {
    "name": "ipython",
    "version": 3
   },
   "file_extension": ".py",
   "mimetype": "text/x-python",
   "name": "python",
   "nbconvert_exporter": "python",
   "pygments_lexer": "ipython3",
   "version": "3.11.4"
  }
 },
 "nbformat": 4,
 "nbformat_minor": 2
}
