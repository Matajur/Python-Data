{
 "cells": [
  {
   "cell_type": "code",
   "execution_count": 6,
   "metadata": {},
   "outputs": [
    {
     "name": "stdout",
     "output_type": "stream",
     "text": [
      "   Jun 2022 Change Programming language    Share  Trends\n",
      "0         1    NaN               Python  27.61 %  -2.8 %\n",
      "1         2    NaN                 Java  17.64 %  -0.7 %\n",
      "2         3    NaN           JavaScript   9.21 %  +0.4 %\n",
      "3         4    NaN                   C#   7.79 %  +0.8 %\n",
      "4         5    NaN                C/C++   7.01 %  +0.4 %\n"
     ]
    }
   ],
   "source": [
    "import pandas as pd\n",
    "\n",
    "tmp = pd.read_html(\"https://statisticstimes.com/tech/top-computer-languages.php\", attrs={\"id\": \"table_id1\"})\n",
    "\n",
    "print(tmp[0].head())"
   ]
  }
 ],
 "metadata": {
  "kernelspec": {
   "display_name": "Python 3",
   "language": "python",
   "name": "python3"
  },
  "language_info": {
   "codemirror_mode": {
    "name": "ipython",
    "version": 3
   },
   "file_extension": ".py",
   "mimetype": "text/x-python",
   "name": "python",
   "nbconvert_exporter": "python",
   "pygments_lexer": "ipython3",
   "version": "3.11.4"
  }
 },
 "nbformat": 4,
 "nbformat_minor": 2
}
