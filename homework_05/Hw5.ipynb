{
 "cells": [
  {
   "cell_type": "markdown",
   "metadata": {},
   "source": [
    "### Load dataset"
   ]
  },
  {
   "cell_type": "code",
   "execution_count": 53,
   "metadata": {},
   "outputs": [],
   "source": [
    "# from google.colab import drive\n",
    "# drive.mount(\"/contetnt/drive\")"
   ]
  },
  {
   "cell_type": "code",
   "execution_count": 54,
   "metadata": {},
   "outputs": [],
   "source": [
    "import numpy as np\n",
    "import pandas as pd\n",
    "from os import listdir, makedirs\n",
    "from os.path import isfile, join, exists"
   ]
  },
  {
   "cell_type": "markdown",
   "metadata": {},
   "source": [
    "List of activities"
   ]
  },
  {
   "cell_type": "code",
   "execution_count": 55,
   "metadata": {},
   "outputs": [
    {
     "data": {
      "text/plain": [
       "['idle', 'running', 'stairs', 'walking']"
      ]
     },
     "execution_count": 55,
     "metadata": {},
     "output_type": "execute_result"
    }
   ],
   "source": [
    "# mypath = \"/content/drive/Mydrive/data\"\n",
    "mypath = \"data\"\n",
    "activities = listdir(mypath)\n",
    "activities"
   ]
  },
  {
   "cell_type": "markdown",
   "metadata": {},
   "source": [
    "Number of activities"
   ]
  },
  {
   "cell_type": "code",
   "execution_count": 56,
   "metadata": {},
   "outputs": [
    {
     "name": "stdout",
     "output_type": "stream",
     "text": [
      "idle :   1039\n",
      "running :   3408\n",
      "stairs :   165\n",
      "walking :   1850\n"
     ]
    }
   ],
   "source": [
    "for act in activities:\n",
    "    path = join(mypath, act)\n",
    "    frames = listdir(path)\n",
    "    print(act, \":  \", len(frames))"
   ]
  },
  {
   "cell_type": "markdown",
   "metadata": {},
   "source": [
    "Data visualization"
   ]
  },
  {
   "cell_type": "code",
   "execution_count": 57,
   "metadata": {},
   "outputs": [
    {
     "data": {
      "text/html": [
       "<div>\n",
       "<style scoped>\n",
       "    .dataframe tbody tr th:only-of-type {\n",
       "        vertical-align: middle;\n",
       "    }\n",
       "\n",
       "    .dataframe tbody tr th {\n",
       "        vertical-align: top;\n",
       "    }\n",
       "\n",
       "    .dataframe thead th {\n",
       "        text-align: right;\n",
       "    }\n",
       "</style>\n",
       "<table border=\"1\" class=\"dataframe\">\n",
       "  <thead>\n",
       "    <tr style=\"text-align: right;\">\n",
       "      <th></th>\n",
       "      <th>accelerometer_X</th>\n",
       "      <th>accelerometer_Y</th>\n",
       "      <th>accelerometer_Z</th>\n",
       "    </tr>\n",
       "  </thead>\n",
       "  <tbody>\n",
       "    <tr>\n",
       "      <th>0</th>\n",
       "      <td>2.322376</td>\n",
       "      <td>3.643975</td>\n",
       "      <td>11.827356</td>\n",
       "    </tr>\n",
       "    <tr>\n",
       "      <th>1</th>\n",
       "      <td>1.781286</td>\n",
       "      <td>4.668694</td>\n",
       "      <td>6.148310</td>\n",
       "    </tr>\n",
       "    <tr>\n",
       "      <th>2</th>\n",
       "      <td>7.963115</td>\n",
       "      <td>-4.113238</td>\n",
       "      <td>1.359907</td>\n",
       "    </tr>\n",
       "    <tr>\n",
       "      <th>3</th>\n",
       "      <td>1.996764</td>\n",
       "      <td>-1.398214</td>\n",
       "      <td>1.163582</td>\n",
       "    </tr>\n",
       "    <tr>\n",
       "      <th>4</th>\n",
       "      <td>5.185841</td>\n",
       "      <td>-12.143391</td>\n",
       "      <td>4.687847</td>\n",
       "    </tr>\n",
       "    <tr>\n",
       "      <th>5</th>\n",
       "      <td>11.219229</td>\n",
       "      <td>-10.625467</td>\n",
       "      <td>-8.087613</td>\n",
       "    </tr>\n",
       "    <tr>\n",
       "      <th>6</th>\n",
       "      <td>10.888829</td>\n",
       "      <td>-13.939042</td>\n",
       "      <td>-1.273715</td>\n",
       "    </tr>\n",
       "    <tr>\n",
       "      <th>7</th>\n",
       "      <td>9.902418</td>\n",
       "      <td>-9.667787</td>\n",
       "      <td>-0.110133</td>\n",
       "    </tr>\n",
       "    <tr>\n",
       "      <th>8</th>\n",
       "      <td>8.097190</td>\n",
       "      <td>-20.934900</td>\n",
       "      <td>1.393425</td>\n",
       "    </tr>\n",
       "    <tr>\n",
       "      <th>9</th>\n",
       "      <td>5.655105</td>\n",
       "      <td>-11.573571</td>\n",
       "      <td>-1.106121</td>\n",
       "    </tr>\n",
       "    <tr>\n",
       "      <th>10</th>\n",
       "      <td>12.363658</td>\n",
       "      <td>-18.253393</td>\n",
       "      <td>-21.442470</td>\n",
       "    </tr>\n",
       "    <tr>\n",
       "      <th>11</th>\n",
       "      <td>5.171476</td>\n",
       "      <td>-9.169792</td>\n",
       "      <td>0.407014</td>\n",
       "    </tr>\n",
       "    <tr>\n",
       "      <th>12</th>\n",
       "      <td>-1.920150</td>\n",
       "      <td>-3.648763</td>\n",
       "      <td>0.244209</td>\n",
       "    </tr>\n",
       "    <tr>\n",
       "      <th>13</th>\n",
       "      <td>0.119710</td>\n",
       "      <td>-7.819463</td>\n",
       "      <td>0.234632</td>\n",
       "    </tr>\n",
       "    <tr>\n",
       "      <th>14</th>\n",
       "      <td>4.908114</td>\n",
       "      <td>-11.271901</td>\n",
       "      <td>-2.561796</td>\n",
       "    </tr>\n",
       "    <tr>\n",
       "      <th>15</th>\n",
       "      <td>0.363919</td>\n",
       "      <td>-15.289372</td>\n",
       "      <td>-1.977611</td>\n",
       "    </tr>\n",
       "    <tr>\n",
       "      <th>16</th>\n",
       "      <td>5.075708</td>\n",
       "      <td>-10.682928</td>\n",
       "      <td>-1.565808</td>\n",
       "    </tr>\n",
       "    <tr>\n",
       "      <th>17</th>\n",
       "      <td>-2.097321</td>\n",
       "      <td>-13.431472</td>\n",
       "      <td>4.252103</td>\n",
       "    </tr>\n",
       "    <tr>\n",
       "      <th>18</th>\n",
       "      <td>4.563349</td>\n",
       "      <td>-10.319010</td>\n",
       "      <td>0.450110</td>\n",
       "    </tr>\n",
       "    <tr>\n",
       "      <th>19</th>\n",
       "      <td>0.837971</td>\n",
       "      <td>-5.544971</td>\n",
       "      <td>-1.441309</td>\n",
       "    </tr>\n",
       "    <tr>\n",
       "      <th>20</th>\n",
       "      <td>2.537854</td>\n",
       "      <td>-8.408437</td>\n",
       "      <td>0.277727</td>\n",
       "    </tr>\n",
       "    <tr>\n",
       "      <th>21</th>\n",
       "      <td>2.494758</td>\n",
       "      <td>-5.980716</td>\n",
       "      <td>2.312799</td>\n",
       "    </tr>\n",
       "    <tr>\n",
       "      <th>22</th>\n",
       "      <td>-2.351106</td>\n",
       "      <td>-14.432248</td>\n",
       "      <td>-0.972046</td>\n",
       "    </tr>\n",
       "    <tr>\n",
       "      <th>23</th>\n",
       "      <td>6.540959</td>\n",
       "      <td>-10.903194</td>\n",
       "      <td>-2.039860</td>\n",
       "    </tr>\n",
       "    <tr>\n",
       "      <th>24</th>\n",
       "      <td>5.214572</td>\n",
       "      <td>-10.749966</td>\n",
       "      <td>-6.234501</td>\n",
       "    </tr>\n",
       "    <tr>\n",
       "      <th>25</th>\n",
       "      <td>4.644751</td>\n",
       "      <td>-12.392388</td>\n",
       "      <td>-1.211466</td>\n",
       "    </tr>\n",
       "    <tr>\n",
       "      <th>26</th>\n",
       "      <td>5.923255</td>\n",
       "      <td>-13.977349</td>\n",
       "      <td>-7.785944</td>\n",
       "    </tr>\n",
       "    <tr>\n",
       "      <th>27</th>\n",
       "      <td>5.339070</td>\n",
       "      <td>-9.495404</td>\n",
       "      <td>0.632069</td>\n",
       "    </tr>\n",
       "    <tr>\n",
       "      <th>28</th>\n",
       "      <td>-2.389413</td>\n",
       "      <td>-4.831499</td>\n",
       "      <td>0.938527</td>\n",
       "    </tr>\n",
       "    <tr>\n",
       "      <th>29</th>\n",
       "      <td>-0.210690</td>\n",
       "      <td>-8.872911</td>\n",
       "      <td>0.043096</td>\n",
       "    </tr>\n",
       "  </tbody>\n",
       "</table>\n",
       "</div>"
      ],
      "text/plain": [
       "    accelerometer_X  accelerometer_Y  accelerometer_Z\n",
       "0          2.322376         3.643975        11.827356\n",
       "1          1.781286         4.668694         6.148310\n",
       "2          7.963115        -4.113238         1.359907\n",
       "3          1.996764        -1.398214         1.163582\n",
       "4          5.185841       -12.143391         4.687847\n",
       "5         11.219229       -10.625467        -8.087613\n",
       "6         10.888829       -13.939042        -1.273715\n",
       "7          9.902418        -9.667787        -0.110133\n",
       "8          8.097190       -20.934900         1.393425\n",
       "9          5.655105       -11.573571        -1.106121\n",
       "10        12.363658       -18.253393       -21.442470\n",
       "11         5.171476        -9.169792         0.407014\n",
       "12        -1.920150        -3.648763         0.244209\n",
       "13         0.119710        -7.819463         0.234632\n",
       "14         4.908114       -11.271901        -2.561796\n",
       "15         0.363919       -15.289372        -1.977611\n",
       "16         5.075708       -10.682928        -1.565808\n",
       "17        -2.097321       -13.431472         4.252103\n",
       "18         4.563349       -10.319010         0.450110\n",
       "19         0.837971        -5.544971        -1.441309\n",
       "20         2.537854        -8.408437         0.277727\n",
       "21         2.494758        -5.980716         2.312799\n",
       "22        -2.351106       -14.432248        -0.972046\n",
       "23         6.540959       -10.903194        -2.039860\n",
       "24         5.214572       -10.749966        -6.234501\n",
       "25         4.644751       -12.392388        -1.211466\n",
       "26         5.923255       -13.977349        -7.785944\n",
       "27         5.339070        -9.495404         0.632069\n",
       "28        -2.389413        -4.831499         0.938527\n",
       "29        -0.210690        -8.872911         0.043096"
      ]
     },
     "execution_count": 57,
     "metadata": {},
     "output_type": "execute_result"
    }
   ],
   "source": [
    "frames = listdir(join(mypath, activities[-1]))  # \"walking\"\n",
    "frame = pd.read_csv(join(join(mypath, activities[-1]), frames[0]))\n",
    "frame"
   ]
  },
  {
   "cell_type": "markdown",
   "metadata": {},
   "source": [
    "### Data processing"
   ]
  },
  {
   "cell_type": "code",
   "execution_count": 58,
   "metadata": {},
   "outputs": [],
   "source": [
    "import pickle\n",
    "from scipy.fftpack import fft, rfft\n",
    "from sklearn import model_selection\n",
    "from sklearn import preprocessing\n",
    "from sklearn.metrics import mean_squared_error, mean_absolute_error"
   ]
  },
  {
   "cell_type": "markdown",
   "metadata": {},
   "source": [
    "Features"
   ]
  },
  {
   "cell_type": "code",
   "execution_count": 59,
   "metadata": {},
   "outputs": [
    {
     "data": {
      "text/plain": [
       "39"
      ]
     },
     "execution_count": 59,
     "metadata": {},
     "output_type": "execute_result"
    }
   ],
   "source": [
    "features = [\n",
    "    \"skew_X\",\n",
    "    \"skew_Y\",\n",
    "    \"skew_Z\",\n",
    "    \"kurtosis_X\",\n",
    "    \"kurtosis_Y\",\n",
    "    \"kurtosis_Z\",\n",
    "    \"max_X\",\n",
    "    \"max_Y\",\n",
    "    \"max_Z\",\n",
    "    \"min_X\",\n",
    "    \"min_Y\",\n",
    "    \"min_Z\",\n",
    "    \"mean_X\",\n",
    "    \"mean_Y\",\n",
    "    \"mean_Z\",\n",
    "    \"std_X\",\n",
    "    \"std_Y\",\n",
    "    \"std_Z\",\n",
    "    \"variance_X\",\n",
    "    \"variance_Y\",\n",
    "    \"variance_Z\",\n",
    "    \"median_X\",\n",
    "    \"median_Y\",\n",
    "    \"median_Z\",\n",
    "    \"index_max_X\",\n",
    "    \"index_max_Y\",\n",
    "    \"index_max_Z\",\n",
    "    \"index_min_X\",\n",
    "    \"index_min_Y\",\n",
    "    \"index_min_Z\",\n",
    "    \"correlation_X\",\n",
    "    \"correlation_Y\",\n",
    "    \"correlation_Z\",\n",
    "    \"mae_X\",\n",
    "    \"mae_Y\",\n",
    "    \"mae_Z\",\n",
    "    \"rmse_X\",\n",
    "    \"rmse_Y\",\n",
    "    \"rmse_Z\",\n",
    "]\n",
    "\n",
    "len(features)"
   ]
  },
  {
   "cell_type": "markdown",
   "metadata": {},
   "source": [
    "Function to calculate all statistic features"
   ]
  },
  {
   "cell_type": "code",
   "execution_count": 60,
   "metadata": {},
   "outputs": [
    {
     "data": {
      "text/plain": [
       "39"
      ]
     },
     "execution_count": 60,
     "metadata": {},
     "output_type": "execute_result"
    }
   ],
   "source": [
    "def get_stat_features(frame):\n",
    "    fr = frame.copy()\n",
    "    features = []\n",
    "    features = np.array(features)\n",
    "\n",
    "    features = np.concatenate((features, fr.skew(axis=0).values), axis=0)\n",
    "    features = np.concatenate((features, fr.kurt(axis=0).values), axis=0)\n",
    "    features = np.concatenate((features, fr.max(axis=0).values), axis=0)\n",
    "    features = np.concatenate((features, fr.min(axis=0).values), axis=0)\n",
    "    features = np.concatenate((features, fr.mean(axis=0).values), axis=0)\n",
    "    features = np.concatenate((features, fr.std(axis=0).values), axis=0)\n",
    "    features = np.concatenate((features, fr.var(axis=0).values), axis=0)\n",
    "    features = np.concatenate((features, fr.median(axis=0).values), axis=0)\n",
    "    features = np.concatenate((features, fr.idxmax(axis=0).values), axis=0)\n",
    "    features = np.concatenate((features, fr.idxmin(axis=0).values), axis=0)\n",
    "\n",
    "    correlations = fr.corr()\n",
    "    corr = np.array(\n",
    "        [\n",
    "            correlations[\"accelerometer_X\"][\"accelerometer_Y\"],\n",
    "            correlations[\"accelerometer_Y\"][\"accelerometer_Z\"],\n",
    "            correlations[\"accelerometer_Z\"][\"accelerometer_Z\"],\n",
    "        ]\n",
    "    )\n",
    "    features = np.concatenate((features, corr), axis=0)\n",
    "\n",
    "    fr[\"mean_X\"] = fr.mean(axis=0)[\"accelerometer_X\"]\n",
    "    fr[\"mean_Y\"] = fr.mean(axis=0)[\"accelerometer_Y\"]\n",
    "    fr[\"mean_Z\"] = fr.mean(axis=0)[\"accelerometer_Z\"]\n",
    "\n",
    "    mae_X = mean_absolute_error(fr[\"accelerometer_X\"], fr[\"mean_X\"])\n",
    "    mae_Y = mean_absolute_error(fr[\"accelerometer_Y\"], fr[\"mean_Y\"])\n",
    "    mae_Z = mean_absolute_error(fr[\"accelerometer_Z\"], fr[\"mean_Z\"])\n",
    "\n",
    "    rmse_X = np.sqrt(mean_squared_error(fr[\"accelerometer_X\"], fr[\"mean_X\"]))\n",
    "    rmse_Y = np.sqrt(mean_squared_error(fr[\"accelerometer_Y\"], fr[\"mean_Y\"]))\n",
    "    rmse_Z = np.sqrt(mean_squared_error(fr[\"accelerometer_Z\"], fr[\"mean_Z\"]))\n",
    "\n",
    "    metrics = np.array([mae_X, mae_Y, mae_Z, rmse_X, rmse_Y, rmse_Z])\n",
    "    features = np.concatenate((features, metrics), axis=0)\n",
    "\n",
    "    return features\n",
    "\n",
    "\n",
    "len(get_stat_features(frame))"
   ]
  },
  {
   "cell_type": "code",
   "execution_count": 61,
   "metadata": {},
   "outputs": [
    {
     "data": {
      "text/html": [
       "<div>\n",
       "<style scoped>\n",
       "    .dataframe tbody tr th:only-of-type {\n",
       "        vertical-align: middle;\n",
       "    }\n",
       "\n",
       "    .dataframe tbody tr th {\n",
       "        vertical-align: top;\n",
       "    }\n",
       "\n",
       "    .dataframe thead th {\n",
       "        text-align: right;\n",
       "    }\n",
       "</style>\n",
       "<table border=\"1\" class=\"dataframe\">\n",
       "  <thead>\n",
       "    <tr style=\"text-align: right;\">\n",
       "      <th></th>\n",
       "      <th>values</th>\n",
       "    </tr>\n",
       "  </thead>\n",
       "  <tbody>\n",
       "    <tr>\n",
       "      <th>skew_X</th>\n",
       "      <td>0.197811</td>\n",
       "    </tr>\n",
       "    <tr>\n",
       "      <th>skew_Y</th>\n",
       "      <td>0.659964</td>\n",
       "    </tr>\n",
       "    <tr>\n",
       "      <th>skew_Z</th>\n",
       "      <td>-1.635672</td>\n",
       "    </tr>\n",
       "    <tr>\n",
       "      <th>kurtosis_X</th>\n",
       "      <td>-0.543699</td>\n",
       "    </tr>\n",
       "    <tr>\n",
       "      <th>kurtosis_Y</th>\n",
       "      <td>1.078947</td>\n",
       "    </tr>\n",
       "    <tr>\n",
       "      <th>kurtosis_Z</th>\n",
       "      <td>7.158918</td>\n",
       "    </tr>\n",
       "    <tr>\n",
       "      <th>max_X</th>\n",
       "      <td>12.363658</td>\n",
       "    </tr>\n",
       "    <tr>\n",
       "      <th>max_Y</th>\n",
       "      <td>4.668694</td>\n",
       "    </tr>\n",
       "    <tr>\n",
       "      <th>max_Z</th>\n",
       "      <td>11.827356</td>\n",
       "    </tr>\n",
       "    <tr>\n",
       "      <th>min_X</th>\n",
       "      <td>-2.389413</td>\n",
       "    </tr>\n",
       "    <tr>\n",
       "      <th>min_Y</th>\n",
       "      <td>-20.934900</td>\n",
       "    </tr>\n",
       "    <tr>\n",
       "      <th>min_Z</th>\n",
       "      <td>-21.442470</td>\n",
       "    </tr>\n",
       "    <tr>\n",
       "      <th>mean_X</th>\n",
       "      <td>4.071420</td>\n",
       "    </tr>\n",
       "    <tr>\n",
       "      <th>mean_Y</th>\n",
       "      <td>-9.385271</td>\n",
       "    </tr>\n",
       "    <tr>\n",
       "      <th>mean_Z</th>\n",
       "      <td>-0.714589</td>\n",
       "    </tr>\n",
       "    <tr>\n",
       "      <th>std_X</th>\n",
       "      <td>4.084899</td>\n",
       "    </tr>\n",
       "    <tr>\n",
       "      <th>std_Y</th>\n",
       "      <td>5.590863</td>\n",
       "    </tr>\n",
       "    <tr>\n",
       "      <th>std_Z</th>\n",
       "      <td>5.457910</td>\n",
       "    </tr>\n",
       "    <tr>\n",
       "      <th>variance_X</th>\n",
       "      <td>16.686403</td>\n",
       "    </tr>\n",
       "    <tr>\n",
       "      <th>variance_Y</th>\n",
       "      <td>31.257749</td>\n",
       "    </tr>\n",
       "    <tr>\n",
       "      <th>variance_Z</th>\n",
       "      <td>29.788785</td>\n",
       "    </tr>\n",
       "    <tr>\n",
       "      <th>median_X</th>\n",
       "      <td>4.776433</td>\n",
       "    </tr>\n",
       "    <tr>\n",
       "      <th>median_Y</th>\n",
       "      <td>-10.472238</td>\n",
       "    </tr>\n",
       "    <tr>\n",
       "      <th>median_Z</th>\n",
       "      <td>0.138864</td>\n",
       "    </tr>\n",
       "    <tr>\n",
       "      <th>index_max_X</th>\n",
       "      <td>10.000000</td>\n",
       "    </tr>\n",
       "    <tr>\n",
       "      <th>index_max_Y</th>\n",
       "      <td>1.000000</td>\n",
       "    </tr>\n",
       "    <tr>\n",
       "      <th>index_max_Z</th>\n",
       "      <td>0.000000</td>\n",
       "    </tr>\n",
       "    <tr>\n",
       "      <th>index_min_X</th>\n",
       "      <td>28.000000</td>\n",
       "    </tr>\n",
       "    <tr>\n",
       "      <th>index_min_Y</th>\n",
       "      <td>8.000000</td>\n",
       "    </tr>\n",
       "    <tr>\n",
       "      <th>index_min_Z</th>\n",
       "      <td>10.000000</td>\n",
       "    </tr>\n",
       "    <tr>\n",
       "      <th>correlation_X</th>\n",
       "      <td>-0.377665</td>\n",
       "    </tr>\n",
       "    <tr>\n",
       "      <th>correlation_Y</th>\n",
       "      <td>0.567173</td>\n",
       "    </tr>\n",
       "    <tr>\n",
       "      <th>correlation_Z</th>\n",
       "      <td>1.000000</td>\n",
       "    </tr>\n",
       "    <tr>\n",
       "      <th>mae_X</th>\n",
       "      <td>3.296167</td>\n",
       "    </tr>\n",
       "    <tr>\n",
       "      <th>mae_Y</th>\n",
       "      <td>4.076527</td>\n",
       "    </tr>\n",
       "    <tr>\n",
       "      <th>mae_Z</th>\n",
       "      <td>3.227373</td>\n",
       "    </tr>\n",
       "    <tr>\n",
       "      <th>rmse_X</th>\n",
       "      <td>4.016241</td>\n",
       "    </tr>\n",
       "    <tr>\n",
       "      <th>rmse_Y</th>\n",
       "      <td>5.496892</td>\n",
       "    </tr>\n",
       "    <tr>\n",
       "      <th>rmse_Z</th>\n",
       "      <td>5.366174</td>\n",
       "    </tr>\n",
       "  </tbody>\n",
       "</table>\n",
       "</div>"
      ],
      "text/plain": [
       "                  values\n",
       "skew_X          0.197811\n",
       "skew_Y          0.659964\n",
       "skew_Z         -1.635672\n",
       "kurtosis_X     -0.543699\n",
       "kurtosis_Y      1.078947\n",
       "kurtosis_Z      7.158918\n",
       "max_X          12.363658\n",
       "max_Y           4.668694\n",
       "max_Z          11.827356\n",
       "min_X          -2.389413\n",
       "min_Y         -20.934900\n",
       "min_Z         -21.442470\n",
       "mean_X          4.071420\n",
       "mean_Y         -9.385271\n",
       "mean_Z         -0.714589\n",
       "std_X           4.084899\n",
       "std_Y           5.590863\n",
       "std_Z           5.457910\n",
       "variance_X     16.686403\n",
       "variance_Y     31.257749\n",
       "variance_Z     29.788785\n",
       "median_X        4.776433\n",
       "median_Y      -10.472238\n",
       "median_Z        0.138864\n",
       "index_max_X    10.000000\n",
       "index_max_Y     1.000000\n",
       "index_max_Z     0.000000\n",
       "index_min_X    28.000000\n",
       "index_min_Y     8.000000\n",
       "index_min_Z    10.000000\n",
       "correlation_X  -0.377665\n",
       "correlation_Y   0.567173\n",
       "correlation_Z   1.000000\n",
       "mae_X           3.296167\n",
       "mae_Y           4.076527\n",
       "mae_Z           3.227373\n",
       "rmse_X          4.016241\n",
       "rmse_Y          5.496892\n",
       "rmse_Z          5.366174"
      ]
     },
     "execution_count": 61,
     "metadata": {},
     "output_type": "execute_result"
    }
   ],
   "source": [
    "stat_features = pd.DataFrame(data=get_stat_features(frame), index=features)\n",
    "stat_features.columns = [\"values\"]\n",
    "stat_features"
   ]
  },
  {
   "cell_type": "markdown",
   "metadata": {},
   "source": [
    "Function to calculate all Fast Fourier Transform coefficients (convertion of data to frequency domain from time domain)"
   ]
  },
  {
   "cell_type": "code",
   "execution_count": 62,
   "metadata": {},
   "outputs": [
    {
     "data": {
      "text/plain": [
       "30"
      ]
     },
     "execution_count": 62,
     "metadata": {},
     "output_type": "execute_result"
    }
   ],
   "source": [
    "def get_fft_features(frame):\n",
    "    fft_X = np.array(preprocessing.normalize([rfft(frame[\"accelerometer_X\"].values)]))\n",
    "    fft_Y = np.array(preprocessing.normalize([rfft(frame[\"accelerometer_Y\"].values)]))\n",
    "    fft_Z = np.array(preprocessing.normalize([rfft(frame[\"accelerometer_Z\"].values)]))\n",
    "\n",
    "    features = np.concatenate((fft_X, fft_Y), axis=0)\n",
    "    features = np.concatenate((features, fft_Z), axis=0)\n",
    "\n",
    "    return features.T\n",
    "\n",
    "\n",
    "len(get_fft_features(frame))"
   ]
  },
  {
   "cell_type": "code",
   "execution_count": 63,
   "metadata": {},
   "outputs": [
    {
     "data": {
      "text/html": [
       "<div>\n",
       "<style scoped>\n",
       "    .dataframe tbody tr th:only-of-type {\n",
       "        vertical-align: middle;\n",
       "    }\n",
       "\n",
       "    .dataframe tbody tr th {\n",
       "        vertical-align: top;\n",
       "    }\n",
       "\n",
       "    .dataframe thead tr th {\n",
       "        text-align: left;\n",
       "    }\n",
       "</style>\n",
       "<table border=\"1\" class=\"dataframe\">\n",
       "  <thead>\n",
       "    <tr>\n",
       "      <th></th>\n",
       "      <th>accelerometer_X</th>\n",
       "      <th>accelerometer_Y</th>\n",
       "      <th>accelerometer_Z</th>\n",
       "    </tr>\n",
       "  </thead>\n",
       "  <tbody>\n",
       "    <tr>\n",
       "      <th>0</th>\n",
       "      <td>0.818215</td>\n",
       "      <td>-0.922151</td>\n",
       "      <td>-0.183724</td>\n",
       "    </tr>\n",
       "    <tr>\n",
       "      <th>1</th>\n",
       "      <td>0.079673</td>\n",
       "      <td>0.142657</td>\n",
       "      <td>0.208943</td>\n",
       "    </tr>\n",
       "    <tr>\n",
       "      <th>2</th>\n",
       "      <td>-0.259434</td>\n",
       "      <td>0.026101</td>\n",
       "      <td>0.073640</td>\n",
       "    </tr>\n",
       "    <tr>\n",
       "      <th>3</th>\n",
       "      <td>-0.266388</td>\n",
       "      <td>0.178724</td>\n",
       "      <td>0.338499</td>\n",
       "    </tr>\n",
       "    <tr>\n",
       "      <th>4</th>\n",
       "      <td>-0.013780</td>\n",
       "      <td>-0.071970</td>\n",
       "      <td>-0.301204</td>\n",
       "    </tr>\n",
       "    <tr>\n",
       "      <th>5</th>\n",
       "      <td>-0.125891</td>\n",
       "      <td>0.140604</td>\n",
       "      <td>0.160996</td>\n",
       "    </tr>\n",
       "    <tr>\n",
       "      <th>6</th>\n",
       "      <td>0.083944</td>\n",
       "      <td>-0.120517</td>\n",
       "      <td>-0.028451</td>\n",
       "    </tr>\n",
       "    <tr>\n",
       "      <th>7</th>\n",
       "      <td>-0.016029</td>\n",
       "      <td>-0.017203</td>\n",
       "      <td>0.207865</td>\n",
       "    </tr>\n",
       "    <tr>\n",
       "      <th>8</th>\n",
       "      <td>-0.106537</td>\n",
       "      <td>0.033249</td>\n",
       "      <td>0.109112</td>\n",
       "    </tr>\n",
       "    <tr>\n",
       "      <th>9</th>\n",
       "      <td>0.003464</td>\n",
       "      <td>0.086365</td>\n",
       "      <td>0.136449</td>\n",
       "    </tr>\n",
       "    <tr>\n",
       "      <th>10</th>\n",
       "      <td>-0.047614</td>\n",
       "      <td>-0.067746</td>\n",
       "      <td>-0.149052</td>\n",
       "    </tr>\n",
       "    <tr>\n",
       "      <th>11</th>\n",
       "      <td>0.139823</td>\n",
       "      <td>-0.017307</td>\n",
       "      <td>-0.251155</td>\n",
       "    </tr>\n",
       "    <tr>\n",
       "      <th>12</th>\n",
       "      <td>-0.053842</td>\n",
       "      <td>-0.037228</td>\n",
       "      <td>-0.056026</td>\n",
       "    </tr>\n",
       "    <tr>\n",
       "      <th>13</th>\n",
       "      <td>-0.108587</td>\n",
       "      <td>-0.016130</td>\n",
       "      <td>0.252838</td>\n",
       "    </tr>\n",
       "    <tr>\n",
       "      <th>14</th>\n",
       "      <td>-0.143645</td>\n",
       "      <td>0.024111</td>\n",
       "      <td>0.247268</td>\n",
       "    </tr>\n",
       "    <tr>\n",
       "      <th>15</th>\n",
       "      <td>-0.023266</td>\n",
       "      <td>-0.009097</td>\n",
       "      <td>0.164244</td>\n",
       "    </tr>\n",
       "    <tr>\n",
       "      <th>16</th>\n",
       "      <td>0.024253</td>\n",
       "      <td>-0.061660</td>\n",
       "      <td>-0.154378</td>\n",
       "    </tr>\n",
       "    <tr>\n",
       "      <th>17</th>\n",
       "      <td>0.093590</td>\n",
       "      <td>0.028089</td>\n",
       "      <td>-0.034273</td>\n",
       "    </tr>\n",
       "    <tr>\n",
       "      <th>18</th>\n",
       "      <td>-0.021821</td>\n",
       "      <td>-0.011367</td>\n",
       "      <td>-0.183923</td>\n",
       "    </tr>\n",
       "    <tr>\n",
       "      <th>19</th>\n",
       "      <td>-0.038139</td>\n",
       "      <td>0.074195</td>\n",
       "      <td>0.169484</td>\n",
       "    </tr>\n",
       "    <tr>\n",
       "      <th>20</th>\n",
       "      <td>0.086338</td>\n",
       "      <td>-0.058456</td>\n",
       "      <td>0.014784</td>\n",
       "    </tr>\n",
       "    <tr>\n",
       "      <th>21</th>\n",
       "      <td>-0.008217</td>\n",
       "      <td>0.018058</td>\n",
       "      <td>0.133930</td>\n",
       "    </tr>\n",
       "    <tr>\n",
       "      <th>22</th>\n",
       "      <td>0.184825</td>\n",
       "      <td>-0.040690</td>\n",
       "      <td>-0.300186</td>\n",
       "    </tr>\n",
       "    <tr>\n",
       "      <th>23</th>\n",
       "      <td>0.011290</td>\n",
       "      <td>-0.023742</td>\n",
       "      <td>-0.098646</td>\n",
       "    </tr>\n",
       "    <tr>\n",
       "      <th>24</th>\n",
       "      <td>-0.051700</td>\n",
       "      <td>-0.016907</td>\n",
       "      <td>0.002159</td>\n",
       "    </tr>\n",
       "    <tr>\n",
       "      <th>25</th>\n",
       "      <td>0.115382</td>\n",
       "      <td>0.108936</td>\n",
       "      <td>0.113617</td>\n",
       "    </tr>\n",
       "    <tr>\n",
       "      <th>26</th>\n",
       "      <td>0.064569</td>\n",
       "      <td>-0.044086</td>\n",
       "      <td>0.291058</td>\n",
       "    </tr>\n",
       "    <tr>\n",
       "      <th>27</th>\n",
       "      <td>-0.081435</td>\n",
       "      <td>-0.010549</td>\n",
       "      <td>0.194674</td>\n",
       "    </tr>\n",
       "    <tr>\n",
       "      <th>28</th>\n",
       "      <td>0.063638</td>\n",
       "      <td>-0.056255</td>\n",
       "      <td>0.028619</td>\n",
       "    </tr>\n",
       "    <tr>\n",
       "      <th>29</th>\n",
       "      <td>0.097963</td>\n",
       "      <td>-0.087008</td>\n",
       "      <td>-0.170346</td>\n",
       "    </tr>\n",
       "  </tbody>\n",
       "</table>\n",
       "</div>"
      ],
      "text/plain": [
       "   accelerometer_X accelerometer_Y accelerometer_Z\n",
       "0         0.818215       -0.922151       -0.183724\n",
       "1         0.079673        0.142657        0.208943\n",
       "2        -0.259434        0.026101        0.073640\n",
       "3        -0.266388        0.178724        0.338499\n",
       "4        -0.013780       -0.071970       -0.301204\n",
       "5        -0.125891        0.140604        0.160996\n",
       "6         0.083944       -0.120517       -0.028451\n",
       "7        -0.016029       -0.017203        0.207865\n",
       "8        -0.106537        0.033249        0.109112\n",
       "9         0.003464        0.086365        0.136449\n",
       "10       -0.047614       -0.067746       -0.149052\n",
       "11        0.139823       -0.017307       -0.251155\n",
       "12       -0.053842       -0.037228       -0.056026\n",
       "13       -0.108587       -0.016130        0.252838\n",
       "14       -0.143645        0.024111        0.247268\n",
       "15       -0.023266       -0.009097        0.164244\n",
       "16        0.024253       -0.061660       -0.154378\n",
       "17        0.093590        0.028089       -0.034273\n",
       "18       -0.021821       -0.011367       -0.183923\n",
       "19       -0.038139        0.074195        0.169484\n",
       "20        0.086338       -0.058456        0.014784\n",
       "21       -0.008217        0.018058        0.133930\n",
       "22        0.184825       -0.040690       -0.300186\n",
       "23        0.011290       -0.023742       -0.098646\n",
       "24       -0.051700       -0.016907        0.002159\n",
       "25        0.115382        0.108936        0.113617\n",
       "26        0.064569       -0.044086        0.291058\n",
       "27       -0.081435       -0.010549        0.194674\n",
       "28        0.063638       -0.056255        0.028619\n",
       "29        0.097963       -0.087008       -0.170346"
      ]
     },
     "execution_count": 63,
     "metadata": {},
     "output_type": "execute_result"
    }
   ],
   "source": [
    "fft_features = pd.DataFrame(data=get_fft_features(frame), index=frame.index)\n",
    "fft_features.columns = [frame.columns]\n",
    "fft_features"
   ]
  },
  {
   "cell_type": "markdown",
   "metadata": {},
   "source": [
    "### Data Preparation"
   ]
  },
  {
   "cell_type": "markdown",
   "metadata": {},
   "source": [
    "Prepare one class with statistic & FFT features"
   ]
  },
  {
   "cell_type": "code",
   "execution_count": 64,
   "metadata": {},
   "outputs": [],
   "source": [
    "def class_data_stat_fft_prepare(class_name, class_number):\n",
    "    path = join(mypath, class_name)\n",
    "    X = []\n",
    "\n",
    "    for item in listdir(path):\n",
    "        frame = pd.read_csv(join(path, item))\n",
    "        features_stat = get_stat_features(frame)\n",
    "        features_fft = get_fft_features(frame)\n",
    "        features = np.concatenate((features_stat, features_fft.flatten()), axis=0)\n",
    "        X.append(features)\n",
    "\n",
    "    y = [class_number] * len(X)\n",
    "\n",
    "    X = np.array(X)\n",
    "    y = np.array(y)\n",
    "\n",
    "    return X, y"
   ]
  },
  {
   "cell_type": "markdown",
   "metadata": {},
   "source": [
    "Prepare one class with FFT features"
   ]
  },
  {
   "cell_type": "code",
   "execution_count": 65,
   "metadata": {},
   "outputs": [],
   "source": [
    "def class_data_fft_prepare(class_name, class_number):\n",
    "    path = join(mypath, class_name)\n",
    "    X = []\n",
    "\n",
    "    for item in listdir(path):\n",
    "        frame = pd.read_csv(join(path, item))\n",
    "        features = get_fft_features(frame)\n",
    "        X.append(features.flatten())\n",
    "\n",
    "    y = [class_number] * len(X)\n",
    "\n",
    "    X = np.array(X)\n",
    "    y = np.array(y)\n",
    "\n",
    "    return X, y\n"
   ]
  },
  {
   "cell_type": "markdown",
   "metadata": {},
   "source": [
    "Prepare one class with statistic features"
   ]
  },
  {
   "cell_type": "code",
   "execution_count": 66,
   "metadata": {},
   "outputs": [],
   "source": [
    "def class_data_stat_prepare(class_name, class_number):\n",
    "    path = join(mypath, class_name)\n",
    "    X = []\n",
    "\n",
    "    for item in listdir(path):\n",
    "        frame = pd.read_csv(join(path, item))\n",
    "        features = get_stat_features(frame)\n",
    "        X.append(features)\n",
    "\n",
    "    y = [class_number] * len(X)\n",
    "\n",
    "    X = np.array(X)\n",
    "    y = np.array(y)\n",
    "\n",
    "    return X, y"
   ]
  },
  {
   "cell_type": "markdown",
   "metadata": {},
   "source": [
    "### Create DataSet"
   ]
  },
  {
   "cell_type": "markdown",
   "metadata": {},
   "source": [
    "Folder for DataSets"
   ]
  },
  {
   "cell_type": "code",
   "execution_count": 67,
   "metadata": {},
   "outputs": [],
   "source": [
    "ds_folder = \"datasets\"\n",
    "if not exists(ds_folder):\n",
    "    makedirs(ds_folder)"
   ]
  },
  {
   "cell_type": "code",
   "execution_count": 68,
   "metadata": {},
   "outputs": [],
   "source": [
    "def create_dataset(class_prepare):\n",
    "    X_idle, y_idle = class_prepare(\"idle\", 0)\n",
    "    X_walking, y_walking = class_prepare(\"walking\", 1)\n",
    "    X_stairs, y_stairs = class_prepare(\"stairs\", 2)\n",
    "    X_running, y_running = class_prepare(\"running\", 3)\n",
    "\n",
    "    X = np.concatenate((X_idle, X_walking), axis=0)\n",
    "    X = np.concatenate((X, X_stairs), axis=0)\n",
    "    X = np.concatenate((X, X_running), axis=0)\n",
    "\n",
    "    Y = np.concatenate((y_idle, y_walking), axis=0)\n",
    "    Y = np.concatenate((Y, y_stairs), axis=0)\n",
    "    Y = np.concatenate((Y, y_running), axis=0)\n",
    "    \n",
    "    return X, Y"
   ]
  },
  {
   "cell_type": "markdown",
   "metadata": {},
   "source": [
    "DataSet with FFT class features"
   ]
  },
  {
   "cell_type": "code",
   "execution_count": 69,
   "metadata": {},
   "outputs": [],
   "source": [
    "X_fft, Y_fft = create_dataset(class_data_fft_prepare)\n",
    "\n",
    "with open(join(ds_folder, \"fft_data_X.pickle\"), \"wb\") as fd:\n",
    "    pickle.dump(X_fft, fd)\n",
    "\n",
    "with open(join(ds_folder, \"fft_data_Y.pickle\"), \"wb\") as fd:\n",
    "    pickle.dump(Y_fft, fd)"
   ]
  },
  {
   "cell_type": "markdown",
   "metadata": {},
   "source": [
    "DataSet with statistic class features"
   ]
  },
  {
   "cell_type": "code",
   "execution_count": 70,
   "metadata": {},
   "outputs": [],
   "source": [
    "X_stat, Y_stat = create_dataset(class_data_stat_prepare)\n",
    "\n",
    "with open(join(ds_folder, \"stat_data_X.pickle\"), \"wb\") as fd:\n",
    "    pickle.dump(X_stat, fd)\n",
    "\n",
    "with open(join(ds_folder, \"stat_data_Y.pickle\"), \"wb\") as fd:\n",
    "    pickle.dump(Y_stat, fd)"
   ]
  },
  {
   "cell_type": "markdown",
   "metadata": {},
   "source": [
    "DataSet with statistic & FFT class features"
   ]
  },
  {
   "cell_type": "code",
   "execution_count": 71,
   "metadata": {},
   "outputs": [],
   "source": [
    "X_fft_stat, Y_fft_stat = create_dataset(class_data_stat_fft_prepare)\n",
    "\n",
    "with open(join(ds_folder, \"fft_stat_data_X.pickle\"), \"wb\") as fd:\n",
    "    pickle.dump(X_fft_stat, fd)\n",
    "\n",
    "with open(join(ds_folder, \"fft_stat_data_Y.pickle\"), \"wb\") as fd:\n",
    "    pickle.dump(Y_fft_stat, fd)"
   ]
  },
  {
   "cell_type": "markdown",
   "metadata": {},
   "source": [
    "### Load DataSet"
   ]
  },
  {
   "cell_type": "markdown",
   "metadata": {},
   "source": [
    "flag = \"fft\" | \"stat\" | \"fft_stat\""
   ]
  },
  {
   "cell_type": "code",
   "execution_count": 72,
   "metadata": {},
   "outputs": [],
   "source": [
    "def open_data_set(flag):\n",
    "    name = flag + \"_data_\"\n",
    "\n",
    "    with open(join(ds_folder, name + \"X.pickle\"), \"rb\") as fd:\n",
    "        X = pickle.load(fd)\n",
    "\n",
    "    with open(join(ds_folder, name + \"Y.pickle\"), \"rb\") as fd:\n",
    "        y = pickle.load(fd)\n",
    "\n",
    "    return X, y"
   ]
  },
  {
   "cell_type": "markdown",
   "metadata": {},
   "source": [
    "### Results Validation"
   ]
  },
  {
   "cell_type": "code",
   "execution_count": 73,
   "metadata": {},
   "outputs": [],
   "source": [
    "from sklearn.metrics import accuracy_score, f1_score, classification_report\n",
    "from sklearn.model_selection import cross_val_score"
   ]
  },
  {
   "cell_type": "code",
   "execution_count": 74,
   "metadata": {},
   "outputs": [],
   "source": [
    "def statistic_counter(classifier, X_train, y_train, X_test, y_test):\n",
    "\n",
    "    def counter(list_item):\n",
    "        idle = 0\n",
    "        running = 0\n",
    "        stairs = 0\n",
    "        walking = 0\n",
    "\n",
    "        for i in list_item:\n",
    "            if i == 0:\n",
    "                idle += 1\n",
    "            elif i == 1:\n",
    "                running += 1\n",
    "            elif i == 2:\n",
    "                stairs += 1\n",
    "            elif i == 3:\n",
    "                walking += 1\n",
    "\n",
    "        return idle, running, stairs, walking\n",
    "    \n",
    "\n",
    "    scores = cross_val_score(classifier, X_train, y_train, cv=10).mean()\n",
    "\n",
    "    y_predict = classifier.predict(X_test)\n",
    "    accuracy = accuracy_score(y_test, y_predict)\n",
    "\n",
    "    f1score = f1_score(y_test, y_predict, average=\"macro\")\n",
    "\n",
    "    print(\"_________Test vs Prediction_________\")\n",
    "    print(f\"Idle:     {counter(y_test)[0]} vs {counter(y_predict)[0]}\")\n",
    "    print(f\"Running:  {counter(y_test)[1]} vs {counter(y_predict)[1]}\")\n",
    "    print(f\"Stairs:    {counter(y_test)[2]} vs {counter(y_predict)[2]}\")\n",
    "    print(f\"Walking: {counter(y_test)[3]} vs {counter(y_predict)[3]}\")\n",
    "    print(f\"TOTAL:   {len(y_test)}\")\n",
    "    print(\"____________________________________\")\n",
    "    print(f\"Score:    {scores}\")\n",
    "    print(f\"Accuracy: {accuracy}\")\n",
    "    print(f\"F1 Score: {f1score}\")\n",
    "    print(\"____________________________________\")"
   ]
  },
  {
   "cell_type": "code",
   "execution_count": 75,
   "metadata": {},
   "outputs": [],
   "source": [
    "def accuracy_report(classifier, X_test, y_test):\n",
    "    y_predict = classifier.predict(X_test)\n",
    "    target_names = [\"Idle\", \"Running\", \"Stairs\", \"Walking\"]\n",
    "\n",
    "    print(classification_report(y_test, y_predict, target_names=target_names))"
   ]
  },
  {
   "cell_type": "markdown",
   "metadata": {},
   "source": [
    "### SVM Classifier"
   ]
  },
  {
   "cell_type": "code",
   "execution_count": 76,
   "metadata": {},
   "outputs": [],
   "source": [
    "from sklearn import svm"
   ]
  },
  {
   "cell_type": "markdown",
   "metadata": {},
   "source": [
    "#### SVM Classifier on Statistic and FFM Features (Time & Frequency Domain)"
   ]
  },
  {
   "cell_type": "markdown",
   "metadata": {},
   "source": [
    "Data loading"
   ]
  },
  {
   "cell_type": "code",
   "execution_count": 77,
   "metadata": {},
   "outputs": [],
   "source": [
    "X, y = open_data_set(\"fft_stat\")\n",
    "X_train_all, X_test_all, y_train_all, y_test_all = model_selection.train_test_split(X, y, test_size=0.3)"
   ]
  },
  {
   "cell_type": "markdown",
   "metadata": {},
   "source": [
    "Classifier \"one vs one\""
   ]
  },
  {
   "cell_type": "code",
   "execution_count": 78,
   "metadata": {},
   "outputs": [
    {
     "data": {
      "text/html": [
       "<style>#sk-container-id-10 {color: black;}#sk-container-id-10 pre{padding: 0;}#sk-container-id-10 div.sk-toggleable {background-color: white;}#sk-container-id-10 label.sk-toggleable__label {cursor: pointer;display: block;width: 100%;margin-bottom: 0;padding: 0.3em;box-sizing: border-box;text-align: center;}#sk-container-id-10 label.sk-toggleable__label-arrow:before {content: \"▸\";float: left;margin-right: 0.25em;color: #696969;}#sk-container-id-10 label.sk-toggleable__label-arrow:hover:before {color: black;}#sk-container-id-10 div.sk-estimator:hover label.sk-toggleable__label-arrow:before {color: black;}#sk-container-id-10 div.sk-toggleable__content {max-height: 0;max-width: 0;overflow: hidden;text-align: left;background-color: #f0f8ff;}#sk-container-id-10 div.sk-toggleable__content pre {margin: 0.2em;color: black;border-radius: 0.25em;background-color: #f0f8ff;}#sk-container-id-10 input.sk-toggleable__control:checked~div.sk-toggleable__content {max-height: 200px;max-width: 100%;overflow: auto;}#sk-container-id-10 input.sk-toggleable__control:checked~label.sk-toggleable__label-arrow:before {content: \"▾\";}#sk-container-id-10 div.sk-estimator input.sk-toggleable__control:checked~label.sk-toggleable__label {background-color: #d4ebff;}#sk-container-id-10 div.sk-label input.sk-toggleable__control:checked~label.sk-toggleable__label {background-color: #d4ebff;}#sk-container-id-10 input.sk-hidden--visually {border: 0;clip: rect(1px 1px 1px 1px);clip: rect(1px, 1px, 1px, 1px);height: 1px;margin: -1px;overflow: hidden;padding: 0;position: absolute;width: 1px;}#sk-container-id-10 div.sk-estimator {font-family: monospace;background-color: #f0f8ff;border: 1px dotted black;border-radius: 0.25em;box-sizing: border-box;margin-bottom: 0.5em;}#sk-container-id-10 div.sk-estimator:hover {background-color: #d4ebff;}#sk-container-id-10 div.sk-parallel-item::after {content: \"\";width: 100%;border-bottom: 1px solid gray;flex-grow: 1;}#sk-container-id-10 div.sk-label:hover label.sk-toggleable__label {background-color: #d4ebff;}#sk-container-id-10 div.sk-serial::before {content: \"\";position: absolute;border-left: 1px solid gray;box-sizing: border-box;top: 0;bottom: 0;left: 50%;z-index: 0;}#sk-container-id-10 div.sk-serial {display: flex;flex-direction: column;align-items: center;background-color: white;padding-right: 0.2em;padding-left: 0.2em;position: relative;}#sk-container-id-10 div.sk-item {position: relative;z-index: 1;}#sk-container-id-10 div.sk-parallel {display: flex;align-items: stretch;justify-content: center;background-color: white;position: relative;}#sk-container-id-10 div.sk-item::before, #sk-container-id-10 div.sk-parallel-item::before {content: \"\";position: absolute;border-left: 1px solid gray;box-sizing: border-box;top: 0;bottom: 0;left: 50%;z-index: -1;}#sk-container-id-10 div.sk-parallel-item {display: flex;flex-direction: column;z-index: 1;position: relative;background-color: white;}#sk-container-id-10 div.sk-parallel-item:first-child::after {align-self: flex-end;width: 50%;}#sk-container-id-10 div.sk-parallel-item:last-child::after {align-self: flex-start;width: 50%;}#sk-container-id-10 div.sk-parallel-item:only-child::after {width: 0;}#sk-container-id-10 div.sk-dashed-wrapped {border: 1px dashed gray;margin: 0 0.4em 0.5em 0.4em;box-sizing: border-box;padding-bottom: 0.4em;background-color: white;}#sk-container-id-10 div.sk-label label {font-family: monospace;font-weight: bold;display: inline-block;line-height: 1.2em;}#sk-container-id-10 div.sk-label-container {text-align: center;}#sk-container-id-10 div.sk-container {/* jupyter's `normalize.less` sets `[hidden] { display: none; }` but bootstrap.min.css set `[hidden] { display: none !important; }` so we also need the `!important` here to be able to override the default hidden behavior on the sphinx rendered scikit-learn.org. See: https://github.com/scikit-learn/scikit-learn/issues/21755 */display: inline-block !important;position: relative;}#sk-container-id-10 div.sk-text-repr-fallback {display: none;}</style><div id=\"sk-container-id-10\" class=\"sk-top-container\"><div class=\"sk-text-repr-fallback\"><pre>SVC(decision_function_shape=&#x27;ovo&#x27;, gamma=0.005, probability=True)</pre><b>In a Jupyter environment, please rerun this cell to show the HTML representation or trust the notebook. <br />On GitHub, the HTML representation is unable to render, please try loading this page with nbviewer.org.</b></div><div class=\"sk-container\" hidden><div class=\"sk-item\"><div class=\"sk-estimator sk-toggleable\"><input class=\"sk-toggleable__control sk-hidden--visually\" id=\"sk-estimator-id-10\" type=\"checkbox\" checked><label for=\"sk-estimator-id-10\" class=\"sk-toggleable__label sk-toggleable__label-arrow\">SVC</label><div class=\"sk-toggleable__content\"><pre>SVC(decision_function_shape=&#x27;ovo&#x27;, gamma=0.005, probability=True)</pre></div></div></div></div></div>"
      ],
      "text/plain": [
       "SVC(decision_function_shape='ovo', gamma=0.005, probability=True)"
      ]
     },
     "execution_count": 78,
     "metadata": {},
     "output_type": "execute_result"
    }
   ],
   "source": [
    "classifier = svm.SVC(decision_function_shape=\"ovo\", kernel=\"rbf\", gamma=0.005, probability=True)\n",
    "classifier.fit(X_train_all, y_train_all)"
   ]
  },
  {
   "cell_type": "code",
   "execution_count": 79,
   "metadata": {},
   "outputs": [
    {
     "data": {
      "text/plain": [
       "array([[-0.58799416,  0.40441488, -0.98003831,  0.85628191, -0.93498444,\n",
       "        -0.991338  ],\n",
       "       [ 1.20062347,  1.07793253,  1.22857049,  0.85624506, -0.54388005,\n",
       "        -0.93756074],\n",
       "       [-0.58799416,  0.40441488, -0.93516994,  0.85628191, -0.79171963,\n",
       "        -0.97144831],\n",
       "       ...,\n",
       "       [-0.58799416,  0.40441488, -0.96681009,  0.85628191, -0.89386433,\n",
       "        -0.98544168],\n",
       "       [ 1.49408351,  1.18460604,  1.57896149,  0.85620966, -0.54390793,\n",
       "        -0.93753244],\n",
       "       [-0.58799448,  0.40441488, -0.96631325,  0.85628201, -0.89127693,\n",
       "        -0.98495525]])"
      ]
     },
     "execution_count": 79,
     "metadata": {},
     "output_type": "execute_result"
    }
   ],
   "source": [
    "y_test_pred = classifier.decision_function(X_test_all)\n",
    "y_test_pred"
   ]
  },
  {
   "cell_type": "code",
   "execution_count": 80,
   "metadata": {},
   "outputs": [
    {
     "data": {
      "text/plain": [
       "array([[7.15504008e-04, 7.76977541e-05, 6.87229310e-04, 9.98519569e-01],\n",
       "       [9.99895660e-01, 1.01036197e-07, 1.03448204e-04, 7.90590551e-07],\n",
       "       [1.59803664e-03, 2.12905949e-04, 1.17980437e-03, 9.97009253e-01],\n",
       "       ...,\n",
       "       [9.06940197e-04, 1.00335642e-04, 8.06012727e-04, 9.98186711e-01],\n",
       "       [9.99966013e-01, 5.67470801e-08, 3.36188782e-05, 3.11726597e-07],\n",
       "       [9.15037970e-04, 1.01445638e-04, 8.15871195e-04, 9.98167645e-01]])"
      ]
     },
     "execution_count": 80,
     "metadata": {},
     "output_type": "execute_result"
    }
   ],
   "source": [
    "y_probability = classifier.predict_proba(X_test_all)\n",
    "y_probability"
   ]
  },
  {
   "cell_type": "code",
   "execution_count": 81,
   "metadata": {},
   "outputs": [
    {
     "data": {
      "text/plain": [
       "array([3, 0, 3, ..., 3, 0, 3], dtype=int64)"
      ]
     },
     "execution_count": 81,
     "metadata": {},
     "output_type": "execute_result"
    }
   ],
   "source": [
    "y_prediction = np.argmax(y_probability, axis=1)\n",
    "y_prediction"
   ]
  },
  {
   "cell_type": "code",
   "execution_count": 82,
   "metadata": {},
   "outputs": [
    {
     "name": "stdout",
     "output_type": "stream",
     "text": [
      "_________Test vs Prediction_________\n",
      "Idle:     307 vs 288\n",
      "Running:  566 vs 512\n",
      "Stairs:    50 vs 38\n",
      "Walking: 1016 vs 1101\n",
      "TOTAL:   1939\n",
      "____________________________________\n",
      "Score:    0.9571094375744789\n",
      "Accuracy: 0.9546157813305828\n",
      "F1 Score: 0.9339734515354645\n",
      "____________________________________\n",
      "              precision    recall  f1-score   support\n",
      "\n",
      "        Idle       1.00      0.94      0.97       307\n",
      "     Running       0.99      0.90      0.94       566\n",
      "      Stairs       1.00      0.76      0.86        50\n",
      "     Walking       0.92      1.00      0.96      1016\n",
      "\n",
      "    accuracy                           0.95      1939\n",
      "   macro avg       0.98      0.90      0.93      1939\n",
      "weighted avg       0.96      0.95      0.95      1939\n",
      "\n"
     ]
    }
   ],
   "source": [
    "statistic_counter(classifier, X_train_all, y_train_all, X_test_all, y_test_all)\n",
    "accuracy_report(classifier, X_test_all, y_test_all)"
   ]
  },
  {
   "cell_type": "markdown",
   "metadata": {},
   "source": [
    "Same classifier with scale gamma"
   ]
  },
  {
   "cell_type": "code",
   "execution_count": 83,
   "metadata": {},
   "outputs": [
    {
     "data": {
      "text/html": [
       "<style>#sk-container-id-11 {color: black;}#sk-container-id-11 pre{padding: 0;}#sk-container-id-11 div.sk-toggleable {background-color: white;}#sk-container-id-11 label.sk-toggleable__label {cursor: pointer;display: block;width: 100%;margin-bottom: 0;padding: 0.3em;box-sizing: border-box;text-align: center;}#sk-container-id-11 label.sk-toggleable__label-arrow:before {content: \"▸\";float: left;margin-right: 0.25em;color: #696969;}#sk-container-id-11 label.sk-toggleable__label-arrow:hover:before {color: black;}#sk-container-id-11 div.sk-estimator:hover label.sk-toggleable__label-arrow:before {color: black;}#sk-container-id-11 div.sk-toggleable__content {max-height: 0;max-width: 0;overflow: hidden;text-align: left;background-color: #f0f8ff;}#sk-container-id-11 div.sk-toggleable__content pre {margin: 0.2em;color: black;border-radius: 0.25em;background-color: #f0f8ff;}#sk-container-id-11 input.sk-toggleable__control:checked~div.sk-toggleable__content {max-height: 200px;max-width: 100%;overflow: auto;}#sk-container-id-11 input.sk-toggleable__control:checked~label.sk-toggleable__label-arrow:before {content: \"▾\";}#sk-container-id-11 div.sk-estimator input.sk-toggleable__control:checked~label.sk-toggleable__label {background-color: #d4ebff;}#sk-container-id-11 div.sk-label input.sk-toggleable__control:checked~label.sk-toggleable__label {background-color: #d4ebff;}#sk-container-id-11 input.sk-hidden--visually {border: 0;clip: rect(1px 1px 1px 1px);clip: rect(1px, 1px, 1px, 1px);height: 1px;margin: -1px;overflow: hidden;padding: 0;position: absolute;width: 1px;}#sk-container-id-11 div.sk-estimator {font-family: monospace;background-color: #f0f8ff;border: 1px dotted black;border-radius: 0.25em;box-sizing: border-box;margin-bottom: 0.5em;}#sk-container-id-11 div.sk-estimator:hover {background-color: #d4ebff;}#sk-container-id-11 div.sk-parallel-item::after {content: \"\";width: 100%;border-bottom: 1px solid gray;flex-grow: 1;}#sk-container-id-11 div.sk-label:hover label.sk-toggleable__label {background-color: #d4ebff;}#sk-container-id-11 div.sk-serial::before {content: \"\";position: absolute;border-left: 1px solid gray;box-sizing: border-box;top: 0;bottom: 0;left: 50%;z-index: 0;}#sk-container-id-11 div.sk-serial {display: flex;flex-direction: column;align-items: center;background-color: white;padding-right: 0.2em;padding-left: 0.2em;position: relative;}#sk-container-id-11 div.sk-item {position: relative;z-index: 1;}#sk-container-id-11 div.sk-parallel {display: flex;align-items: stretch;justify-content: center;background-color: white;position: relative;}#sk-container-id-11 div.sk-item::before, #sk-container-id-11 div.sk-parallel-item::before {content: \"\";position: absolute;border-left: 1px solid gray;box-sizing: border-box;top: 0;bottom: 0;left: 50%;z-index: -1;}#sk-container-id-11 div.sk-parallel-item {display: flex;flex-direction: column;z-index: 1;position: relative;background-color: white;}#sk-container-id-11 div.sk-parallel-item:first-child::after {align-self: flex-end;width: 50%;}#sk-container-id-11 div.sk-parallel-item:last-child::after {align-self: flex-start;width: 50%;}#sk-container-id-11 div.sk-parallel-item:only-child::after {width: 0;}#sk-container-id-11 div.sk-dashed-wrapped {border: 1px dashed gray;margin: 0 0.4em 0.5em 0.4em;box-sizing: border-box;padding-bottom: 0.4em;background-color: white;}#sk-container-id-11 div.sk-label label {font-family: monospace;font-weight: bold;display: inline-block;line-height: 1.2em;}#sk-container-id-11 div.sk-label-container {text-align: center;}#sk-container-id-11 div.sk-container {/* jupyter's `normalize.less` sets `[hidden] { display: none; }` but bootstrap.min.css set `[hidden] { display: none !important; }` so we also need the `!important` here to be able to override the default hidden behavior on the sphinx rendered scikit-learn.org. See: https://github.com/scikit-learn/scikit-learn/issues/21755 */display: inline-block !important;position: relative;}#sk-container-id-11 div.sk-text-repr-fallback {display: none;}</style><div id=\"sk-container-id-11\" class=\"sk-top-container\"><div class=\"sk-text-repr-fallback\"><pre>SVC(decision_function_shape=&#x27;ovo&#x27;, probability=True)</pre><b>In a Jupyter environment, please rerun this cell to show the HTML representation or trust the notebook. <br />On GitHub, the HTML representation is unable to render, please try loading this page with nbviewer.org.</b></div><div class=\"sk-container\" hidden><div class=\"sk-item\"><div class=\"sk-estimator sk-toggleable\"><input class=\"sk-toggleable__control sk-hidden--visually\" id=\"sk-estimator-id-11\" type=\"checkbox\" checked><label for=\"sk-estimator-id-11\" class=\"sk-toggleable__label sk-toggleable__label-arrow\">SVC</label><div class=\"sk-toggleable__content\"><pre>SVC(decision_function_shape=&#x27;ovo&#x27;, probability=True)</pre></div></div></div></div></div>"
      ],
      "text/plain": [
       "SVC(decision_function_shape='ovo', probability=True)"
      ]
     },
     "execution_count": 83,
     "metadata": {},
     "output_type": "execute_result"
    }
   ],
   "source": [
    "classifier = svm.SVC(decision_function_shape=\"ovo\", probability=True)\n",
    "classifier.fit(X_train_all, y_train_all)"
   ]
  },
  {
   "cell_type": "code",
   "execution_count": 84,
   "metadata": {},
   "outputs": [
    {
     "name": "stdout",
     "output_type": "stream",
     "text": [
      "_________Test vs Prediction_________\n",
      "Idle:     307 vs 307\n",
      "Running:  566 vs 616\n",
      "Stairs:    50 vs 0\n",
      "Walking: 1016 vs 1016\n",
      "TOTAL:   1939\n",
      "____________________________________\n",
      "Score:    0.9745751040262556\n",
      "Accuracy: 0.9742135121196493\n",
      "F1 Score: 0.739424703891709\n",
      "____________________________________\n",
      "              precision    recall  f1-score   support\n",
      "\n",
      "        Idle       1.00      1.00      1.00       307\n",
      "     Running       0.92      1.00      0.96       566\n",
      "      Stairs       0.00      0.00      0.00        50\n",
      "     Walking       1.00      1.00      1.00      1016\n",
      "\n",
      "    accuracy                           0.97      1939\n",
      "   macro avg       0.73      0.75      0.74      1939\n",
      "weighted avg       0.95      0.97      0.96      1939\n",
      "\n"
     ]
    },
    {
     "name": "stderr",
     "output_type": "stream",
     "text": [
      "c:\\Users\\danie\\AppData\\Local\\Programs\\Python\\Python311\\Lib\\site-packages\\sklearn\\metrics\\_classification.py:1471: UndefinedMetricWarning: Precision and F-score are ill-defined and being set to 0.0 in labels with no predicted samples. Use `zero_division` parameter to control this behavior.\n",
      "  _warn_prf(average, modifier, msg_start, len(result))\n",
      "c:\\Users\\danie\\AppData\\Local\\Programs\\Python\\Python311\\Lib\\site-packages\\sklearn\\metrics\\_classification.py:1471: UndefinedMetricWarning: Precision and F-score are ill-defined and being set to 0.0 in labels with no predicted samples. Use `zero_division` parameter to control this behavior.\n",
      "  _warn_prf(average, modifier, msg_start, len(result))\n",
      "c:\\Users\\danie\\AppData\\Local\\Programs\\Python\\Python311\\Lib\\site-packages\\sklearn\\metrics\\_classification.py:1471: UndefinedMetricWarning: Precision and F-score are ill-defined and being set to 0.0 in labels with no predicted samples. Use `zero_division` parameter to control this behavior.\n",
      "  _warn_prf(average, modifier, msg_start, len(result))\n"
     ]
    }
   ],
   "source": [
    "statistic_counter(classifier, X_train_all, y_train_all, X_test_all, y_test_all)\n",
    "accuracy_report(classifier, X_test_all, y_test_all)"
   ]
  },
  {
   "cell_type": "markdown",
   "metadata": {},
   "source": [
    "Same classifier with linear kernel"
   ]
  },
  {
   "cell_type": "code",
   "execution_count": 85,
   "metadata": {},
   "outputs": [
    {
     "data": {
      "text/html": [
       "<style>#sk-container-id-12 {color: black;}#sk-container-id-12 pre{padding: 0;}#sk-container-id-12 div.sk-toggleable {background-color: white;}#sk-container-id-12 label.sk-toggleable__label {cursor: pointer;display: block;width: 100%;margin-bottom: 0;padding: 0.3em;box-sizing: border-box;text-align: center;}#sk-container-id-12 label.sk-toggleable__label-arrow:before {content: \"▸\";float: left;margin-right: 0.25em;color: #696969;}#sk-container-id-12 label.sk-toggleable__label-arrow:hover:before {color: black;}#sk-container-id-12 div.sk-estimator:hover label.sk-toggleable__label-arrow:before {color: black;}#sk-container-id-12 div.sk-toggleable__content {max-height: 0;max-width: 0;overflow: hidden;text-align: left;background-color: #f0f8ff;}#sk-container-id-12 div.sk-toggleable__content pre {margin: 0.2em;color: black;border-radius: 0.25em;background-color: #f0f8ff;}#sk-container-id-12 input.sk-toggleable__control:checked~div.sk-toggleable__content {max-height: 200px;max-width: 100%;overflow: auto;}#sk-container-id-12 input.sk-toggleable__control:checked~label.sk-toggleable__label-arrow:before {content: \"▾\";}#sk-container-id-12 div.sk-estimator input.sk-toggleable__control:checked~label.sk-toggleable__label {background-color: #d4ebff;}#sk-container-id-12 div.sk-label input.sk-toggleable__control:checked~label.sk-toggleable__label {background-color: #d4ebff;}#sk-container-id-12 input.sk-hidden--visually {border: 0;clip: rect(1px 1px 1px 1px);clip: rect(1px, 1px, 1px, 1px);height: 1px;margin: -1px;overflow: hidden;padding: 0;position: absolute;width: 1px;}#sk-container-id-12 div.sk-estimator {font-family: monospace;background-color: #f0f8ff;border: 1px dotted black;border-radius: 0.25em;box-sizing: border-box;margin-bottom: 0.5em;}#sk-container-id-12 div.sk-estimator:hover {background-color: #d4ebff;}#sk-container-id-12 div.sk-parallel-item::after {content: \"\";width: 100%;border-bottom: 1px solid gray;flex-grow: 1;}#sk-container-id-12 div.sk-label:hover label.sk-toggleable__label {background-color: #d4ebff;}#sk-container-id-12 div.sk-serial::before {content: \"\";position: absolute;border-left: 1px solid gray;box-sizing: border-box;top: 0;bottom: 0;left: 50%;z-index: 0;}#sk-container-id-12 div.sk-serial {display: flex;flex-direction: column;align-items: center;background-color: white;padding-right: 0.2em;padding-left: 0.2em;position: relative;}#sk-container-id-12 div.sk-item {position: relative;z-index: 1;}#sk-container-id-12 div.sk-parallel {display: flex;align-items: stretch;justify-content: center;background-color: white;position: relative;}#sk-container-id-12 div.sk-item::before, #sk-container-id-12 div.sk-parallel-item::before {content: \"\";position: absolute;border-left: 1px solid gray;box-sizing: border-box;top: 0;bottom: 0;left: 50%;z-index: -1;}#sk-container-id-12 div.sk-parallel-item {display: flex;flex-direction: column;z-index: 1;position: relative;background-color: white;}#sk-container-id-12 div.sk-parallel-item:first-child::after {align-self: flex-end;width: 50%;}#sk-container-id-12 div.sk-parallel-item:last-child::after {align-self: flex-start;width: 50%;}#sk-container-id-12 div.sk-parallel-item:only-child::after {width: 0;}#sk-container-id-12 div.sk-dashed-wrapped {border: 1px dashed gray;margin: 0 0.4em 0.5em 0.4em;box-sizing: border-box;padding-bottom: 0.4em;background-color: white;}#sk-container-id-12 div.sk-label label {font-family: monospace;font-weight: bold;display: inline-block;line-height: 1.2em;}#sk-container-id-12 div.sk-label-container {text-align: center;}#sk-container-id-12 div.sk-container {/* jupyter's `normalize.less` sets `[hidden] { display: none; }` but bootstrap.min.css set `[hidden] { display: none !important; }` so we also need the `!important` here to be able to override the default hidden behavior on the sphinx rendered scikit-learn.org. See: https://github.com/scikit-learn/scikit-learn/issues/21755 */display: inline-block !important;position: relative;}#sk-container-id-12 div.sk-text-repr-fallback {display: none;}</style><div id=\"sk-container-id-12\" class=\"sk-top-container\"><div class=\"sk-text-repr-fallback\"><pre>SVC(decision_function_shape=&#x27;ovo&#x27;, kernel=&#x27;linear&#x27;, probability=True)</pre><b>In a Jupyter environment, please rerun this cell to show the HTML representation or trust the notebook. <br />On GitHub, the HTML representation is unable to render, please try loading this page with nbviewer.org.</b></div><div class=\"sk-container\" hidden><div class=\"sk-item\"><div class=\"sk-estimator sk-toggleable\"><input class=\"sk-toggleable__control sk-hidden--visually\" id=\"sk-estimator-id-12\" type=\"checkbox\" checked><label for=\"sk-estimator-id-12\" class=\"sk-toggleable__label sk-toggleable__label-arrow\">SVC</label><div class=\"sk-toggleable__content\"><pre>SVC(decision_function_shape=&#x27;ovo&#x27;, kernel=&#x27;linear&#x27;, probability=True)</pre></div></div></div></div></div>"
      ],
      "text/plain": [
       "SVC(decision_function_shape='ovo', kernel='linear', probability=True)"
      ]
     },
     "execution_count": 85,
     "metadata": {},
     "output_type": "execute_result"
    }
   ],
   "source": [
    "classifier = svm.SVC(decision_function_shape=\"ovo\", probability=True, kernel=\"linear\")\n",
    "classifier.fit(X_train_all, y_train_all)"
   ]
  },
  {
   "cell_type": "code",
   "execution_count": 86,
   "metadata": {},
   "outputs": [
    {
     "name": "stdout",
     "output_type": "stream",
     "text": [
      "_________Test vs Prediction_________\n",
      "Idle:     307 vs 307\n",
      "Running:  566 vs 559\n",
      "Stairs:    50 vs 57\n",
      "Walking: 1016 vs 1016\n",
      "TOTAL:   1939\n",
      "____________________________________\n",
      "Score:    0.9949168766727228\n",
      "Accuracy: 0.9943269726663229\n",
      "F1 Score: 0.9718546209761163\n",
      "____________________________________\n",
      "              precision    recall  f1-score   support\n",
      "\n",
      "        Idle       1.00      1.00      1.00       307\n",
      "     Running       1.00      0.98      0.99       566\n",
      "      Stairs       0.84      0.96      0.90        50\n",
      "     Walking       1.00      1.00      1.00      1016\n",
      "\n",
      "    accuracy                           0.99      1939\n",
      "   macro avg       0.96      0.99      0.97      1939\n",
      "weighted avg       0.99      0.99      0.99      1939\n",
      "\n"
     ]
    }
   ],
   "source": [
    "statistic_counter(classifier, X_train_all, y_train_all, X_test_all, y_test_all)\n",
    "accuracy_report(classifier, X_test_all, y_test_all)"
   ]
  },
  {
   "cell_type": "markdown",
   "metadata": {},
   "source": [
    "Same classifier with \"one vs rest\" decision function"
   ]
  },
  {
   "cell_type": "code",
   "execution_count": 87,
   "metadata": {},
   "outputs": [
    {
     "data": {
      "text/html": [
       "<style>#sk-container-id-13 {color: black;}#sk-container-id-13 pre{padding: 0;}#sk-container-id-13 div.sk-toggleable {background-color: white;}#sk-container-id-13 label.sk-toggleable__label {cursor: pointer;display: block;width: 100%;margin-bottom: 0;padding: 0.3em;box-sizing: border-box;text-align: center;}#sk-container-id-13 label.sk-toggleable__label-arrow:before {content: \"▸\";float: left;margin-right: 0.25em;color: #696969;}#sk-container-id-13 label.sk-toggleable__label-arrow:hover:before {color: black;}#sk-container-id-13 div.sk-estimator:hover label.sk-toggleable__label-arrow:before {color: black;}#sk-container-id-13 div.sk-toggleable__content {max-height: 0;max-width: 0;overflow: hidden;text-align: left;background-color: #f0f8ff;}#sk-container-id-13 div.sk-toggleable__content pre {margin: 0.2em;color: black;border-radius: 0.25em;background-color: #f0f8ff;}#sk-container-id-13 input.sk-toggleable__control:checked~div.sk-toggleable__content {max-height: 200px;max-width: 100%;overflow: auto;}#sk-container-id-13 input.sk-toggleable__control:checked~label.sk-toggleable__label-arrow:before {content: \"▾\";}#sk-container-id-13 div.sk-estimator input.sk-toggleable__control:checked~label.sk-toggleable__label {background-color: #d4ebff;}#sk-container-id-13 div.sk-label input.sk-toggleable__control:checked~label.sk-toggleable__label {background-color: #d4ebff;}#sk-container-id-13 input.sk-hidden--visually {border: 0;clip: rect(1px 1px 1px 1px);clip: rect(1px, 1px, 1px, 1px);height: 1px;margin: -1px;overflow: hidden;padding: 0;position: absolute;width: 1px;}#sk-container-id-13 div.sk-estimator {font-family: monospace;background-color: #f0f8ff;border: 1px dotted black;border-radius: 0.25em;box-sizing: border-box;margin-bottom: 0.5em;}#sk-container-id-13 div.sk-estimator:hover {background-color: #d4ebff;}#sk-container-id-13 div.sk-parallel-item::after {content: \"\";width: 100%;border-bottom: 1px solid gray;flex-grow: 1;}#sk-container-id-13 div.sk-label:hover label.sk-toggleable__label {background-color: #d4ebff;}#sk-container-id-13 div.sk-serial::before {content: \"\";position: absolute;border-left: 1px solid gray;box-sizing: border-box;top: 0;bottom: 0;left: 50%;z-index: 0;}#sk-container-id-13 div.sk-serial {display: flex;flex-direction: column;align-items: center;background-color: white;padding-right: 0.2em;padding-left: 0.2em;position: relative;}#sk-container-id-13 div.sk-item {position: relative;z-index: 1;}#sk-container-id-13 div.sk-parallel {display: flex;align-items: stretch;justify-content: center;background-color: white;position: relative;}#sk-container-id-13 div.sk-item::before, #sk-container-id-13 div.sk-parallel-item::before {content: \"\";position: absolute;border-left: 1px solid gray;box-sizing: border-box;top: 0;bottom: 0;left: 50%;z-index: -1;}#sk-container-id-13 div.sk-parallel-item {display: flex;flex-direction: column;z-index: 1;position: relative;background-color: white;}#sk-container-id-13 div.sk-parallel-item:first-child::after {align-self: flex-end;width: 50%;}#sk-container-id-13 div.sk-parallel-item:last-child::after {align-self: flex-start;width: 50%;}#sk-container-id-13 div.sk-parallel-item:only-child::after {width: 0;}#sk-container-id-13 div.sk-dashed-wrapped {border: 1px dashed gray;margin: 0 0.4em 0.5em 0.4em;box-sizing: border-box;padding-bottom: 0.4em;background-color: white;}#sk-container-id-13 div.sk-label label {font-family: monospace;font-weight: bold;display: inline-block;line-height: 1.2em;}#sk-container-id-13 div.sk-label-container {text-align: center;}#sk-container-id-13 div.sk-container {/* jupyter's `normalize.less` sets `[hidden] { display: none; }` but bootstrap.min.css set `[hidden] { display: none !important; }` so we also need the `!important` here to be able to override the default hidden behavior on the sphinx rendered scikit-learn.org. See: https://github.com/scikit-learn/scikit-learn/issues/21755 */display: inline-block !important;position: relative;}#sk-container-id-13 div.sk-text-repr-fallback {display: none;}</style><div id=\"sk-container-id-13\" class=\"sk-top-container\"><div class=\"sk-text-repr-fallback\"><pre>SVC(gamma=0.005, kernel=&#x27;linear&#x27;, probability=True)</pre><b>In a Jupyter environment, please rerun this cell to show the HTML representation or trust the notebook. <br />On GitHub, the HTML representation is unable to render, please try loading this page with nbviewer.org.</b></div><div class=\"sk-container\" hidden><div class=\"sk-item\"><div class=\"sk-estimator sk-toggleable\"><input class=\"sk-toggleable__control sk-hidden--visually\" id=\"sk-estimator-id-13\" type=\"checkbox\" checked><label for=\"sk-estimator-id-13\" class=\"sk-toggleable__label sk-toggleable__label-arrow\">SVC</label><div class=\"sk-toggleable__content\"><pre>SVC(gamma=0.005, kernel=&#x27;linear&#x27;, probability=True)</pre></div></div></div></div></div>"
      ],
      "text/plain": [
       "SVC(gamma=0.005, kernel='linear', probability=True)"
      ]
     },
     "execution_count": 87,
     "metadata": {},
     "output_type": "execute_result"
    }
   ],
   "source": [
    "classifier = svm.SVC(probability=True, kernel=\"linear\", gamma=0.005)\n",
    "classifier.fit(X_train_all, y_train_all)"
   ]
  },
  {
   "cell_type": "code",
   "execution_count": 88,
   "metadata": {},
   "outputs": [
    {
     "name": "stdout",
     "output_type": "stream",
     "text": [
      "_________Test vs Prediction_________\n",
      "Idle:     307 vs 307\n",
      "Running:  566 vs 559\n",
      "Stairs:    50 vs 57\n",
      "Walking: 1016 vs 1016\n",
      "TOTAL:   1939\n",
      "____________________________________\n",
      "Score:    0.9949168766727228\n",
      "Accuracy: 0.9943269726663229\n",
      "F1 Score: 0.9718546209761163\n",
      "____________________________________\n",
      "              precision    recall  f1-score   support\n",
      "\n",
      "        Idle       1.00      1.00      1.00       307\n",
      "     Running       1.00      0.98      0.99       566\n",
      "      Stairs       0.84      0.96      0.90        50\n",
      "     Walking       1.00      1.00      1.00      1016\n",
      "\n",
      "    accuracy                           0.99      1939\n",
      "   macro avg       0.96      0.99      0.97      1939\n",
      "weighted avg       0.99      0.99      0.99      1939\n",
      "\n"
     ]
    }
   ],
   "source": [
    "statistic_counter(classifier, X_train_all, y_train_all, X_test_all, y_test_all)\n",
    "accuracy_report(classifier, X_test_all, y_test_all)"
   ]
  },
  {
   "cell_type": "markdown",
   "metadata": {},
   "source": [
    "#### SVM Classifier on Statistic Features (Time Domain)"
   ]
  },
  {
   "cell_type": "markdown",
   "metadata": {},
   "source": [
    "Data loading"
   ]
  },
  {
   "cell_type": "code",
   "execution_count": 89,
   "metadata": {},
   "outputs": [],
   "source": [
    "X, y = open_data_set(\"stat\")\n",
    "X_train_stat, X_test_stat, y_train_stat, y_test_stat = model_selection.train_test_split(X, y, test_size=0.3)"
   ]
  },
  {
   "cell_type": "markdown",
   "metadata": {},
   "source": [
    "Classifier \"one vs rest\", linear"
   ]
  },
  {
   "cell_type": "code",
   "execution_count": 90,
   "metadata": {},
   "outputs": [
    {
     "data": {
      "text/html": [
       "<style>#sk-container-id-14 {color: black;}#sk-container-id-14 pre{padding: 0;}#sk-container-id-14 div.sk-toggleable {background-color: white;}#sk-container-id-14 label.sk-toggleable__label {cursor: pointer;display: block;width: 100%;margin-bottom: 0;padding: 0.3em;box-sizing: border-box;text-align: center;}#sk-container-id-14 label.sk-toggleable__label-arrow:before {content: \"▸\";float: left;margin-right: 0.25em;color: #696969;}#sk-container-id-14 label.sk-toggleable__label-arrow:hover:before {color: black;}#sk-container-id-14 div.sk-estimator:hover label.sk-toggleable__label-arrow:before {color: black;}#sk-container-id-14 div.sk-toggleable__content {max-height: 0;max-width: 0;overflow: hidden;text-align: left;background-color: #f0f8ff;}#sk-container-id-14 div.sk-toggleable__content pre {margin: 0.2em;color: black;border-radius: 0.25em;background-color: #f0f8ff;}#sk-container-id-14 input.sk-toggleable__control:checked~div.sk-toggleable__content {max-height: 200px;max-width: 100%;overflow: auto;}#sk-container-id-14 input.sk-toggleable__control:checked~label.sk-toggleable__label-arrow:before {content: \"▾\";}#sk-container-id-14 div.sk-estimator input.sk-toggleable__control:checked~label.sk-toggleable__label {background-color: #d4ebff;}#sk-container-id-14 div.sk-label input.sk-toggleable__control:checked~label.sk-toggleable__label {background-color: #d4ebff;}#sk-container-id-14 input.sk-hidden--visually {border: 0;clip: rect(1px 1px 1px 1px);clip: rect(1px, 1px, 1px, 1px);height: 1px;margin: -1px;overflow: hidden;padding: 0;position: absolute;width: 1px;}#sk-container-id-14 div.sk-estimator {font-family: monospace;background-color: #f0f8ff;border: 1px dotted black;border-radius: 0.25em;box-sizing: border-box;margin-bottom: 0.5em;}#sk-container-id-14 div.sk-estimator:hover {background-color: #d4ebff;}#sk-container-id-14 div.sk-parallel-item::after {content: \"\";width: 100%;border-bottom: 1px solid gray;flex-grow: 1;}#sk-container-id-14 div.sk-label:hover label.sk-toggleable__label {background-color: #d4ebff;}#sk-container-id-14 div.sk-serial::before {content: \"\";position: absolute;border-left: 1px solid gray;box-sizing: border-box;top: 0;bottom: 0;left: 50%;z-index: 0;}#sk-container-id-14 div.sk-serial {display: flex;flex-direction: column;align-items: center;background-color: white;padding-right: 0.2em;padding-left: 0.2em;position: relative;}#sk-container-id-14 div.sk-item {position: relative;z-index: 1;}#sk-container-id-14 div.sk-parallel {display: flex;align-items: stretch;justify-content: center;background-color: white;position: relative;}#sk-container-id-14 div.sk-item::before, #sk-container-id-14 div.sk-parallel-item::before {content: \"\";position: absolute;border-left: 1px solid gray;box-sizing: border-box;top: 0;bottom: 0;left: 50%;z-index: -1;}#sk-container-id-14 div.sk-parallel-item {display: flex;flex-direction: column;z-index: 1;position: relative;background-color: white;}#sk-container-id-14 div.sk-parallel-item:first-child::after {align-self: flex-end;width: 50%;}#sk-container-id-14 div.sk-parallel-item:last-child::after {align-self: flex-start;width: 50%;}#sk-container-id-14 div.sk-parallel-item:only-child::after {width: 0;}#sk-container-id-14 div.sk-dashed-wrapped {border: 1px dashed gray;margin: 0 0.4em 0.5em 0.4em;box-sizing: border-box;padding-bottom: 0.4em;background-color: white;}#sk-container-id-14 div.sk-label label {font-family: monospace;font-weight: bold;display: inline-block;line-height: 1.2em;}#sk-container-id-14 div.sk-label-container {text-align: center;}#sk-container-id-14 div.sk-container {/* jupyter's `normalize.less` sets `[hidden] { display: none; }` but bootstrap.min.css set `[hidden] { display: none !important; }` so we also need the `!important` here to be able to override the default hidden behavior on the sphinx rendered scikit-learn.org. See: https://github.com/scikit-learn/scikit-learn/issues/21755 */display: inline-block !important;position: relative;}#sk-container-id-14 div.sk-text-repr-fallback {display: none;}</style><div id=\"sk-container-id-14\" class=\"sk-top-container\"><div class=\"sk-text-repr-fallback\"><pre>SVC(kernel=&#x27;linear&#x27;, probability=True)</pre><b>In a Jupyter environment, please rerun this cell to show the HTML representation or trust the notebook. <br />On GitHub, the HTML representation is unable to render, please try loading this page with nbviewer.org.</b></div><div class=\"sk-container\" hidden><div class=\"sk-item\"><div class=\"sk-estimator sk-toggleable\"><input class=\"sk-toggleable__control sk-hidden--visually\" id=\"sk-estimator-id-14\" type=\"checkbox\" checked><label for=\"sk-estimator-id-14\" class=\"sk-toggleable__label sk-toggleable__label-arrow\">SVC</label><div class=\"sk-toggleable__content\"><pre>SVC(kernel=&#x27;linear&#x27;, probability=True)</pre></div></div></div></div></div>"
      ],
      "text/plain": [
       "SVC(kernel='linear', probability=True)"
      ]
     },
     "execution_count": 90,
     "metadata": {},
     "output_type": "execute_result"
    }
   ],
   "source": [
    "classifier = svm.SVC(probability=True, kernel=\"linear\")\n",
    "classifier.fit(X_train_stat, y_train_stat)"
   ]
  },
  {
   "cell_type": "code",
   "execution_count": 91,
   "metadata": {},
   "outputs": [
    {
     "name": "stdout",
     "output_type": "stream",
     "text": [
      "_________Test vs Prediction_________\n",
      "Idle:     318 vs 318\n",
      "Running:  540 vs 536\n",
      "Stairs:    46 vs 50\n",
      "Walking: 1035 vs 1035\n",
      "TOTAL:   1939\n",
      "____________________________________\n",
      "Score:    0.994914923128016\n",
      "Accuracy: 0.9948427024239299\n",
      "F1 Score: 0.9716349132589839\n",
      "____________________________________\n",
      "              precision    recall  f1-score   support\n",
      "\n",
      "        Idle       1.00      1.00      1.00       318\n",
      "     Running       0.99      0.99      0.99       540\n",
      "      Stairs       0.86      0.93      0.90        46\n",
      "     Walking       1.00      1.00      1.00      1035\n",
      "\n",
      "    accuracy                           0.99      1939\n",
      "   macro avg       0.96      0.98      0.97      1939\n",
      "weighted avg       1.00      0.99      0.99      1939\n",
      "\n"
     ]
    }
   ],
   "source": [
    "statistic_counter(classifier, X_train_stat, y_train_stat, X_test_stat, y_test_stat)\n",
    "accuracy_report(classifier, X_test_stat, y_test_stat)"
   ]
  },
  {
   "cell_type": "markdown",
   "metadata": {},
   "source": [
    "#### SVM Classifier on FFT Features (Frequency Domain)"
   ]
  },
  {
   "cell_type": "markdown",
   "metadata": {},
   "source": [
    "Data loading"
   ]
  },
  {
   "cell_type": "code",
   "execution_count": 92,
   "metadata": {},
   "outputs": [],
   "source": [
    "X, y = open_data_set(\"fft\")\n",
    "X_train_fft, X_test_fft, y_train_fft, y_test_fft = model_selection.train_test_split(X, y, test_size=0.3)"
   ]
  },
  {
   "cell_type": "markdown",
   "metadata": {},
   "source": [
    "Classifier \"one vs rest\", linear"
   ]
  },
  {
   "cell_type": "code",
   "execution_count": 93,
   "metadata": {},
   "outputs": [
    {
     "data": {
      "text/html": [
       "<style>#sk-container-id-15 {color: black;}#sk-container-id-15 pre{padding: 0;}#sk-container-id-15 div.sk-toggleable {background-color: white;}#sk-container-id-15 label.sk-toggleable__label {cursor: pointer;display: block;width: 100%;margin-bottom: 0;padding: 0.3em;box-sizing: border-box;text-align: center;}#sk-container-id-15 label.sk-toggleable__label-arrow:before {content: \"▸\";float: left;margin-right: 0.25em;color: #696969;}#sk-container-id-15 label.sk-toggleable__label-arrow:hover:before {color: black;}#sk-container-id-15 div.sk-estimator:hover label.sk-toggleable__label-arrow:before {color: black;}#sk-container-id-15 div.sk-toggleable__content {max-height: 0;max-width: 0;overflow: hidden;text-align: left;background-color: #f0f8ff;}#sk-container-id-15 div.sk-toggleable__content pre {margin: 0.2em;color: black;border-radius: 0.25em;background-color: #f0f8ff;}#sk-container-id-15 input.sk-toggleable__control:checked~div.sk-toggleable__content {max-height: 200px;max-width: 100%;overflow: auto;}#sk-container-id-15 input.sk-toggleable__control:checked~label.sk-toggleable__label-arrow:before {content: \"▾\";}#sk-container-id-15 div.sk-estimator input.sk-toggleable__control:checked~label.sk-toggleable__label {background-color: #d4ebff;}#sk-container-id-15 div.sk-label input.sk-toggleable__control:checked~label.sk-toggleable__label {background-color: #d4ebff;}#sk-container-id-15 input.sk-hidden--visually {border: 0;clip: rect(1px 1px 1px 1px);clip: rect(1px, 1px, 1px, 1px);height: 1px;margin: -1px;overflow: hidden;padding: 0;position: absolute;width: 1px;}#sk-container-id-15 div.sk-estimator {font-family: monospace;background-color: #f0f8ff;border: 1px dotted black;border-radius: 0.25em;box-sizing: border-box;margin-bottom: 0.5em;}#sk-container-id-15 div.sk-estimator:hover {background-color: #d4ebff;}#sk-container-id-15 div.sk-parallel-item::after {content: \"\";width: 100%;border-bottom: 1px solid gray;flex-grow: 1;}#sk-container-id-15 div.sk-label:hover label.sk-toggleable__label {background-color: #d4ebff;}#sk-container-id-15 div.sk-serial::before {content: \"\";position: absolute;border-left: 1px solid gray;box-sizing: border-box;top: 0;bottom: 0;left: 50%;z-index: 0;}#sk-container-id-15 div.sk-serial {display: flex;flex-direction: column;align-items: center;background-color: white;padding-right: 0.2em;padding-left: 0.2em;position: relative;}#sk-container-id-15 div.sk-item {position: relative;z-index: 1;}#sk-container-id-15 div.sk-parallel {display: flex;align-items: stretch;justify-content: center;background-color: white;position: relative;}#sk-container-id-15 div.sk-item::before, #sk-container-id-15 div.sk-parallel-item::before {content: \"\";position: absolute;border-left: 1px solid gray;box-sizing: border-box;top: 0;bottom: 0;left: 50%;z-index: -1;}#sk-container-id-15 div.sk-parallel-item {display: flex;flex-direction: column;z-index: 1;position: relative;background-color: white;}#sk-container-id-15 div.sk-parallel-item:first-child::after {align-self: flex-end;width: 50%;}#sk-container-id-15 div.sk-parallel-item:last-child::after {align-self: flex-start;width: 50%;}#sk-container-id-15 div.sk-parallel-item:only-child::after {width: 0;}#sk-container-id-15 div.sk-dashed-wrapped {border: 1px dashed gray;margin: 0 0.4em 0.5em 0.4em;box-sizing: border-box;padding-bottom: 0.4em;background-color: white;}#sk-container-id-15 div.sk-label label {font-family: monospace;font-weight: bold;display: inline-block;line-height: 1.2em;}#sk-container-id-15 div.sk-label-container {text-align: center;}#sk-container-id-15 div.sk-container {/* jupyter's `normalize.less` sets `[hidden] { display: none; }` but bootstrap.min.css set `[hidden] { display: none !important; }` so we also need the `!important` here to be able to override the default hidden behavior on the sphinx rendered scikit-learn.org. See: https://github.com/scikit-learn/scikit-learn/issues/21755 */display: inline-block !important;position: relative;}#sk-container-id-15 div.sk-text-repr-fallback {display: none;}</style><div id=\"sk-container-id-15\" class=\"sk-top-container\"><div class=\"sk-text-repr-fallback\"><pre>SVC(kernel=&#x27;linear&#x27;, probability=True)</pre><b>In a Jupyter environment, please rerun this cell to show the HTML representation or trust the notebook. <br />On GitHub, the HTML representation is unable to render, please try loading this page with nbviewer.org.</b></div><div class=\"sk-container\" hidden><div class=\"sk-item\"><div class=\"sk-estimator sk-toggleable\"><input class=\"sk-toggleable__control sk-hidden--visually\" id=\"sk-estimator-id-15\" type=\"checkbox\" checked><label for=\"sk-estimator-id-15\" class=\"sk-toggleable__label sk-toggleable__label-arrow\">SVC</label><div class=\"sk-toggleable__content\"><pre>SVC(kernel=&#x27;linear&#x27;, probability=True)</pre></div></div></div></div></div>"
      ],
      "text/plain": [
       "SVC(kernel='linear', probability=True)"
      ]
     },
     "execution_count": 93,
     "metadata": {},
     "output_type": "execute_result"
    }
   ],
   "source": [
    "classifier = svm.SVC(probability=True, kernel=\"linear\")\n",
    "classifier.fit(X_train_fft, y_train_fft)"
   ]
  },
  {
   "cell_type": "code",
   "execution_count": 94,
   "metadata": {},
   "outputs": [
    {
     "name": "stdout",
     "output_type": "stream",
     "text": [
      "_________Test vs Prediction_________\n",
      "Idle:     307 vs 312\n",
      "Running:  553 vs 561\n",
      "Stairs:    47 vs 39\n",
      "Walking: 1032 vs 1027\n",
      "TOTAL:   1939\n",
      "____________________________________\n",
      "Score:    0.9783342124284514\n",
      "Accuracy: 0.9767921609076844\n",
      "F1 Score: 0.8721177926229216\n",
      "____________________________________\n",
      "              precision    recall  f1-score   support\n",
      "\n",
      "        Idle       0.98      1.00      0.99       307\n",
      "     Running       0.96      0.97      0.96       553\n",
      "      Stairs       0.59      0.49      0.53        47\n",
      "     Walking       1.00      1.00      1.00      1032\n",
      "\n",
      "    accuracy                           0.98      1939\n",
      "   macro avg       0.88      0.86      0.87      1939\n",
      "weighted avg       0.98      0.98      0.98      1939\n",
      "\n"
     ]
    }
   ],
   "source": [
    "statistic_counter(classifier, X_train_fft, y_train_fft, X_test_fft, y_test_fft)\n",
    "accuracy_report(classifier, X_test_fft, y_test_fft)"
   ]
  },
  {
   "cell_type": "markdown",
   "metadata": {},
   "source": [
    "### Random Forest Classifier"
   ]
  },
  {
   "cell_type": "code",
   "execution_count": 95,
   "metadata": {},
   "outputs": [],
   "source": [
    "from sklearn.ensemble import RandomForestClassifier"
   ]
  },
  {
   "cell_type": "markdown",
   "metadata": {},
   "source": [
    "#### Random Forest on FFT & Statistic Features"
   ]
  },
  {
   "cell_type": "code",
   "execution_count": 96,
   "metadata": {},
   "outputs": [
    {
     "data": {
      "text/html": [
       "<style>#sk-container-id-16 {color: black;}#sk-container-id-16 pre{padding: 0;}#sk-container-id-16 div.sk-toggleable {background-color: white;}#sk-container-id-16 label.sk-toggleable__label {cursor: pointer;display: block;width: 100%;margin-bottom: 0;padding: 0.3em;box-sizing: border-box;text-align: center;}#sk-container-id-16 label.sk-toggleable__label-arrow:before {content: \"▸\";float: left;margin-right: 0.25em;color: #696969;}#sk-container-id-16 label.sk-toggleable__label-arrow:hover:before {color: black;}#sk-container-id-16 div.sk-estimator:hover label.sk-toggleable__label-arrow:before {color: black;}#sk-container-id-16 div.sk-toggleable__content {max-height: 0;max-width: 0;overflow: hidden;text-align: left;background-color: #f0f8ff;}#sk-container-id-16 div.sk-toggleable__content pre {margin: 0.2em;color: black;border-radius: 0.25em;background-color: #f0f8ff;}#sk-container-id-16 input.sk-toggleable__control:checked~div.sk-toggleable__content {max-height: 200px;max-width: 100%;overflow: auto;}#sk-container-id-16 input.sk-toggleable__control:checked~label.sk-toggleable__label-arrow:before {content: \"▾\";}#sk-container-id-16 div.sk-estimator input.sk-toggleable__control:checked~label.sk-toggleable__label {background-color: #d4ebff;}#sk-container-id-16 div.sk-label input.sk-toggleable__control:checked~label.sk-toggleable__label {background-color: #d4ebff;}#sk-container-id-16 input.sk-hidden--visually {border: 0;clip: rect(1px 1px 1px 1px);clip: rect(1px, 1px, 1px, 1px);height: 1px;margin: -1px;overflow: hidden;padding: 0;position: absolute;width: 1px;}#sk-container-id-16 div.sk-estimator {font-family: monospace;background-color: #f0f8ff;border: 1px dotted black;border-radius: 0.25em;box-sizing: border-box;margin-bottom: 0.5em;}#sk-container-id-16 div.sk-estimator:hover {background-color: #d4ebff;}#sk-container-id-16 div.sk-parallel-item::after {content: \"\";width: 100%;border-bottom: 1px solid gray;flex-grow: 1;}#sk-container-id-16 div.sk-label:hover label.sk-toggleable__label {background-color: #d4ebff;}#sk-container-id-16 div.sk-serial::before {content: \"\";position: absolute;border-left: 1px solid gray;box-sizing: border-box;top: 0;bottom: 0;left: 50%;z-index: 0;}#sk-container-id-16 div.sk-serial {display: flex;flex-direction: column;align-items: center;background-color: white;padding-right: 0.2em;padding-left: 0.2em;position: relative;}#sk-container-id-16 div.sk-item {position: relative;z-index: 1;}#sk-container-id-16 div.sk-parallel {display: flex;align-items: stretch;justify-content: center;background-color: white;position: relative;}#sk-container-id-16 div.sk-item::before, #sk-container-id-16 div.sk-parallel-item::before {content: \"\";position: absolute;border-left: 1px solid gray;box-sizing: border-box;top: 0;bottom: 0;left: 50%;z-index: -1;}#sk-container-id-16 div.sk-parallel-item {display: flex;flex-direction: column;z-index: 1;position: relative;background-color: white;}#sk-container-id-16 div.sk-parallel-item:first-child::after {align-self: flex-end;width: 50%;}#sk-container-id-16 div.sk-parallel-item:last-child::after {align-self: flex-start;width: 50%;}#sk-container-id-16 div.sk-parallel-item:only-child::after {width: 0;}#sk-container-id-16 div.sk-dashed-wrapped {border: 1px dashed gray;margin: 0 0.4em 0.5em 0.4em;box-sizing: border-box;padding-bottom: 0.4em;background-color: white;}#sk-container-id-16 div.sk-label label {font-family: monospace;font-weight: bold;display: inline-block;line-height: 1.2em;}#sk-container-id-16 div.sk-label-container {text-align: center;}#sk-container-id-16 div.sk-container {/* jupyter's `normalize.less` sets `[hidden] { display: none; }` but bootstrap.min.css set `[hidden] { display: none !important; }` so we also need the `!important` here to be able to override the default hidden behavior on the sphinx rendered scikit-learn.org. See: https://github.com/scikit-learn/scikit-learn/issues/21755 */display: inline-block !important;position: relative;}#sk-container-id-16 div.sk-text-repr-fallback {display: none;}</style><div id=\"sk-container-id-16\" class=\"sk-top-container\"><div class=\"sk-text-repr-fallback\"><pre>RandomForestClassifier(n_estimators=15)</pre><b>In a Jupyter environment, please rerun this cell to show the HTML representation or trust the notebook. <br />On GitHub, the HTML representation is unable to render, please try loading this page with nbviewer.org.</b></div><div class=\"sk-container\" hidden><div class=\"sk-item\"><div class=\"sk-estimator sk-toggleable\"><input class=\"sk-toggleable__control sk-hidden--visually\" id=\"sk-estimator-id-16\" type=\"checkbox\" checked><label for=\"sk-estimator-id-16\" class=\"sk-toggleable__label sk-toggleable__label-arrow\">RandomForestClassifier</label><div class=\"sk-toggleable__content\"><pre>RandomForestClassifier(n_estimators=15)</pre></div></div></div></div></div>"
      ],
      "text/plain": [
       "RandomForestClassifier(n_estimators=15)"
      ]
     },
     "execution_count": 96,
     "metadata": {},
     "output_type": "execute_result"
    }
   ],
   "source": [
    "classifier = RandomForestClassifier(n_estimators=15, max_depth=None)\n",
    "classifier.fit(X_train_all, y_train_all)"
   ]
  },
  {
   "cell_type": "code",
   "execution_count": 97,
   "metadata": {},
   "outputs": [
    {
     "name": "stdout",
     "output_type": "stream",
     "text": [
      "_________Test vs Prediction_________\n",
      "Idle:     307 vs 307\n",
      "Running:  566 vs 573\n",
      "Stairs:    50 vs 43\n",
      "Walking: 1016 vs 1016\n",
      "TOTAL:   1939\n",
      "____________________________________\n",
      "Score:    0.993812635527164\n",
      "Accuracy: 0.9963898916967509\n",
      "F1 Score: 0.9796463602292145\n",
      "____________________________________\n",
      "              precision    recall  f1-score   support\n",
      "\n",
      "        Idle       1.00      1.00      1.00       307\n",
      "     Running       0.99      1.00      0.99       566\n",
      "      Stairs       1.00      0.86      0.92        50\n",
      "     Walking       1.00      1.00      1.00      1016\n",
      "\n",
      "    accuracy                           1.00      1939\n",
      "   macro avg       1.00      0.96      0.98      1939\n",
      "weighted avg       1.00      1.00      1.00      1939\n",
      "\n"
     ]
    }
   ],
   "source": [
    "statistic_counter(classifier, X_train_all, y_train_all, X_test_all, y_test_all)\n",
    "accuracy_report(classifier, X_test_all, y_test_all)"
   ]
  },
  {
   "cell_type": "markdown",
   "metadata": {},
   "source": [
    "#### Random Forest on FFT Features"
   ]
  },
  {
   "cell_type": "code",
   "execution_count": 98,
   "metadata": {},
   "outputs": [
    {
     "data": {
      "text/html": [
       "<style>#sk-container-id-17 {color: black;}#sk-container-id-17 pre{padding: 0;}#sk-container-id-17 div.sk-toggleable {background-color: white;}#sk-container-id-17 label.sk-toggleable__label {cursor: pointer;display: block;width: 100%;margin-bottom: 0;padding: 0.3em;box-sizing: border-box;text-align: center;}#sk-container-id-17 label.sk-toggleable__label-arrow:before {content: \"▸\";float: left;margin-right: 0.25em;color: #696969;}#sk-container-id-17 label.sk-toggleable__label-arrow:hover:before {color: black;}#sk-container-id-17 div.sk-estimator:hover label.sk-toggleable__label-arrow:before {color: black;}#sk-container-id-17 div.sk-toggleable__content {max-height: 0;max-width: 0;overflow: hidden;text-align: left;background-color: #f0f8ff;}#sk-container-id-17 div.sk-toggleable__content pre {margin: 0.2em;color: black;border-radius: 0.25em;background-color: #f0f8ff;}#sk-container-id-17 input.sk-toggleable__control:checked~div.sk-toggleable__content {max-height: 200px;max-width: 100%;overflow: auto;}#sk-container-id-17 input.sk-toggleable__control:checked~label.sk-toggleable__label-arrow:before {content: \"▾\";}#sk-container-id-17 div.sk-estimator input.sk-toggleable__control:checked~label.sk-toggleable__label {background-color: #d4ebff;}#sk-container-id-17 div.sk-label input.sk-toggleable__control:checked~label.sk-toggleable__label {background-color: #d4ebff;}#sk-container-id-17 input.sk-hidden--visually {border: 0;clip: rect(1px 1px 1px 1px);clip: rect(1px, 1px, 1px, 1px);height: 1px;margin: -1px;overflow: hidden;padding: 0;position: absolute;width: 1px;}#sk-container-id-17 div.sk-estimator {font-family: monospace;background-color: #f0f8ff;border: 1px dotted black;border-radius: 0.25em;box-sizing: border-box;margin-bottom: 0.5em;}#sk-container-id-17 div.sk-estimator:hover {background-color: #d4ebff;}#sk-container-id-17 div.sk-parallel-item::after {content: \"\";width: 100%;border-bottom: 1px solid gray;flex-grow: 1;}#sk-container-id-17 div.sk-label:hover label.sk-toggleable__label {background-color: #d4ebff;}#sk-container-id-17 div.sk-serial::before {content: \"\";position: absolute;border-left: 1px solid gray;box-sizing: border-box;top: 0;bottom: 0;left: 50%;z-index: 0;}#sk-container-id-17 div.sk-serial {display: flex;flex-direction: column;align-items: center;background-color: white;padding-right: 0.2em;padding-left: 0.2em;position: relative;}#sk-container-id-17 div.sk-item {position: relative;z-index: 1;}#sk-container-id-17 div.sk-parallel {display: flex;align-items: stretch;justify-content: center;background-color: white;position: relative;}#sk-container-id-17 div.sk-item::before, #sk-container-id-17 div.sk-parallel-item::before {content: \"\";position: absolute;border-left: 1px solid gray;box-sizing: border-box;top: 0;bottom: 0;left: 50%;z-index: -1;}#sk-container-id-17 div.sk-parallel-item {display: flex;flex-direction: column;z-index: 1;position: relative;background-color: white;}#sk-container-id-17 div.sk-parallel-item:first-child::after {align-self: flex-end;width: 50%;}#sk-container-id-17 div.sk-parallel-item:last-child::after {align-self: flex-start;width: 50%;}#sk-container-id-17 div.sk-parallel-item:only-child::after {width: 0;}#sk-container-id-17 div.sk-dashed-wrapped {border: 1px dashed gray;margin: 0 0.4em 0.5em 0.4em;box-sizing: border-box;padding-bottom: 0.4em;background-color: white;}#sk-container-id-17 div.sk-label label {font-family: monospace;font-weight: bold;display: inline-block;line-height: 1.2em;}#sk-container-id-17 div.sk-label-container {text-align: center;}#sk-container-id-17 div.sk-container {/* jupyter's `normalize.less` sets `[hidden] { display: none; }` but bootstrap.min.css set `[hidden] { display: none !important; }` so we also need the `!important` here to be able to override the default hidden behavior on the sphinx rendered scikit-learn.org. See: https://github.com/scikit-learn/scikit-learn/issues/21755 */display: inline-block !important;position: relative;}#sk-container-id-17 div.sk-text-repr-fallback {display: none;}</style><div id=\"sk-container-id-17\" class=\"sk-top-container\"><div class=\"sk-text-repr-fallback\"><pre>RandomForestClassifier(n_estimators=15)</pre><b>In a Jupyter environment, please rerun this cell to show the HTML representation or trust the notebook. <br />On GitHub, the HTML representation is unable to render, please try loading this page with nbviewer.org.</b></div><div class=\"sk-container\" hidden><div class=\"sk-item\"><div class=\"sk-estimator sk-toggleable\"><input class=\"sk-toggleable__control sk-hidden--visually\" id=\"sk-estimator-id-17\" type=\"checkbox\" checked><label for=\"sk-estimator-id-17\" class=\"sk-toggleable__label sk-toggleable__label-arrow\">RandomForestClassifier</label><div class=\"sk-toggleable__content\"><pre>RandomForestClassifier(n_estimators=15)</pre></div></div></div></div></div>"
      ],
      "text/plain": [
       "RandomForestClassifier(n_estimators=15)"
      ]
     },
     "execution_count": 98,
     "metadata": {},
     "output_type": "execute_result"
    }
   ],
   "source": [
    "classifier = RandomForestClassifier(n_estimators=15, max_depth=None)\n",
    "classifier.fit(X_train_fft, y_train_fft)"
   ]
  },
  {
   "cell_type": "code",
   "execution_count": 99,
   "metadata": {},
   "outputs": [
    {
     "name": "stdout",
     "output_type": "stream",
     "text": [
      "_________Test vs Prediction_________\n",
      "Idle:     307 vs 307\n",
      "Running:  553 vs 590\n",
      "Stairs:    47 vs 10\n",
      "Walking: 1032 vs 1032\n",
      "TOTAL:   1939\n",
      "____________________________________\n",
      "Score:    0.9756793451718142\n",
      "Accuracy: 0.9798865394533265\n",
      "F1 Score: 0.8204171846940185\n",
      "____________________________________\n",
      "              precision    recall  f1-score   support\n",
      "\n",
      "        Idle       1.00      1.00      1.00       307\n",
      "     Running       0.94      1.00      0.97       553\n",
      "      Stairs       0.90      0.19      0.32        47\n",
      "     Walking       1.00      1.00      1.00      1032\n",
      "\n",
      "    accuracy                           0.98      1939\n",
      "   macro avg       0.96      0.80      0.82      1939\n",
      "weighted avg       0.98      0.98      0.97      1939\n",
      "\n"
     ]
    }
   ],
   "source": [
    "statistic_counter(classifier, X_train_fft, y_train_fft, X_test_fft, y_test_fft)\n",
    "accuracy_report(classifier, X_test_fft, y_test_fft)"
   ]
  },
  {
   "cell_type": "markdown",
   "metadata": {},
   "source": [
    "#### Random Forest on Statistic Features"
   ]
  },
  {
   "cell_type": "code",
   "execution_count": 100,
   "metadata": {},
   "outputs": [
    {
     "data": {
      "text/html": [
       "<style>#sk-container-id-18 {color: black;}#sk-container-id-18 pre{padding: 0;}#sk-container-id-18 div.sk-toggleable {background-color: white;}#sk-container-id-18 label.sk-toggleable__label {cursor: pointer;display: block;width: 100%;margin-bottom: 0;padding: 0.3em;box-sizing: border-box;text-align: center;}#sk-container-id-18 label.sk-toggleable__label-arrow:before {content: \"▸\";float: left;margin-right: 0.25em;color: #696969;}#sk-container-id-18 label.sk-toggleable__label-arrow:hover:before {color: black;}#sk-container-id-18 div.sk-estimator:hover label.sk-toggleable__label-arrow:before {color: black;}#sk-container-id-18 div.sk-toggleable__content {max-height: 0;max-width: 0;overflow: hidden;text-align: left;background-color: #f0f8ff;}#sk-container-id-18 div.sk-toggleable__content pre {margin: 0.2em;color: black;border-radius: 0.25em;background-color: #f0f8ff;}#sk-container-id-18 input.sk-toggleable__control:checked~div.sk-toggleable__content {max-height: 200px;max-width: 100%;overflow: auto;}#sk-container-id-18 input.sk-toggleable__control:checked~label.sk-toggleable__label-arrow:before {content: \"▾\";}#sk-container-id-18 div.sk-estimator input.sk-toggleable__control:checked~label.sk-toggleable__label {background-color: #d4ebff;}#sk-container-id-18 div.sk-label input.sk-toggleable__control:checked~label.sk-toggleable__label {background-color: #d4ebff;}#sk-container-id-18 input.sk-hidden--visually {border: 0;clip: rect(1px 1px 1px 1px);clip: rect(1px, 1px, 1px, 1px);height: 1px;margin: -1px;overflow: hidden;padding: 0;position: absolute;width: 1px;}#sk-container-id-18 div.sk-estimator {font-family: monospace;background-color: #f0f8ff;border: 1px dotted black;border-radius: 0.25em;box-sizing: border-box;margin-bottom: 0.5em;}#sk-container-id-18 div.sk-estimator:hover {background-color: #d4ebff;}#sk-container-id-18 div.sk-parallel-item::after {content: \"\";width: 100%;border-bottom: 1px solid gray;flex-grow: 1;}#sk-container-id-18 div.sk-label:hover label.sk-toggleable__label {background-color: #d4ebff;}#sk-container-id-18 div.sk-serial::before {content: \"\";position: absolute;border-left: 1px solid gray;box-sizing: border-box;top: 0;bottom: 0;left: 50%;z-index: 0;}#sk-container-id-18 div.sk-serial {display: flex;flex-direction: column;align-items: center;background-color: white;padding-right: 0.2em;padding-left: 0.2em;position: relative;}#sk-container-id-18 div.sk-item {position: relative;z-index: 1;}#sk-container-id-18 div.sk-parallel {display: flex;align-items: stretch;justify-content: center;background-color: white;position: relative;}#sk-container-id-18 div.sk-item::before, #sk-container-id-18 div.sk-parallel-item::before {content: \"\";position: absolute;border-left: 1px solid gray;box-sizing: border-box;top: 0;bottom: 0;left: 50%;z-index: -1;}#sk-container-id-18 div.sk-parallel-item {display: flex;flex-direction: column;z-index: 1;position: relative;background-color: white;}#sk-container-id-18 div.sk-parallel-item:first-child::after {align-self: flex-end;width: 50%;}#sk-container-id-18 div.sk-parallel-item:last-child::after {align-self: flex-start;width: 50%;}#sk-container-id-18 div.sk-parallel-item:only-child::after {width: 0;}#sk-container-id-18 div.sk-dashed-wrapped {border: 1px dashed gray;margin: 0 0.4em 0.5em 0.4em;box-sizing: border-box;padding-bottom: 0.4em;background-color: white;}#sk-container-id-18 div.sk-label label {font-family: monospace;font-weight: bold;display: inline-block;line-height: 1.2em;}#sk-container-id-18 div.sk-label-container {text-align: center;}#sk-container-id-18 div.sk-container {/* jupyter's `normalize.less` sets `[hidden] { display: none; }` but bootstrap.min.css set `[hidden] { display: none !important; }` so we also need the `!important` here to be able to override the default hidden behavior on the sphinx rendered scikit-learn.org. See: https://github.com/scikit-learn/scikit-learn/issues/21755 */display: inline-block !important;position: relative;}#sk-container-id-18 div.sk-text-repr-fallback {display: none;}</style><div id=\"sk-container-id-18\" class=\"sk-top-container\"><div class=\"sk-text-repr-fallback\"><pre>RandomForestClassifier(n_estimators=15)</pre><b>In a Jupyter environment, please rerun this cell to show the HTML representation or trust the notebook. <br />On GitHub, the HTML representation is unable to render, please try loading this page with nbviewer.org.</b></div><div class=\"sk-container\" hidden><div class=\"sk-item\"><div class=\"sk-estimator sk-toggleable\"><input class=\"sk-toggleable__control sk-hidden--visually\" id=\"sk-estimator-id-18\" type=\"checkbox\" checked><label for=\"sk-estimator-id-18\" class=\"sk-toggleable__label sk-toggleable__label-arrow\">RandomForestClassifier</label><div class=\"sk-toggleable__content\"><pre>RandomForestClassifier(n_estimators=15)</pre></div></div></div></div></div>"
      ],
      "text/plain": [
       "RandomForestClassifier(n_estimators=15)"
      ]
     },
     "execution_count": 100,
     "metadata": {},
     "output_type": "execute_result"
    }
   ],
   "source": [
    "classifier = RandomForestClassifier(n_estimators=15, max_depth=None)\n",
    "classifier.fit(X_train_stat, y_train_stat)"
   ]
  },
  {
   "cell_type": "code",
   "execution_count": 101,
   "metadata": {},
   "outputs": [
    {
     "name": "stdout",
     "output_type": "stream",
     "text": [
      "_________Test vs Prediction_________\n",
      "Idle:     318 vs 318\n",
      "Running:  540 vs 543\n",
      "Stairs:    46 vs 43\n",
      "Walking: 1035 vs 1035\n",
      "TOTAL:   1939\n",
      "____________________________________\n",
      "Score:    0.9982310652679285\n",
      "Accuracy: 0.998452810727179\n",
      "F1 Score: 0.9908805129322418\n",
      "____________________________________\n",
      "              precision    recall  f1-score   support\n",
      "\n",
      "        Idle       1.00      1.00      1.00       318\n",
      "     Running       0.99      1.00      1.00       540\n",
      "      Stairs       1.00      0.93      0.97        46\n",
      "     Walking       1.00      1.00      1.00      1035\n",
      "\n",
      "    accuracy                           1.00      1939\n",
      "   macro avg       1.00      0.98      0.99      1939\n",
      "weighted avg       1.00      1.00      1.00      1939\n",
      "\n"
     ]
    }
   ],
   "source": [
    "statistic_counter(classifier, X_train_stat, y_train_stat, X_test_stat, y_test_stat)\n",
    "accuracy_report(classifier, X_test_stat, y_test_stat)"
   ]
  },
  {
   "cell_type": "markdown",
   "metadata": {},
   "source": [
    "Feature Analysis"
   ]
  },
  {
   "cell_type": "code",
   "execution_count": 102,
   "metadata": {},
   "outputs": [
    {
     "name": "stdout",
     "output_type": "stream",
     "text": [
      "Feature importances scaled (x1000)\n",
      "skew_X   -->   0.6376617574489379\n",
      "skew_Y   -->   0.6772815967443817\n",
      "skew_Z   -->   0.833827416240516\n",
      "kurtosis_X   -->   0.2319360709387191\n",
      "kurtosis_Y   -->   0.46002430744964107\n",
      "kurtosis_Z   -->   0.6602301573913449\n",
      "max_X   -->   2.4352211998138324\n",
      "max_Y   -->   135.21178813182692\n",
      "max_Z   -->   2.0839304940058128\n",
      "min_X   -->   14.140298236392434\n",
      "min_Y   -->   66.3423652966186\n",
      "min_Z   -->   56.268286786481035\n",
      "mean_X   -->   3.496987455732717\n",
      "mean_Y   -->   127.01333227451936\n",
      "mean_Z   -->   37.972141847042494\n",
      "std_X   -->   3.3764114570991945\n",
      "std_Y   -->   39.19315933757605\n",
      "std_Z   -->   23.835900535512017\n",
      "variance_X   -->   22.54018995570122\n",
      "variance_Y   -->   78.40434574930755\n",
      "variance_Z   -->   26.385626429958165\n",
      "median_X   -->   9.489441632233596\n",
      "median_Y   -->   3.221524388690863\n",
      "median_Z   -->   3.7817749639507805\n",
      "index_max_X   -->   0.27234522838687875\n",
      "index_max_Y   -->   0.11356294804818388\n",
      "index_max_Z   -->   0.21020369881764794\n",
      "index_min_X   -->   0.6067559471189277\n",
      "index_min_Y   -->   0.8693753366627109\n",
      "index_min_Z   -->   0.5690609522601571\n",
      "correlation_X   -->   1.0436537983099445\n",
      "correlation_Y   -->   1.1099813530840799\n",
      "correlation_Z   -->   0.0\n",
      "mae_X   -->   59.58176554930328\n",
      "mae_Y   -->   118.0669420180041\n",
      "mae_Z   -->   58.9264053699388\n",
      "rmse_X   -->   57.707618999837266\n",
      "rmse_Y   -->   40.80452736497576\n",
      "rmse_Z   -->   1.424113956576279\n"
     ]
    }
   ],
   "source": [
    "feature_importance = classifier.feature_importances_\n",
    "\n",
    "print(\"Feature importances scaled (x1000)\")\n",
    "\n",
    "for item, feat in zip(feature_importance, features):\n",
    "    print(feat, \"  -->  \", item*1000)"
   ]
  },
  {
   "cell_type": "markdown",
   "metadata": {},
   "source": [
    "#### Conclusion: the best algorithm is the Random Forest on Statistical Features (Time Domain), it is the only one that has Score, Accuracy and F1 higher than 0.99."
   ]
  }
 ],
 "metadata": {
  "kernelspec": {
   "display_name": "Python 3",
   "language": "python",
   "name": "python3"
  },
  "language_info": {
   "codemirror_mode": {
    "name": "ipython",
    "version": 3
   },
   "file_extension": ".py",
   "mimetype": "text/x-python",
   "name": "python",
   "nbconvert_exporter": "python",
   "pygments_lexer": "ipython3",
   "version": "3.11.6"
  }
 },
 "nbformat": 4,
 "nbformat_minor": 2
}
